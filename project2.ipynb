{
 "cells": [
  {
   "cell_type": "markdown",
   "metadata": {},
   "source": [
    "# Mod 2 Project - Hypothesis Testing\n",
    "\n",
    "First we start by loading the libraries we'll need for this project"
   ]
  },
  {
   "cell_type": "code",
   "execution_count": 2,
   "metadata": {},
   "outputs": [],
   "source": [
    "import numpy as np\n",
    "import pandas as pd\n",
    "\n",
    "import matplotlib.pyplot as plt\n",
    "import seaborn as sns\n",
    "plt.style.use('ggplot')\n",
    "\n",
    "import sqlalchemy\n",
    "from sqlalchemy import create_engine, inspect\n",
    "from sqlalchemy.orm import Session, sessionmaker\n",
    "\n",
    "import statsmodels.api as sm\n",
    "from statsmodels.formula.api import ols\n",
    "from statsmodels.stats.multicomp import pairwise_tukeyhsd\n",
    "from statsmodels.stats.multicomp import MultiComparison\n",
    "\n",
    "from scipy.stats import ttest_1samp, ttest_ind\n",
    "from scipy.stats import levene, shapiro, mannwhitneyu, kruskal\n",
    "\n"
   ]
  },
  {
   "cell_type": "markdown",
   "metadata": {},
   "source": [
    "# Connect to Database"
   ]
  },
  {
   "cell_type": "markdown",
   "metadata": {},
   "source": [
    "Create a session to the Northwind sqlite database"
   ]
  },
  {
   "cell_type": "code",
   "execution_count": 3,
   "metadata": {},
   "outputs": [],
   "source": [
    "engine = create_engine(\"sqlite:///Northwind_small.sqlite\", echo=True)\n",
    "Session = sessionmaker(bind=engine)\n",
    "session = Session()"
   ]
  },
  {
   "cell_type": "markdown",
   "metadata": {},
   "source": [
    "Obtaining table names of database and table information"
   ]
  },
  {
   "cell_type": "code",
   "execution_count": 4,
   "metadata": {
    "scrolled": false
   },
   "outputs": [
    {
     "name": "stdout",
     "output_type": "stream",
     "text": [
      "2019-07-19 14:40:45,610 INFO sqlalchemy.engine.base.Engine SELECT CAST('test plain returns' AS VARCHAR(60)) AS anon_1\n",
      "2019-07-19 14:40:45,610 INFO sqlalchemy.engine.base.Engine ()\n",
      "2019-07-19 14:40:45,611 INFO sqlalchemy.engine.base.Engine SELECT CAST('test unicode returns' AS VARCHAR(60)) AS anon_1\n",
      "2019-07-19 14:40:45,612 INFO sqlalchemy.engine.base.Engine ()\n",
      "2019-07-19 14:40:45,613 INFO sqlalchemy.engine.base.Engine SELECT name FROM sqlite_master WHERE type='table' ORDER BY name\n",
      "2019-07-19 14:40:45,614 INFO sqlalchemy.engine.base.Engine ()\n",
      "['Category', 'Customer', 'CustomerCustomerDemo', 'CustomerDemographic', 'Employee', 'EmployeeTerritory', 'Order', 'OrderDetail', 'Product', 'Region', 'Shipper', 'Supplier', 'Territory']\n"
     ]
    }
   ],
   "source": [
    "inspector = inspect(engine)\n",
    "print(inspector.get_table_names())"
   ]
  },
  {
   "cell_type": "markdown",
   "metadata": {},
   "source": [
    "In order to understand the Column Names better, we can use a function that will print the column name and the type of information stored in each column. This helps us to see what is listed in each table of our data"
   ]
  },
  {
   "cell_type": "code",
   "execution_count": 5,
   "metadata": {},
   "outputs": [],
   "source": [
    "# Function to print out the names of the columns\n",
    "def get_columns_info(col_name):\n",
    "    cols_list = inspector.get_columns(col_name)\n",
    "    \n",
    "    print(\"Table Name: {}\".format(col_name))\n",
    "    print(\"\")\n",
    "    \n",
    "    for column in cols_list:\n",
    "        print(\"Name: {} \\t Type: {}\".format(column['name'], column['type']))\n"
   ]
  },
  {
   "cell_type": "code",
   "execution_count": 6,
   "metadata": {
    "scrolled": true
   },
   "outputs": [
    {
     "name": "stdout",
     "output_type": "stream",
     "text": [
      "2019-07-19 14:40:46,114 INFO sqlalchemy.engine.base.Engine PRAGMA table_info(\"Order\")\n",
      "2019-07-19 14:40:46,115 INFO sqlalchemy.engine.base.Engine ()\n",
      "Table Name: Order\n",
      "\n",
      "Name: Id \t Type: INTEGER\n",
      "Name: CustomerId \t Type: VARCHAR(8000)\n",
      "Name: EmployeeId \t Type: INTEGER\n",
      "Name: OrderDate \t Type: VARCHAR(8000)\n",
      "Name: RequiredDate \t Type: VARCHAR(8000)\n",
      "Name: ShippedDate \t Type: VARCHAR(8000)\n",
      "Name: ShipVia \t Type: INTEGER\n",
      "Name: Freight \t Type: DECIMAL\n",
      "Name: ShipName \t Type: VARCHAR(8000)\n",
      "Name: ShipAddress \t Type: VARCHAR(8000)\n",
      "Name: ShipCity \t Type: VARCHAR(8000)\n",
      "Name: ShipRegion \t Type: VARCHAR(8000)\n",
      "Name: ShipPostalCode \t Type: VARCHAR(8000)\n",
      "Name: ShipCountry \t Type: VARCHAR(8000)\n"
     ]
    }
   ],
   "source": [
    "#Try Function on Order\n",
    "get_columns_info('Order')"
   ]
  },
  {
   "cell_type": "markdown",
   "metadata": {},
   "source": [
    "Cool, looks like the function is working. We can use this to explore some of the data to see how well it matches to what we expect. Let's look at these a little further to get an idea of our data"
   ]
  },
  {
   "cell_type": "code",
   "execution_count": 7,
   "metadata": {
    "scrolled": false
   },
   "outputs": [
    {
     "name": "stdout",
     "output_type": "stream",
     "text": [
      "2019-07-19 14:40:46,530 INFO sqlalchemy.engine.base.Engine PRAGMA table_info(\"Product\")\n",
      "2019-07-19 14:40:46,530 INFO sqlalchemy.engine.base.Engine ()\n",
      "Table Name: Product\n",
      "\n",
      "Name: Id \t Type: INTEGER\n",
      "Name: ProductName \t Type: VARCHAR(8000)\n",
      "Name: SupplierId \t Type: INTEGER\n",
      "Name: CategoryId \t Type: INTEGER\n",
      "Name: QuantityPerUnit \t Type: VARCHAR(8000)\n",
      "Name: UnitPrice \t Type: DECIMAL\n",
      "Name: UnitsInStock \t Type: INTEGER\n",
      "Name: UnitsOnOrder \t Type: INTEGER\n",
      "Name: ReorderLevel \t Type: INTEGER\n",
      "Name: Discontinued \t Type: INTEGER\n",
      "None\n",
      "2019-07-19 14:40:46,533 INFO sqlalchemy.engine.base.Engine PRAGMA table_info(\"OrderDetail\")\n",
      "2019-07-19 14:40:46,534 INFO sqlalchemy.engine.base.Engine ()\n",
      "Table Name: OrderDetail\n",
      "\n",
      "Name: Id \t Type: VARCHAR(8000)\n",
      "Name: OrderId \t Type: INTEGER\n",
      "Name: ProductId \t Type: INTEGER\n",
      "Name: UnitPrice \t Type: DECIMAL\n",
      "Name: Quantity \t Type: INTEGER\n",
      "Name: Discount \t Type: FLOAT\n",
      "None\n",
      "Table Name: Order\n",
      "\n",
      "Name: Id \t Type: INTEGER\n",
      "Name: CustomerId \t Type: VARCHAR(8000)\n",
      "Name: EmployeeId \t Type: INTEGER\n",
      "Name: OrderDate \t Type: VARCHAR(8000)\n",
      "Name: RequiredDate \t Type: VARCHAR(8000)\n",
      "Name: ShippedDate \t Type: VARCHAR(8000)\n",
      "Name: ShipVia \t Type: INTEGER\n",
      "Name: Freight \t Type: DECIMAL\n",
      "Name: ShipName \t Type: VARCHAR(8000)\n",
      "Name: ShipAddress \t Type: VARCHAR(8000)\n",
      "Name: ShipCity \t Type: VARCHAR(8000)\n",
      "Name: ShipRegion \t Type: VARCHAR(8000)\n",
      "Name: ShipPostalCode \t Type: VARCHAR(8000)\n",
      "Name: ShipCountry \t Type: VARCHAR(8000)\n",
      "None\n"
     ]
    }
   ],
   "source": [
    "# Checking the Other Tables\n",
    "print(get_columns_info('Product'))\n",
    "print(get_columns_info('OrderDetail'))\n",
    "print(get_columns_info('Order'))"
   ]
  },
  {
   "cell_type": "code",
   "execution_count": 8,
   "metadata": {
    "scrolled": false
   },
   "outputs": [],
   "source": [
    "#Create a connection to engine\n",
    "con = engine.connect()"
   ]
  },
  {
   "cell_type": "code",
   "execution_count": 9,
   "metadata": {
    "scrolled": true
   },
   "outputs": [
    {
     "name": "stdout",
     "output_type": "stream",
     "text": [
      "2019-07-19 14:40:47,237 INFO sqlalchemy.engine.base.Engine SELECT * FROM [Order]\n",
      "2019-07-19 14:40:47,238 INFO sqlalchemy.engine.base.Engine ()\n"
     ]
    },
    {
     "data": {
      "text/html": [
       "<div>\n",
       "<style scoped>\n",
       "    .dataframe tbody tr th:only-of-type {\n",
       "        vertical-align: middle;\n",
       "    }\n",
       "\n",
       "    .dataframe tbody tr th {\n",
       "        vertical-align: top;\n",
       "    }\n",
       "\n",
       "    .dataframe thead th {\n",
       "        text-align: right;\n",
       "    }\n",
       "</style>\n",
       "<table border=\"1\" class=\"dataframe\">\n",
       "  <thead>\n",
       "    <tr style=\"text-align: right;\">\n",
       "      <th></th>\n",
       "      <th>Id</th>\n",
       "      <th>CustomerId</th>\n",
       "      <th>EmployeeId</th>\n",
       "      <th>OrderDate</th>\n",
       "      <th>RequiredDate</th>\n",
       "      <th>ShippedDate</th>\n",
       "      <th>ShipVia</th>\n",
       "      <th>Freight</th>\n",
       "      <th>ShipName</th>\n",
       "      <th>ShipAddress</th>\n",
       "      <th>ShipCity</th>\n",
       "      <th>ShipRegion</th>\n",
       "      <th>ShipPostalCode</th>\n",
       "      <th>ShipCountry</th>\n",
       "    </tr>\n",
       "  </thead>\n",
       "  <tbody>\n",
       "    <tr>\n",
       "      <th>0</th>\n",
       "      <td>10248</td>\n",
       "      <td>VINET</td>\n",
       "      <td>5</td>\n",
       "      <td>2012-07-04</td>\n",
       "      <td>2012-08-01</td>\n",
       "      <td>2012-07-16</td>\n",
       "      <td>3</td>\n",
       "      <td>32.38</td>\n",
       "      <td>Vins et alcools Chevalier</td>\n",
       "      <td>59 rue de l'Abbaye</td>\n",
       "      <td>Reims</td>\n",
       "      <td>Western Europe</td>\n",
       "      <td>51100</td>\n",
       "      <td>France</td>\n",
       "    </tr>\n",
       "    <tr>\n",
       "      <th>1</th>\n",
       "      <td>10249</td>\n",
       "      <td>TOMSP</td>\n",
       "      <td>6</td>\n",
       "      <td>2012-07-05</td>\n",
       "      <td>2012-08-16</td>\n",
       "      <td>2012-07-10</td>\n",
       "      <td>1</td>\n",
       "      <td>11.61</td>\n",
       "      <td>Toms Spezialitäten</td>\n",
       "      <td>Luisenstr. 48</td>\n",
       "      <td>Münster</td>\n",
       "      <td>Western Europe</td>\n",
       "      <td>44087</td>\n",
       "      <td>Germany</td>\n",
       "    </tr>\n",
       "    <tr>\n",
       "      <th>2</th>\n",
       "      <td>10250</td>\n",
       "      <td>HANAR</td>\n",
       "      <td>4</td>\n",
       "      <td>2012-07-08</td>\n",
       "      <td>2012-08-05</td>\n",
       "      <td>2012-07-12</td>\n",
       "      <td>2</td>\n",
       "      <td>65.83</td>\n",
       "      <td>Hanari Carnes</td>\n",
       "      <td>Rua do Paço, 67</td>\n",
       "      <td>Rio de Janeiro</td>\n",
       "      <td>South America</td>\n",
       "      <td>05454-876</td>\n",
       "      <td>Brazil</td>\n",
       "    </tr>\n",
       "    <tr>\n",
       "      <th>3</th>\n",
       "      <td>10251</td>\n",
       "      <td>VICTE</td>\n",
       "      <td>3</td>\n",
       "      <td>2012-07-08</td>\n",
       "      <td>2012-08-05</td>\n",
       "      <td>2012-07-15</td>\n",
       "      <td>1</td>\n",
       "      <td>41.34</td>\n",
       "      <td>Victuailles en stock</td>\n",
       "      <td>2, rue du Commerce</td>\n",
       "      <td>Lyon</td>\n",
       "      <td>Western Europe</td>\n",
       "      <td>69004</td>\n",
       "      <td>France</td>\n",
       "    </tr>\n",
       "    <tr>\n",
       "      <th>4</th>\n",
       "      <td>10252</td>\n",
       "      <td>SUPRD</td>\n",
       "      <td>4</td>\n",
       "      <td>2012-07-09</td>\n",
       "      <td>2012-08-06</td>\n",
       "      <td>2012-07-11</td>\n",
       "      <td>2</td>\n",
       "      <td>51.30</td>\n",
       "      <td>Suprêmes délices</td>\n",
       "      <td>Boulevard Tirou, 255</td>\n",
       "      <td>Charleroi</td>\n",
       "      <td>Western Europe</td>\n",
       "      <td>B-6000</td>\n",
       "      <td>Belgium</td>\n",
       "    </tr>\n",
       "  </tbody>\n",
       "</table>\n",
       "</div>"
      ],
      "text/plain": [
       "      Id CustomerId  EmployeeId   OrderDate RequiredDate ShippedDate  ShipVia  \\\n",
       "0  10248      VINET           5  2012-07-04   2012-08-01  2012-07-16        3   \n",
       "1  10249      TOMSP           6  2012-07-05   2012-08-16  2012-07-10        1   \n",
       "2  10250      HANAR           4  2012-07-08   2012-08-05  2012-07-12        2   \n",
       "3  10251      VICTE           3  2012-07-08   2012-08-05  2012-07-15        1   \n",
       "4  10252      SUPRD           4  2012-07-09   2012-08-06  2012-07-11        2   \n",
       "\n",
       "   Freight                   ShipName           ShipAddress        ShipCity  \\\n",
       "0    32.38  Vins et alcools Chevalier    59 rue de l'Abbaye           Reims   \n",
       "1    11.61         Toms Spezialitäten         Luisenstr. 48         Münster   \n",
       "2    65.83              Hanari Carnes       Rua do Paço, 67  Rio de Janeiro   \n",
       "3    41.34       Victuailles en stock    2, rue du Commerce            Lyon   \n",
       "4    51.30           Suprêmes délices  Boulevard Tirou, 255       Charleroi   \n",
       "\n",
       "       ShipRegion ShipPostalCode ShipCountry  \n",
       "0  Western Europe          51100      France  \n",
       "1  Western Europe          44087     Germany  \n",
       "2   South America      05454-876      Brazil  \n",
       "3  Western Europe          69004      France  \n",
       "4  Western Europe         B-6000     Belgium  "
      ]
     },
     "execution_count": 9,
     "metadata": {},
     "output_type": "execute_result"
    }
   ],
   "source": [
    "# Practice Query and store into dataframe\n",
    "q = '''SELECT * FROM [Order]''' #simple query\n",
    "df_order = pd.read_sql_query(q, engine)\n",
    "df_order.head()"
   ]
  },
  {
   "cell_type": "code",
   "execution_count": 10,
   "metadata": {},
   "outputs": [
    {
     "name": "stdout",
     "output_type": "stream",
     "text": [
      "2019-07-19 14:40:47,420 INFO sqlalchemy.engine.base.Engine PRAGMA table_info(\"Employee\")\n",
      "2019-07-19 14:40:47,421 INFO sqlalchemy.engine.base.Engine ()\n",
      "Table Name: Employee\n",
      "\n",
      "Name: Id \t Type: INTEGER\n",
      "Name: LastName \t Type: VARCHAR(8000)\n",
      "Name: FirstName \t Type: VARCHAR(8000)\n",
      "Name: Title \t Type: VARCHAR(8000)\n",
      "Name: TitleOfCourtesy \t Type: VARCHAR(8000)\n",
      "Name: BirthDate \t Type: VARCHAR(8000)\n",
      "Name: HireDate \t Type: VARCHAR(8000)\n",
      "Name: Address \t Type: VARCHAR(8000)\n",
      "Name: City \t Type: VARCHAR(8000)\n",
      "Name: Region \t Type: VARCHAR(8000)\n",
      "Name: PostalCode \t Type: VARCHAR(8000)\n",
      "Name: Country \t Type: VARCHAR(8000)\n",
      "Name: HomePhone \t Type: VARCHAR(8000)\n",
      "Name: Extension \t Type: VARCHAR(8000)\n",
      "Name: Photo \t Type: BLOB\n",
      "Name: Notes \t Type: VARCHAR(8000)\n",
      "Name: ReportsTo \t Type: INTEGER\n",
      "Name: PhotoPath \t Type: VARCHAR(8000)\n",
      "None\n"
     ]
    }
   ],
   "source": [
    "print(get_columns_info('Employee'))"
   ]
  },
  {
   "cell_type": "markdown",
   "metadata": {},
   "source": [
    "# Hypothesis 1: Discounts"
   ]
  },
  {
   "cell_type": "code",
   "execution_count": 13,
   "metadata": {},
   "outputs": [
    {
     "name": "stdout",
     "output_type": "stream",
     "text": [
      "2019-07-19 14:40:48,342 INFO sqlalchemy.engine.base.Engine SELECT OrderID, ProductID, Discount FROM OrderDetail\n",
      "2019-07-19 14:40:48,343 INFO sqlalchemy.engine.base.Engine ()\n"
     ]
    },
    {
     "data": {
      "text/html": [
       "<div>\n",
       "<style scoped>\n",
       "    .dataframe tbody tr th:only-of-type {\n",
       "        vertical-align: middle;\n",
       "    }\n",
       "\n",
       "    .dataframe tbody tr th {\n",
       "        vertical-align: top;\n",
       "    }\n",
       "\n",
       "    .dataframe thead th {\n",
       "        text-align: right;\n",
       "    }\n",
       "</style>\n",
       "<table border=\"1\" class=\"dataframe\">\n",
       "  <thead>\n",
       "    <tr style=\"text-align: right;\">\n",
       "      <th></th>\n",
       "      <th>OrderId</th>\n",
       "      <th>ProductId</th>\n",
       "      <th>Discount</th>\n",
       "    </tr>\n",
       "  </thead>\n",
       "  <tbody>\n",
       "    <tr>\n",
       "      <th>0</th>\n",
       "      <td>10248</td>\n",
       "      <td>11</td>\n",
       "      <td>0.00</td>\n",
       "    </tr>\n",
       "    <tr>\n",
       "      <th>1</th>\n",
       "      <td>10248</td>\n",
       "      <td>42</td>\n",
       "      <td>0.00</td>\n",
       "    </tr>\n",
       "    <tr>\n",
       "      <th>2</th>\n",
       "      <td>10248</td>\n",
       "      <td>72</td>\n",
       "      <td>0.00</td>\n",
       "    </tr>\n",
       "    <tr>\n",
       "      <th>3</th>\n",
       "      <td>10249</td>\n",
       "      <td>14</td>\n",
       "      <td>0.00</td>\n",
       "    </tr>\n",
       "    <tr>\n",
       "      <th>4</th>\n",
       "      <td>10249</td>\n",
       "      <td>51</td>\n",
       "      <td>0.00</td>\n",
       "    </tr>\n",
       "    <tr>\n",
       "      <th>5</th>\n",
       "      <td>10250</td>\n",
       "      <td>41</td>\n",
       "      <td>0.00</td>\n",
       "    </tr>\n",
       "    <tr>\n",
       "      <th>6</th>\n",
       "      <td>10250</td>\n",
       "      <td>51</td>\n",
       "      <td>0.15</td>\n",
       "    </tr>\n",
       "    <tr>\n",
       "      <th>7</th>\n",
       "      <td>10250</td>\n",
       "      <td>65</td>\n",
       "      <td>0.15</td>\n",
       "    </tr>\n",
       "    <tr>\n",
       "      <th>8</th>\n",
       "      <td>10251</td>\n",
       "      <td>22</td>\n",
       "      <td>0.05</td>\n",
       "    </tr>\n",
       "    <tr>\n",
       "      <th>9</th>\n",
       "      <td>10251</td>\n",
       "      <td>57</td>\n",
       "      <td>0.05</td>\n",
       "    </tr>\n",
       "    <tr>\n",
       "      <th>10</th>\n",
       "      <td>10251</td>\n",
       "      <td>65</td>\n",
       "      <td>0.00</td>\n",
       "    </tr>\n",
       "    <tr>\n",
       "      <th>11</th>\n",
       "      <td>10252</td>\n",
       "      <td>20</td>\n",
       "      <td>0.05</td>\n",
       "    </tr>\n",
       "    <tr>\n",
       "      <th>12</th>\n",
       "      <td>10252</td>\n",
       "      <td>33</td>\n",
       "      <td>0.05</td>\n",
       "    </tr>\n",
       "    <tr>\n",
       "      <th>13</th>\n",
       "      <td>10252</td>\n",
       "      <td>60</td>\n",
       "      <td>0.00</td>\n",
       "    </tr>\n",
       "    <tr>\n",
       "      <th>14</th>\n",
       "      <td>10253</td>\n",
       "      <td>31</td>\n",
       "      <td>0.00</td>\n",
       "    </tr>\n",
       "  </tbody>\n",
       "</table>\n",
       "</div>"
      ],
      "text/plain": [
       "    OrderId  ProductId  Discount\n",
       "0     10248         11      0.00\n",
       "1     10248         42      0.00\n",
       "2     10248         72      0.00\n",
       "3     10249         14      0.00\n",
       "4     10249         51      0.00\n",
       "5     10250         41      0.00\n",
       "6     10250         51      0.15\n",
       "7     10250         65      0.15\n",
       "8     10251         22      0.05\n",
       "9     10251         57      0.05\n",
       "10    10251         65      0.00\n",
       "11    10252         20      0.05\n",
       "12    10252         33      0.05\n",
       "13    10252         60      0.00\n",
       "14    10253         31      0.00"
      ]
     },
     "execution_count": 13,
     "metadata": {},
     "output_type": "execute_result"
    }
   ],
   "source": [
    "# Test first Hypothesis\n",
    "q = '''SELECT OrderID, ProductID, Discount FROM OrderDetail'''\n",
    "\n",
    "df_h1 = pd.read_sql_query(q, engine)\n",
    "df_h1.head(15)"
   ]
  },
  {
   "cell_type": "markdown",
   "metadata": {},
   "source": [
    "Since there are multiple discounts across orders, it would be best to sort by unique discounts"
   ]
  },
  {
   "cell_type": "code",
   "execution_count": 14,
   "metadata": {
    "scrolled": true
   },
   "outputs": [
    {
     "data": {
      "text/plain": [
       "array([0.  , 0.15, 0.05, 0.2 , 0.25, 0.1 , 0.02, 0.03, 0.04, 0.06, 0.01])"
      ]
     },
     "execution_count": 14,
     "metadata": {},
     "output_type": "execute_result"
    }
   ],
   "source": [
    "df_h1.Discount.unique()"
   ]
  },
  {
   "cell_type": "code",
   "execution_count": 15,
   "metadata": {},
   "outputs": [
    {
     "data": {
      "text/plain": [
       "830"
      ]
     },
     "execution_count": 15,
     "metadata": {},
     "output_type": "execute_result"
    }
   ],
   "source": [
    "# unique order number\n",
    "order_nums = df_h1.OrderId.unique()\n",
    "len(order_nums)"
   ]
  },
  {
   "cell_type": "code",
   "execution_count": 16,
   "metadata": {},
   "outputs": [],
   "source": [
    "dc = {}\n",
    "for num in order_nums:\n",
    "    k = num\n",
    "    val = [len(df_h1[df_h1.OrderId == num]), df_h1.Discount[df_h1.OrderId == num].max()]\n",
    "    dc[k] = val"
   ]
  },
  {
   "cell_type": "code",
   "execution_count": 17,
   "metadata": {
    "scrolled": true
   },
   "outputs": [
    {
     "data": {
      "text/html": [
       "<div>\n",
       "<style scoped>\n",
       "    .dataframe tbody tr th:only-of-type {\n",
       "        vertical-align: middle;\n",
       "    }\n",
       "\n",
       "    .dataframe tbody tr th {\n",
       "        vertical-align: top;\n",
       "    }\n",
       "\n",
       "    .dataframe thead th {\n",
       "        text-align: right;\n",
       "    }\n",
       "</style>\n",
       "<table border=\"1\" class=\"dataframe\">\n",
       "  <thead>\n",
       "    <tr style=\"text-align: right;\">\n",
       "      <th></th>\n",
       "      <th>0</th>\n",
       "      <th>1</th>\n",
       "    </tr>\n",
       "  </thead>\n",
       "  <tbody>\n",
       "    <tr>\n",
       "      <th>10248</th>\n",
       "      <td>3</td>\n",
       "      <td>0.00</td>\n",
       "    </tr>\n",
       "    <tr>\n",
       "      <th>10249</th>\n",
       "      <td>2</td>\n",
       "      <td>0.00</td>\n",
       "    </tr>\n",
       "    <tr>\n",
       "      <th>10250</th>\n",
       "      <td>3</td>\n",
       "      <td>0.15</td>\n",
       "    </tr>\n",
       "    <tr>\n",
       "      <th>10251</th>\n",
       "      <td>3</td>\n",
       "      <td>0.05</td>\n",
       "    </tr>\n",
       "    <tr>\n",
       "      <th>10252</th>\n",
       "      <td>3</td>\n",
       "      <td>0.05</td>\n",
       "    </tr>\n",
       "  </tbody>\n",
       "</table>\n",
       "</div>"
      ],
      "text/plain": [
       "       0     1\n",
       "10248  3  0.00\n",
       "10249  2  0.00\n",
       "10250  3  0.15\n",
       "10251  3  0.05\n",
       "10252  3  0.05"
      ]
     },
     "execution_count": 17,
     "metadata": {},
     "output_type": "execute_result"
    }
   ],
   "source": [
    "# Create dataframe from new dictionary\n",
    "df_orders = pd.DataFrame.from_dict(dc, orient = 'index')\n",
    "df_orders.head()"
   ]
  },
  {
   "cell_type": "code",
   "execution_count": 18,
   "metadata": {},
   "outputs": [
    {
     "data": {
      "text/plain": [
       "830"
      ]
     },
     "execution_count": 18,
     "metadata": {},
     "output_type": "execute_result"
    }
   ],
   "source": [
    "# Check to make sure\n",
    "len(df_orders)"
   ]
  },
  {
   "cell_type": "code",
   "execution_count": 19,
   "metadata": {},
   "outputs": [
    {
     "data": {
      "text/html": [
       "<div>\n",
       "<style scoped>\n",
       "    .dataframe tbody tr th:only-of-type {\n",
       "        vertical-align: middle;\n",
       "    }\n",
       "\n",
       "    .dataframe tbody tr th {\n",
       "        vertical-align: top;\n",
       "    }\n",
       "\n",
       "    .dataframe thead th {\n",
       "        text-align: right;\n",
       "    }\n",
       "</style>\n",
       "<table border=\"1\" class=\"dataframe\">\n",
       "  <thead>\n",
       "    <tr style=\"text-align: right;\">\n",
       "      <th></th>\n",
       "      <th>id</th>\n",
       "      <th>quantity</th>\n",
       "      <th>discount</th>\n",
       "    </tr>\n",
       "  </thead>\n",
       "  <tbody>\n",
       "    <tr>\n",
       "      <th>0</th>\n",
       "      <td>10248</td>\n",
       "      <td>3</td>\n",
       "      <td>0.00</td>\n",
       "    </tr>\n",
       "    <tr>\n",
       "      <th>1</th>\n",
       "      <td>10249</td>\n",
       "      <td>2</td>\n",
       "      <td>0.00</td>\n",
       "    </tr>\n",
       "    <tr>\n",
       "      <th>2</th>\n",
       "      <td>10250</td>\n",
       "      <td>3</td>\n",
       "      <td>0.15</td>\n",
       "    </tr>\n",
       "    <tr>\n",
       "      <th>3</th>\n",
       "      <td>10251</td>\n",
       "      <td>3</td>\n",
       "      <td>0.05</td>\n",
       "    </tr>\n",
       "    <tr>\n",
       "      <th>4</th>\n",
       "      <td>10252</td>\n",
       "      <td>3</td>\n",
       "      <td>0.05</td>\n",
       "    </tr>\n",
       "  </tbody>\n",
       "</table>\n",
       "</div>"
      ],
      "text/plain": [
       "      id  quantity  discount\n",
       "0  10248         3      0.00\n",
       "1  10249         2      0.00\n",
       "2  10250         3      0.15\n",
       "3  10251         3      0.05\n",
       "4  10252         3      0.05"
      ]
     },
     "execution_count": 19,
     "metadata": {},
     "output_type": "execute_result"
    }
   ],
   "source": [
    "# Rename Columns and add index\n",
    "df_orders.reset_index(inplace = True)\n",
    "df_orders.columns = ['id', 'quantity', 'discount']\n",
    "df_orders.head()"
   ]
  },
  {
   "cell_type": "code",
   "execution_count": 20,
   "metadata": {},
   "outputs": [
    {
     "data": {
      "text/plain": [
       "0.00    450\n",
       "0.05     86\n",
       "0.15     75\n",
       "0.10     74\n",
       "0.20     73\n",
       "0.25     72\n",
       "Name: discount, dtype: int64"
      ]
     },
     "execution_count": 20,
     "metadata": {},
     "output_type": "execute_result"
    }
   ],
   "source": [
    "# Explore Value counts and shape of data\n",
    "df_orders.discount.value_counts()"
   ]
  },
  {
   "cell_type": "code",
   "execution_count": 21,
   "metadata": {
    "scrolled": true
   },
   "outputs": [
    {
     "data": {
      "image/png": "[encoded data removed]",
      "text/plain": [
       "<Figure size 864x864 with 1 Axes>"
      ]
     },
     "metadata": {
      "needs_background": "light"
     },
     "output_type": "display_data"
    }
   ],
   "source": [
    "# Visualize Data\n",
    "plt.figure(figsize=(12,12))\n",
    "sns.boxplot(y='quantity',x='discount', data=df_orders)\n",
    "plt.title('Distribution of data at dicount levels')\n",
    "plt.xlabel('Max discount given per order')\n",
    "plt.ylabel('Number of items in order');\n"
   ]
  },
  {
   "cell_type": "code",
   "execution_count": 22,
   "metadata": {},
   "outputs": [],
   "source": [
    "# There seems to be an outlier at .2\n",
    "highest = df_orders.quantity[df_orders.discount == .2].max()\n",
    "dex = df_orders[df_orders.quantity == highest].index\n",
    "df_orders.drop(index = dex, inplace = True)"
   ]
  },
  {
   "cell_type": "code",
   "execution_count": 23,
   "metadata": {},
   "outputs": [
    {
     "data": {
      "image/png": "[encoded data removed]",
      "text/plain": [
       "<Figure size 864x864 with 1 Axes>"
      ]
     },
     "metadata": {
      "needs_background": "light"
     },
     "output_type": "display_data"
    }
   ],
   "source": [
    "# Visualize again to check\n",
    "plt.figure(figsize=(12,12))\n",
    "sns.boxplot(y='quantity',x='discount', data=df_orders)\n",
    "plt.title('Distribution of data at discount levels')\n",
    "plt.xlabel('Max discount given per order')\n",
    "plt.ylabel('Number of items in order');"
   ]
  },
  {
   "cell_type": "markdown",
   "metadata": {},
   "source": [
    "**Null Hypothesis:** discounts have no affect on the number of products ordered by customers\n",
    "\n",
    "**Alternate Hypothesis:** discounts have a signficant affect at alpha = .05 on the number of products ordered by customers"
   ]
  },
  {
   "cell_type": "code",
   "execution_count": 24,
   "metadata": {},
   "outputs": [
    {
     "data": {
      "text/html": [
       "<table class=\"simpletable\">\n",
       "<caption>OLS Regression Results</caption>\n",
       "<tr>\n",
       "  <th>Dep. Variable:</th>        <td>quantity</td>     <th>  R-squared:         </th> <td>   0.018</td>\n",
       "</tr>\n",
       "<tr>\n",
       "  <th>Model:</th>                   <td>OLS</td>       <th>  Adj. R-squared:    </th> <td>   0.012</td>\n",
       "</tr>\n",
       "<tr>\n",
       "  <th>Method:</th>             <td>Least Squares</td>  <th>  F-statistic:       </th> <td>   3.012</td>\n",
       "</tr>\n",
       "<tr>\n",
       "  <th>Date:</th>             <td>Fri, 19 Jul 2019</td> <th>  Prob (F-statistic):</th>  <td>0.0106</td> \n",
       "</tr>\n",
       "<tr>\n",
       "  <th>Time:</th>                 <td>14:40:55</td>     <th>  Log-Likelihood:    </th> <td> -1230.1</td>\n",
       "</tr>\n",
       "<tr>\n",
       "  <th>No. Observations:</th>      <td>   829</td>      <th>  AIC:               </th> <td>   2472.</td>\n",
       "</tr>\n",
       "<tr>\n",
       "  <th>Df Residuals:</th>          <td>   823</td>      <th>  BIC:               </th> <td>   2501.</td>\n",
       "</tr>\n",
       "<tr>\n",
       "  <th>Df Model:</th>              <td>     5</td>      <th>                     </th>     <td> </td>   \n",
       "</tr>\n",
       "<tr>\n",
       "  <th>Covariance Type:</th>      <td>nonrobust</td>    <th>                     </th>     <td> </td>   \n",
       "</tr>\n",
       "</table>\n",
       "<table class=\"simpletable\">\n",
       "<tr>\n",
       "           <td></td>              <th>coef</th>     <th>std err</th>      <th>t</th>      <th>P>|t|</th>  <th>[0.025</th>    <th>0.975]</th>  \n",
       "</tr>\n",
       "<tr>\n",
       "  <th>Intercept</th>           <td>    2.4667</td> <td>    0.050</td> <td>   48.858</td> <td> 0.000</td> <td>    2.368</td> <td>    2.566</td>\n",
       "</tr>\n",
       "<tr>\n",
       "  <th>C(discount)[T.0.05]</th> <td>    0.0217</td> <td>    0.126</td> <td>    0.172</td> <td> 0.863</td> <td>   -0.226</td> <td>    0.269</td>\n",
       "</tr>\n",
       "<tr>\n",
       "  <th>C(discount)[T.0.1]</th>  <td>    0.4252</td> <td>    0.134</td> <td>    3.165</td> <td> 0.002</td> <td>    0.162</td> <td>    0.689</td>\n",
       "</tr>\n",
       "<tr>\n",
       "  <th>C(discount)[T.0.15]</th> <td>    0.2400</td> <td>    0.134</td> <td>    1.797</td> <td> 0.073</td> <td>   -0.022</td> <td>    0.502</td>\n",
       "</tr>\n",
       "<tr>\n",
       "  <th>C(discount)[T.0.2]</th>  <td>    0.1861</td> <td>    0.136</td> <td>    1.369</td> <td> 0.171</td> <td>   -0.081</td> <td>    0.453</td>\n",
       "</tr>\n",
       "<tr>\n",
       "  <th>C(discount)[T.0.25]</th> <td>    0.2833</td> <td>    0.136</td> <td>    2.084</td> <td> 0.037</td> <td>    0.017</td> <td>    0.550</td>\n",
       "</tr>\n",
       "</table>\n",
       "<table class=\"simpletable\">\n",
       "<tr>\n",
       "  <th>Omnibus:</th>       <td>25.511</td> <th>  Durbin-Watson:     </th> <td>   2.014</td>\n",
       "</tr>\n",
       "<tr>\n",
       "  <th>Prob(Omnibus):</th> <td> 0.000</td> <th>  Jarque-Bera (JB):  </th> <td>  26.512</td>\n",
       "</tr>\n",
       "<tr>\n",
       "  <th>Skew:</th>          <td> 0.418</td> <th>  Prob(JB):          </th> <td>1.75e-06</td>\n",
       "</tr>\n",
       "<tr>\n",
       "  <th>Kurtosis:</th>      <td> 2.737</td> <th>  Cond. No.          </th> <td>    4.70</td>\n",
       "</tr>\n",
       "</table><br/><br/>Warnings:<br/>[1] Standard Errors assume that the covariance matrix of the errors is correctly specified."
      ],
      "text/plain": [
       "<class 'statsmodels.iolib.summary.Summary'>\n",
       "\"\"\"\n",
       "                            OLS Regression Results                            \n",
       "==============================================================================\n",
       "Dep. Variable:               quantity   R-squared:                       0.018\n",
       "Model:                            OLS   Adj. R-squared:                  0.012\n",
       "Method:                 Least Squares   F-statistic:                     3.012\n",
       "Date:                Fri, 19 Jul 2019   Prob (F-statistic):             0.0106\n",
       "Time:                        14:40:55   Log-Likelihood:                -1230.1\n",
       "No. Observations:                 829   AIC:                             2472.\n",
       "Df Residuals:                     823   BIC:                             2501.\n",
       "Df Model:                           5                                         \n",
       "Covariance Type:            nonrobust                                         \n",
       "=======================================================================================\n",
       "                          coef    std err          t      P>|t|      [0.025      0.975]\n",
       "---------------------------------------------------------------------------------------\n",
       "Intercept               2.4667      0.050     48.858      0.000       2.368       2.566\n",
       "C(discount)[T.0.05]     0.0217      0.126      0.172      0.863      -0.226       0.269\n",
       "C(discount)[T.0.1]      0.4252      0.134      3.165      0.002       0.162       0.689\n",
       "C(discount)[T.0.15]     0.2400      0.134      1.797      0.073      -0.022       0.502\n",
       "C(discount)[T.0.2]      0.1861      0.136      1.369      0.171      -0.081       0.453\n",
       "C(discount)[T.0.25]     0.2833      0.136      2.084      0.037       0.017       0.550\n",
       "==============================================================================\n",
       "Omnibus:                       25.511   Durbin-Watson:                   2.014\n",
       "Prob(Omnibus):                  0.000   Jarque-Bera (JB):               26.512\n",
       "Skew:                           0.418   Prob(JB):                     1.75e-06\n",
       "Kurtosis:                       2.737   Cond. No.                         4.70\n",
       "==============================================================================\n",
       "\n",
       "Warnings:\n",
       "[1] Standard Errors assume that the covariance matrix of the errors is correctly specified.\n",
       "\"\"\""
      ]
     },
     "execution_count": 24,
     "metadata": {},
     "output_type": "execute_result"
    }
   ],
   "source": [
    "# Use ANOVA Test since this is multicomparison\n",
    "results = ols('quantity ~ C(discount)', data=df_orders).fit()\n",
    "results.summary()"
   ]
  },
  {
   "cell_type": "markdown",
   "metadata": {},
   "source": [
    "Since the P Value of the F statistic is less than our alpha level, we can reject the null hypothesis. "
   ]
  },
  {
   "cell_type": "markdown",
   "metadata": {},
   "source": [
    "# Hypothesis 2: Regionality\n",
    "\n",
    "Do different regions have an effect on total revenue?"
   ]
  },
  {
   "cell_type": "code",
   "execution_count": 78,
   "metadata": {
    "scrolled": true
   },
   "outputs": [
    {
     "name": "stdout",
     "output_type": "stream",
     "text": [
      "2019-07-19 15:10:18,171 INFO sqlalchemy.engine.base.Engine SELECT od.OrderId, SUM(od.UnitPrice*od.Quantity) AS total_bookings, c.Region as region FROM OrderDetail od LEFT JOIN [Order] o ON od.OrderId = o.Id LEFT JOIN Customer c ON o.CustomerId = c.Id GROUP BY od.OrderId\n",
      "2019-07-19 15:10:18,172 INFO sqlalchemy.engine.base.Engine ()\n"
     ]
    }
   ],
   "source": [
    "q = '''SELECT od.OrderId, SUM(od.UnitPrice*od.Quantity) AS total_bookings, c.Region as region \\\n",
    "FROM OrderDetail od \\\n",
    "LEFT JOIN [Order] o ON od.OrderId = o.Id \\\n",
    "LEFT JOIN Customer c ON o.CustomerId = c.Id \\\n",
    "GROUP BY od.OrderId'''\n",
    "\n",
    "df_ter = pd.read_sql_query(q, engine) #puts the information from the query into a dataframe\n"
   ]
  },
  {
   "cell_type": "code",
   "execution_count": 79,
   "metadata": {},
   "outputs": [
    {
     "data": {
      "text/html": [
       "<div>\n",
       "<style scoped>\n",
       "    .dataframe tbody tr th:only-of-type {\n",
       "        vertical-align: middle;\n",
       "    }\n",
       "\n",
       "    .dataframe tbody tr th {\n",
       "        vertical-align: top;\n",
       "    }\n",
       "\n",
       "    .dataframe thead th {\n",
       "        text-align: right;\n",
       "    }\n",
       "</style>\n",
       "<table border=\"1\" class=\"dataframe\">\n",
       "  <thead>\n",
       "    <tr style=\"text-align: right;\">\n",
       "      <th></th>\n",
       "      <th>OrderId</th>\n",
       "      <th>total_bookings</th>\n",
       "      <th>region</th>\n",
       "    </tr>\n",
       "  </thead>\n",
       "  <tbody>\n",
       "    <tr>\n",
       "      <th>0</th>\n",
       "      <td>10248</td>\n",
       "      <td>440.0</td>\n",
       "      <td>Western Europe</td>\n",
       "    </tr>\n",
       "    <tr>\n",
       "      <th>1</th>\n",
       "      <td>10249</td>\n",
       "      <td>1863.4</td>\n",
       "      <td>Western Europe</td>\n",
       "    </tr>\n",
       "    <tr>\n",
       "      <th>2</th>\n",
       "      <td>10250</td>\n",
       "      <td>1813.0</td>\n",
       "      <td>South America</td>\n",
       "    </tr>\n",
       "    <tr>\n",
       "      <th>3</th>\n",
       "      <td>10251</td>\n",
       "      <td>670.8</td>\n",
       "      <td>Western Europe</td>\n",
       "    </tr>\n",
       "    <tr>\n",
       "      <th>4</th>\n",
       "      <td>10252</td>\n",
       "      <td>3730.0</td>\n",
       "      <td>Western Europe</td>\n",
       "    </tr>\n",
       "    <tr>\n",
       "      <th>5</th>\n",
       "      <td>10253</td>\n",
       "      <td>1444.8</td>\n",
       "      <td>South America</td>\n",
       "    </tr>\n",
       "    <tr>\n",
       "      <th>6</th>\n",
       "      <td>10254</td>\n",
       "      <td>625.2</td>\n",
       "      <td>Western Europe</td>\n",
       "    </tr>\n",
       "    <tr>\n",
       "      <th>7</th>\n",
       "      <td>10255</td>\n",
       "      <td>2490.5</td>\n",
       "      <td>Western Europe</td>\n",
       "    </tr>\n",
       "    <tr>\n",
       "      <th>8</th>\n",
       "      <td>10256</td>\n",
       "      <td>517.8</td>\n",
       "      <td>South America</td>\n",
       "    </tr>\n",
       "    <tr>\n",
       "      <th>9</th>\n",
       "      <td>10257</td>\n",
       "      <td>1119.9</td>\n",
       "      <td>South America</td>\n",
       "    </tr>\n",
       "    <tr>\n",
       "      <th>10</th>\n",
       "      <td>10258</td>\n",
       "      <td>2018.6</td>\n",
       "      <td>Western Europe</td>\n",
       "    </tr>\n",
       "    <tr>\n",
       "      <th>11</th>\n",
       "      <td>10259</td>\n",
       "      <td>100.8</td>\n",
       "      <td>Central America</td>\n",
       "    </tr>\n",
       "    <tr>\n",
       "      <th>12</th>\n",
       "      <td>10260</td>\n",
       "      <td>1746.2</td>\n",
       "      <td>Western Europe</td>\n",
       "    </tr>\n",
       "    <tr>\n",
       "      <th>13</th>\n",
       "      <td>10261</td>\n",
       "      <td>448.0</td>\n",
       "      <td>South America</td>\n",
       "    </tr>\n",
       "    <tr>\n",
       "      <th>14</th>\n",
       "      <td>10262</td>\n",
       "      <td>624.8</td>\n",
       "      <td>North America</td>\n",
       "    </tr>\n",
       "  </tbody>\n",
       "</table>\n",
       "</div>"
      ],
      "text/plain": [
       "    OrderId  total_bookings           region\n",
       "0     10248           440.0   Western Europe\n",
       "1     10249          1863.4   Western Europe\n",
       "2     10250          1813.0    South America\n",
       "3     10251           670.8   Western Europe\n",
       "4     10252          3730.0   Western Europe\n",
       "5     10253          1444.8    South America\n",
       "6     10254           625.2   Western Europe\n",
       "7     10255          2490.5   Western Europe\n",
       "8     10256           517.8    South America\n",
       "9     10257          1119.9    South America\n",
       "10    10258          2018.6   Western Europe\n",
       "11    10259           100.8  Central America\n",
       "12    10260          1746.2   Western Europe\n",
       "13    10261           448.0    South America\n",
       "14    10262           624.8    North America"
      ]
     },
     "execution_count": 79,
     "metadata": {},
     "output_type": "execute_result"
    }
   ],
   "source": [
    "df_ter.head(15)"
   ]
  },
  {
   "cell_type": "code",
   "execution_count": 88,
   "metadata": {},
   "outputs": [
    {
     "data": {
      "text/plain": [
       "9"
      ]
     },
     "execution_count": 88,
     "metadata": {},
     "output_type": "execute_result"
    }
   ],
   "source": [
    "len(df_ter.region.unique())"
   ]
  },
  {
   "cell_type": "code",
   "execution_count": 81,
   "metadata": {},
   "outputs": [
    {
     "data": {
      "text/plain": [
       "830"
      ]
     },
     "execution_count": 81,
     "metadata": {},
     "output_type": "execute_result"
    }
   ],
   "source": [
    "len(df_ter)"
   ]
  },
  {
   "cell_type": "code",
   "execution_count": 82,
   "metadata": {},
   "outputs": [
    {
     "data": {
      "text/plain": [
       "29"
      ]
     },
     "execution_count": 82,
     "metadata": {},
     "output_type": "execute_result"
    }
   ],
   "source": [
    "# check for any NAs\n",
    "sum(df_ter.region.isna())"
   ]
  },
  {
   "cell_type": "code",
   "execution_count": 84,
   "metadata": {
    "scrolled": true
   },
   "outputs": [],
   "source": [
    "# Drop NA Region Values\n",
    "df_ter = df_ter.dropna()"
   ]
  },
  {
   "cell_type": "code",
   "execution_count": 85,
   "metadata": {},
   "outputs": [
    {
     "data": {
      "image/png": "[encoded data removed]",
      "text/plain": [
       "<Figure size 864x864 with 1 Axes>"
      ]
     },
     "metadata": {
      "needs_background": "light"
     },
     "output_type": "display_data"
    }
   ],
   "source": [
    "plt.figure(figsize=(12,12))\n",
    "sns.barplot(y='total_bookings',x='region', data=df_ter)\n",
    "plt.title('Distribution of region and average ')\n",
    "plt.xlabel('Regions')\n",
    "plt.ylabel('Average Order Sale');"
   ]
  },
  {
   "cell_type": "markdown",
   "metadata": {},
   "source": [
    "Do the averages and distributions of countries differ signicantly?"
   ]
  },
  {
   "cell_type": "code",
   "execution_count": 86,
   "metadata": {
    "scrolled": true
   },
   "outputs": [
    {
     "data": {
      "text/html": [
       "<table class=\"simpletable\">\n",
       "<caption>OLS Regression Results</caption>\n",
       "<tr>\n",
       "  <th>Dep. Variable:</th>     <td>total_bookings</td>  <th>  R-squared:         </th> <td>   0.056</td> \n",
       "</tr>\n",
       "<tr>\n",
       "  <th>Model:</th>                   <td>OLS</td>       <th>  Adj. R-squared:    </th> <td>   0.047</td> \n",
       "</tr>\n",
       "<tr>\n",
       "  <th>Method:</th>             <td>Least Squares</td>  <th>  F-statistic:       </th> <td>   5.924</td> \n",
       "</tr>\n",
       "<tr>\n",
       "  <th>Date:</th>             <td>Fri, 19 Jul 2019</td> <th>  Prob (F-statistic):</th> <td>2.18e-07</td> \n",
       "</tr>\n",
       "<tr>\n",
       "  <th>Time:</th>                 <td>15:10:42</td>     <th>  Log-Likelihood:    </th> <td> -7194.3</td> \n",
       "</tr>\n",
       "<tr>\n",
       "  <th>No. Observations:</th>      <td>   801</td>      <th>  AIC:               </th> <td>1.441e+04</td>\n",
       "</tr>\n",
       "<tr>\n",
       "  <th>Df Residuals:</th>          <td>   792</td>      <th>  BIC:               </th> <td>1.445e+04</td>\n",
       "</tr>\n",
       "<tr>\n",
       "  <th>Df Model:</th>              <td>     8</td>      <th>                     </th>     <td> </td>    \n",
       "</tr>\n",
       "<tr>\n",
       "  <th>Covariance Type:</th>      <td>nonrobust</td>    <th>                     </th>     <td> </td>    \n",
       "</tr>\n",
       "</table>\n",
       "<table class=\"simpletable\">\n",
       "<tr>\n",
       "                <td></td>                  <th>coef</th>     <th>std err</th>      <th>t</th>      <th>P>|t|</th>  <th>[0.025</th>    <th>0.975]</th>  \n",
       "</tr>\n",
       "<tr>\n",
       "  <th>Intercept</th>                    <td> 1572.4520</td> <td>  223.535</td> <td>    7.034</td> <td> 0.000</td> <td> 1133.661</td> <td> 2011.243</td>\n",
       "</tr>\n",
       "<tr>\n",
       "  <th>C(region)[T.Central America]</th> <td> -783.9710</td> <td>  477.938</td> <td>   -1.640</td> <td> 0.101</td> <td>-1722.146</td> <td>  154.203</td>\n",
       "</tr>\n",
       "<tr>\n",
       "  <th>C(region)[T.Eastern Europe]</th>  <td>-1067.8877</td> <td>  765.074</td> <td>   -1.396</td> <td> 0.163</td> <td>-2569.700</td> <td>  433.924</td>\n",
       "</tr>\n",
       "<tr>\n",
       "  <th>C(region)[T.North America]</th>   <td>  525.5814</td> <td>  273.172</td> <td>    1.924</td> <td> 0.055</td> <td>  -10.646</td> <td> 1061.809</td>\n",
       "</tr>\n",
       "<tr>\n",
       "  <th>C(region)[T.Northern Europe]</th> <td>  142.2016</td> <td>  343.665</td> <td>    0.414</td> <td> 0.679</td> <td> -532.401</td> <td>  816.804</td>\n",
       "</tr>\n",
       "<tr>\n",
       "  <th>C(region)[T.Scandinavia]</th>     <td> -661.2520</td> <td>  428.731</td> <td>   -1.542</td> <td> 0.123</td> <td>-1502.836</td> <td>  180.332</td>\n",
       "</tr>\n",
       "<tr>\n",
       "  <th>C(region)[T.South America]</th>   <td> -389.6475</td> <td>  281.916</td> <td>   -1.382</td> <td> 0.167</td> <td> -943.038</td> <td>  163.743</td>\n",
       "</tr>\n",
       "<tr>\n",
       "  <th>C(region)[T.Southern Europe]</th> <td> -812.9881</td> <td>  329.430</td> <td>   -2.468</td> <td> 0.014</td> <td>-1459.647</td> <td> -166.329</td>\n",
       "</tr>\n",
       "<tr>\n",
       "  <th>C(region)[T.Western Europe]</th>  <td>  398.4105</td> <td>  252.479</td> <td>    1.578</td> <td> 0.115</td> <td>  -97.197</td> <td>  894.018</td>\n",
       "</tr>\n",
       "</table>\n",
       "<table class=\"simpletable\">\n",
       "<tr>\n",
       "  <th>Omnibus:</th>       <td>621.147</td> <th>  Durbin-Watson:     </th> <td>   2.038</td> \n",
       "</tr>\n",
       "<tr>\n",
       "  <th>Prob(Omnibus):</th> <td> 0.000</td>  <th>  Jarque-Bera (JB):  </th> <td>11665.213</td>\n",
       "</tr>\n",
       "<tr>\n",
       "  <th>Skew:</th>          <td> 3.417</td>  <th>  Prob(JB):          </th> <td>    0.00</td> \n",
       "</tr>\n",
       "<tr>\n",
       "  <th>Kurtosis:</th>      <td>20.402</td>  <th>  Cond. No.          </th> <td>    13.2</td> \n",
       "</tr>\n",
       "</table><br/><br/>Warnings:<br/>[1] Standard Errors assume that the covariance matrix of the errors is correctly specified."
      ],
      "text/plain": [
       "<class 'statsmodels.iolib.summary.Summary'>\n",
       "\"\"\"\n",
       "                            OLS Regression Results                            \n",
       "==============================================================================\n",
       "Dep. Variable:         total_bookings   R-squared:                       0.056\n",
       "Model:                            OLS   Adj. R-squared:                  0.047\n",
       "Method:                 Least Squares   F-statistic:                     5.924\n",
       "Date:                Fri, 19 Jul 2019   Prob (F-statistic):           2.18e-07\n",
       "Time:                        15:10:42   Log-Likelihood:                -7194.3\n",
       "No. Observations:                 801   AIC:                         1.441e+04\n",
       "Df Residuals:                     792   BIC:                         1.445e+04\n",
       "Df Model:                           8                                         \n",
       "Covariance Type:            nonrobust                                         \n",
       "================================================================================================\n",
       "                                   coef    std err          t      P>|t|      [0.025      0.975]\n",
       "------------------------------------------------------------------------------------------------\n",
       "Intercept                     1572.4520    223.535      7.034      0.000    1133.661    2011.243\n",
       "C(region)[T.Central America]  -783.9710    477.938     -1.640      0.101   -1722.146     154.203\n",
       "C(region)[T.Eastern Europe]  -1067.8877    765.074     -1.396      0.163   -2569.700     433.924\n",
       "C(region)[T.North America]     525.5814    273.172      1.924      0.055     -10.646    1061.809\n",
       "C(region)[T.Northern Europe]   142.2016    343.665      0.414      0.679    -532.401     816.804\n",
       "C(region)[T.Scandinavia]      -661.2520    428.731     -1.542      0.123   -1502.836     180.332\n",
       "C(region)[T.South America]    -389.6475    281.916     -1.382      0.167    -943.038     163.743\n",
       "C(region)[T.Southern Europe]  -812.9881    329.430     -2.468      0.014   -1459.647    -166.329\n",
       "C(region)[T.Western Europe]    398.4105    252.479      1.578      0.115     -97.197     894.018\n",
       "==============================================================================\n",
       "Omnibus:                      621.147   Durbin-Watson:                   2.038\n",
       "Prob(Omnibus):                  0.000   Jarque-Bera (JB):            11665.213\n",
       "Skew:                           3.417   Prob(JB):                         0.00\n",
       "Kurtosis:                      20.402   Cond. No.                         13.2\n",
       "==============================================================================\n",
       "\n",
       "Warnings:\n",
       "[1] Standard Errors assume that the covariance matrix of the errors is correctly specified.\n",
       "\"\"\""
      ]
     },
     "execution_count": 86,
     "metadata": {},
     "output_type": "execute_result"
    }
   ],
   "source": [
    "results = ols('total_bookings ~ C(region)', data=df_ter).fit()\n",
    "results.summary()"
   ]
  },
  {
   "cell_type": "markdown",
   "metadata": {},
   "source": [
    "Regions have a significant effect on the average order size. Let's look deeper to see which regions have the largest effect"
   ]
  },
  {
   "cell_type": "code",
   "execution_count": 87,
   "metadata": {
    "scrolled": false
   },
   "outputs": [
    {
     "name": "stdout",
     "output_type": "stream",
     "text": [
      "          Multiple Comparison of Means - Tukey HSD,FWER=0.05          \n",
      "======================================================================\n",
      "     group1          group2      meandiff    lower      upper   reject\n",
      "----------------------------------------------------------------------\n",
      " British Isles  Central America  -783.971  -2270.5333  702.5912 False \n",
      " British Isles   Eastern Europe -1067.8877 -3447.5483 1311.7729 False \n",
      " British Isles   North America   525.5814  -324.0846  1375.2474 False \n",
      " British Isles  Northern Europe  142.2016  -926.7239  1211.1272 False \n",
      " British Isles    Scandinavia    -661.252  -1994.7633  672.2593 False \n",
      " British Isles   South America  -389.6475  -1266.5089  487.2139 False \n",
      " British Isles  Southern Europe -812.9881  -1837.6357  211.6595 False \n",
      " British Isles   Western Europe  398.4105  -386.8928  1183.7138 False \n",
      "Central America  Eastern Europe -283.9167  -2911.8122 2343.9789 False \n",
      "Central America  North America  1309.5525   -92.2259  2711.3309 False \n",
      "Central America Northern Europe  926.1727  -618.3829  2470.7283 False \n",
      "Central America   Scandinavia    122.719   -1615.4705 1860.9086 False \n",
      "Central America  South America   394.3235  -1024.1038 1812.7509 False \n",
      "Central America Southern Europe  -29.017   -1543.267  1485.2329 False \n",
      "Central America  Western Europe 1182.3815  -181.3455  2546.1086 False \n",
      " Eastern Europe  North America  1593.4691  -734.1692  3921.1075 False \n",
      " Eastern Europe Northern Europe 1210.0894  -1206.2239 3626.4026 False \n",
      " Eastern Europe   Scandinavia    406.6357  -2137.8132 2951.0846 False \n",
      " Eastern Europe  South America   678.2402  -1659.4624 3015.9429 False \n",
      " Eastern Europe Southern Europe  254.8996  -2142.1549 2651.9542 False \n",
      " Eastern Europe  Western Europe 1466.2982  -838.6246   3771.221 False \n",
      " North America  Northern Europe -383.3798  -1330.8592  564.0996 False \n",
      " North America    Scandinavia   -1186.8334 -2425.1258  51.4589  False \n",
      " North America   South America  -915.2289  -1639.1083 -191.3496  True \n",
      " North America  Southern Europe -1338.5695 -2235.7976 -441.3415  True \n",
      " North America   Western Europe -127.1709  -736.9386   482.5968 False \n",
      "Northern Europe   Scandinavia   -803.4536  -2201.3225  594.4152 False \n",
      "Northern Europe  South America  -531.8491  -1503.7909  440.0926 False \n",
      "Northern Europe Southern Europe -955.1897  -2062.2975  151.918  False \n",
      "Northern Europe  Western Europe  256.2089   -634.008  1146.4258 False \n",
      "  Scandinavia    South America   271.6045  -985.5039  1528.7129 False \n",
      "  Scandinavia   Southern Europe -151.7361  -1516.0448 1212.5726 False \n",
      "  Scandinavia    Western Europe 1059.6625  -135.3843  2254.7093 False \n",
      " South America  Southern Europe -423.3406  -1346.3637  499.6826 False \n",
      " South America   Western Europe  788.058    140.9334  1435.1826  True \n",
      "Southern Europe  Western Europe 1211.3986   374.8658  2047.9313  True \n",
      "----------------------------------------------------------------------\n"
     ]
    }
   ],
   "source": [
    "mc = MultiComparison(df_ter.total_bookings, df_ter.region)\n",
    "mc_results = mc.tukeyhsd()\n",
    "print(mc_results)"
   ]
  },
  {
   "cell_type": "markdown",
   "metadata": {},
   "source": [
    "NA & SA, NA and Southern Europe, SA and southern eurpoe, and Southern Europe and Western Europe were the four pairings where we reject the null.\n",
    "\n",
    "?? Need Help interpreting this better"
   ]
  },
  {
   "cell_type": "markdown",
   "metadata": {},
   "source": [
    "\n",
    "\n",
    "# Hypothesis 3 \n",
    "\n",
    "Do suppliers have an effect on the number of orders that go out?\n",
    "Are some suppliers generating more revenue than others?"
   ]
  },
  {
   "cell_type": "code",
   "execution_count": 67,
   "metadata": {},
   "outputs": [
    {
     "name": "stdout",
     "output_type": "stream",
     "text": [
      "2019-07-19 15:06:38,612 INFO sqlalchemy.engine.base.Engine SELECT od.OrderId, od.ProductId, SUM(od.UnitPrice*od.Quantity) , s.CompanyName, s.Country FROM OrderDetail od LEFT JOIN [Product] p ON od.ProductId = p.Id LEFT JOIN Supplier s ON p.SupplierId = s.Id GROUP BY od.OrderId\n",
      "2019-07-19 15:06:38,613 INFO sqlalchemy.engine.base.Engine ()\n"
     ]
    }
   ],
   "source": [
    "# Link Supplier Company Name by the supploer id to the product id to the \n",
    "#order details (unit price x quantity)\n",
    "\n",
    "q = '''SELECT od.OrderId, od.ProductId, SUM(od.UnitPrice*od.Quantity) , s.CompanyName, s.Country \\\n",
    "FROM OrderDetail od \\\n",
    "LEFT JOIN [Product] p ON od.ProductId = p.Id \\\n",
    "LEFT JOIN Supplier s ON p.SupplierId = s.Id \\\n",
    "GROUP BY od.OrderId'''\n",
    "\n",
    "df_s = pd.read_sql_query(q, engine)\n"
   ]
  },
  {
   "cell_type": "code",
   "execution_count": 68,
   "metadata": {},
   "outputs": [
    {
     "data": {
      "text/html": [
       "<div>\n",
       "<style scoped>\n",
       "    .dataframe tbody tr th:only-of-type {\n",
       "        vertical-align: middle;\n",
       "    }\n",
       "\n",
       "    .dataframe tbody tr th {\n",
       "        vertical-align: top;\n",
       "    }\n",
       "\n",
       "    .dataframe thead th {\n",
       "        text-align: right;\n",
       "    }\n",
       "</style>\n",
       "<table border=\"1\" class=\"dataframe\">\n",
       "  <thead>\n",
       "    <tr style=\"text-align: right;\">\n",
       "      <th></th>\n",
       "      <th>OrderId</th>\n",
       "      <th>ProductId</th>\n",
       "      <th>SUM(od.UnitPrice*od.Quantity)</th>\n",
       "      <th>CompanyName</th>\n",
       "      <th>Country</th>\n",
       "    </tr>\n",
       "  </thead>\n",
       "  <tbody>\n",
       "    <tr>\n",
       "      <th>0</th>\n",
       "      <td>10248</td>\n",
       "      <td>11</td>\n",
       "      <td>440.0</td>\n",
       "      <td>Cooperativa de Quesos 'Las Cabras'</td>\n",
       "      <td>Spain</td>\n",
       "    </tr>\n",
       "    <tr>\n",
       "      <th>1</th>\n",
       "      <td>10249</td>\n",
       "      <td>14</td>\n",
       "      <td>1863.4</td>\n",
       "      <td>Mayumi's</td>\n",
       "      <td>Japan</td>\n",
       "    </tr>\n",
       "    <tr>\n",
       "      <th>2</th>\n",
       "      <td>10250</td>\n",
       "      <td>41</td>\n",
       "      <td>1813.0</td>\n",
       "      <td>New England Seafood Cannery</td>\n",
       "      <td>USA</td>\n",
       "    </tr>\n",
       "    <tr>\n",
       "      <th>3</th>\n",
       "      <td>10251</td>\n",
       "      <td>22</td>\n",
       "      <td>670.8</td>\n",
       "      <td>PB Knäckebröd AB</td>\n",
       "      <td>Sweden</td>\n",
       "    </tr>\n",
       "    <tr>\n",
       "      <th>4</th>\n",
       "      <td>10252</td>\n",
       "      <td>20</td>\n",
       "      <td>3730.0</td>\n",
       "      <td>Specialty Biscuits, Ltd.</td>\n",
       "      <td>UK</td>\n",
       "    </tr>\n",
       "  </tbody>\n",
       "</table>\n",
       "</div>"
      ],
      "text/plain": [
       "   OrderId  ProductId  SUM(od.UnitPrice*od.Quantity)  \\\n",
       "0    10248         11                          440.0   \n",
       "1    10249         14                         1863.4   \n",
       "2    10250         41                         1813.0   \n",
       "3    10251         22                          670.8   \n",
       "4    10252         20                         3730.0   \n",
       "\n",
       "                          CompanyName Country  \n",
       "0  Cooperativa de Quesos 'Las Cabras'   Spain  \n",
       "1                            Mayumi's   Japan  \n",
       "2         New England Seafood Cannery     USA  \n",
       "3                    PB Knäckebröd AB  Sweden  \n",
       "4            Specialty Biscuits, Ltd.      UK  "
      ]
     },
     "execution_count": 68,
     "metadata": {},
     "output_type": "execute_result"
    }
   ],
   "source": [
    "df_s.head()"
   ]
  },
  {
   "cell_type": "code",
   "execution_count": 53,
   "metadata": {
    "scrolled": true
   },
   "outputs": [
    {
     "data": {
      "text/plain": [
       "830"
      ]
     },
     "execution_count": 53,
     "metadata": {},
     "output_type": "execute_result"
    }
   ],
   "source": [
    "len(df_s)"
   ]
  },
  {
   "cell_type": "code",
   "execution_count": 69,
   "metadata": {},
   "outputs": [],
   "source": [
    "df_s.columns = ['OrderId', 'ProductId', 'total_bookings', 'company_name', 'country']"
   ]
  },
  {
   "cell_type": "code",
   "execution_count": 70,
   "metadata": {
    "scrolled": true
   },
   "outputs": [
    {
     "data": {
      "text/html": [
       "<div>\n",
       "<style scoped>\n",
       "    .dataframe tbody tr th:only-of-type {\n",
       "        vertical-align: middle;\n",
       "    }\n",
       "\n",
       "    .dataframe tbody tr th {\n",
       "        vertical-align: top;\n",
       "    }\n",
       "\n",
       "    .dataframe thead th {\n",
       "        text-align: right;\n",
       "    }\n",
       "</style>\n",
       "<table border=\"1\" class=\"dataframe\">\n",
       "  <thead>\n",
       "    <tr style=\"text-align: right;\">\n",
       "      <th></th>\n",
       "      <th>OrderId</th>\n",
       "      <th>ProductId</th>\n",
       "      <th>total_bookings</th>\n",
       "      <th>company_name</th>\n",
       "      <th>country</th>\n",
       "    </tr>\n",
       "  </thead>\n",
       "  <tbody>\n",
       "    <tr>\n",
       "      <th>0</th>\n",
       "      <td>10248</td>\n",
       "      <td>11</td>\n",
       "      <td>440.0</td>\n",
       "      <td>Cooperativa de Quesos 'Las Cabras'</td>\n",
       "      <td>Spain</td>\n",
       "    </tr>\n",
       "    <tr>\n",
       "      <th>1</th>\n",
       "      <td>10249</td>\n",
       "      <td>14</td>\n",
       "      <td>1863.4</td>\n",
       "      <td>Mayumi's</td>\n",
       "      <td>Japan</td>\n",
       "    </tr>\n",
       "    <tr>\n",
       "      <th>2</th>\n",
       "      <td>10250</td>\n",
       "      <td>41</td>\n",
       "      <td>1813.0</td>\n",
       "      <td>New England Seafood Cannery</td>\n",
       "      <td>USA</td>\n",
       "    </tr>\n",
       "    <tr>\n",
       "      <th>3</th>\n",
       "      <td>10251</td>\n",
       "      <td>22</td>\n",
       "      <td>670.8</td>\n",
       "      <td>PB Knäckebröd AB</td>\n",
       "      <td>Sweden</td>\n",
       "    </tr>\n",
       "    <tr>\n",
       "      <th>4</th>\n",
       "      <td>10252</td>\n",
       "      <td>20</td>\n",
       "      <td>3730.0</td>\n",
       "      <td>Specialty Biscuits, Ltd.</td>\n",
       "      <td>UK</td>\n",
       "    </tr>\n",
       "  </tbody>\n",
       "</table>\n",
       "</div>"
      ],
      "text/plain": [
       "   OrderId  ProductId  total_bookings                        company_name  \\\n",
       "0    10248         11           440.0  Cooperativa de Quesos 'Las Cabras'   \n",
       "1    10249         14          1863.4                            Mayumi's   \n",
       "2    10250         41          1813.0         New England Seafood Cannery   \n",
       "3    10251         22           670.8                    PB Knäckebröd AB   \n",
       "4    10252         20          3730.0            Specialty Biscuits, Ltd.   \n",
       "\n",
       "  country  \n",
       "0   Spain  \n",
       "1   Japan  \n",
       "2     USA  \n",
       "3  Sweden  \n",
       "4      UK  "
      ]
     },
     "execution_count": 70,
     "metadata": {},
     "output_type": "execute_result"
    }
   ],
   "source": [
    "df_s.head()"
   ]
  },
  {
   "cell_type": "code",
   "execution_count": 73,
   "metadata": {},
   "outputs": [
    {
     "data": {
      "text/plain": [
       "UK             157\n",
       "USA            120\n",
       "Australia      103\n",
       "Germany         87\n",
       "Japan           84\n",
       "Italy           46\n",
       "Spain           44\n",
       "France          39\n",
       "Sweden          31\n",
       "Brazil          28\n",
       "Canada          25\n",
       "Norway          23\n",
       "Singapore       14\n",
       "Denmark         12\n",
       "Finland          9\n",
       "Netherlands      8\n",
       "Name: country, dtype: int64"
      ]
     },
     "execution_count": 73,
     "metadata": {},
     "output_type": "execute_result"
    }
   ],
   "source": [
    "# Check for NAs\n",
    "df_s.country.value_counts()"
   ]
  },
  {
   "cell_type": "code",
   "execution_count": 63,
   "metadata": {
    "scrolled": false
   },
   "outputs": [
    {
     "data": {
      "image/png": "[encoded data removed]",
      "text/plain": [
       "<Figure size 864x864 with 1 Axes>"
      ]
     },
     "metadata": {
      "needs_background": "light"
     },
     "output_type": "display_data"
    }
   ],
   "source": [
    "plt.figure(figsize=(12,12))\n",
    "sns.barplot(y='total_bookings',x='company_name', data=df_s)\n",
    "plt.title('Distribution of Companies total Bookings')\n",
    "plt.xlabel('Company')\n",
    "plt.ylabel('Average Order Sale');"
   ]
  },
  {
   "cell_type": "code",
   "execution_count": 64,
   "metadata": {
    "scrolled": true
   },
   "outputs": [
    {
     "data": {
      "text/html": [
       "<table class=\"simpletable\">\n",
       "<caption>OLS Regression Results</caption>\n",
       "<tr>\n",
       "  <th>Dep. Variable:</th>     <td>total_bookings</td>  <th>  R-squared:         </th> <td>   0.128</td> \n",
       "</tr>\n",
       "<tr>\n",
       "  <th>Model:</th>                   <td>OLS</td>       <th>  Adj. R-squared:    </th> <td>   0.097</td> \n",
       "</tr>\n",
       "<tr>\n",
       "  <th>Method:</th>             <td>Least Squares</td>  <th>  F-statistic:       </th> <td>   4.187</td> \n",
       "</tr>\n",
       "<tr>\n",
       "  <th>Date:</th>             <td>Fri, 19 Jul 2019</td> <th>  Prob (F-statistic):</th> <td>7.28e-12</td> \n",
       "</tr>\n",
       "<tr>\n",
       "  <th>Time:</th>                 <td>15:04:49</td>     <th>  Log-Likelihood:    </th> <td> -7425.4</td> \n",
       "</tr>\n",
       "<tr>\n",
       "  <th>No. Observations:</th>      <td>   830</td>      <th>  AIC:               </th> <td>1.491e+04</td>\n",
       "</tr>\n",
       "<tr>\n",
       "  <th>Df Residuals:</th>          <td>   801</td>      <th>  BIC:               </th> <td>1.505e+04</td>\n",
       "</tr>\n",
       "<tr>\n",
       "  <th>Df Model:</th>              <td>    28</td>      <th>                     </th>     <td> </td>    \n",
       "</tr>\n",
       "<tr>\n",
       "  <th>Covariance Type:</th>      <td>nonrobust</td>    <th>                     </th>     <td> </td>    \n",
       "</tr>\n",
       "</table>\n",
       "<table class=\"simpletable\">\n",
       "<tr>\n",
       "                              <td></td>                                 <th>coef</th>     <th>std err</th>      <th>t</th>      <th>P>|t|</th>  <th>[0.025</th>    <th>0.975]</th>  \n",
       "</tr>\n",
       "<tr>\n",
       "  <th>Intercept</th>                                                 <td> 5197.1472</td> <td>  445.808</td> <td>   11.658</td> <td> 0.000</td> <td> 4322.058</td> <td> 6072.237</td>\n",
       "</tr>\n",
       "<tr>\n",
       "  <th>C(company_name)[T.Bigfoot Breweries]</th>                      <td>-3312.0322</td> <td>  614.504</td> <td>   -5.390</td> <td> 0.000</td> <td>-4518.260</td> <td>-2105.805</td>\n",
       "</tr>\n",
       "<tr>\n",
       "  <th>C(company_name)[T.Cooperativa de Quesos 'Las Cabras']</th>     <td>-3128.5818</td> <td>  529.197</td> <td>   -5.912</td> <td> 0.000</td> <td>-4167.358</td> <td>-2089.806</td>\n",
       "</tr>\n",
       "<tr>\n",
       "  <th>C(company_name)[T.Escargots Nouveaux]</th>                     <td>-3819.2097</td> <td> 1045.512</td> <td>   -3.653</td> <td> 0.000</td> <td>-5871.477</td> <td>-1766.943</td>\n",
       "</tr>\n",
       "<tr>\n",
       "  <th>C(company_name)[T.Exotic Liquids]</th>                         <td>-3153.5999</td> <td>  488.358</td> <td>   -6.458</td> <td> 0.000</td> <td>-4112.212</td> <td>-2194.987</td>\n",
       "</tr>\n",
       "<tr>\n",
       "  <th>C(company_name)[T.Formaggi Fortini s.r.l.]</th>                <td>-3695.1109</td> <td>  554.212</td> <td>   -6.667</td> <td> 0.000</td> <td>-4782.990</td> <td>-2607.232</td>\n",
       "</tr>\n",
       "<tr>\n",
       "  <th>C(company_name)[T.Forêts d'érables]</th>                       <td>-4682.8139</td> <td>  772.162</td> <td>   -6.065</td> <td> 0.000</td> <td>-6198.513</td> <td>-3167.114</td>\n",
       "</tr>\n",
       "<tr>\n",
       "  <th>C(company_name)[T.G'day, Mate]</th>                            <td>-4485.8245</td> <td>  601.127</td> <td>   -7.462</td> <td> 0.000</td> <td>-5665.795</td> <td>-3305.854</td>\n",
       "</tr>\n",
       "<tr>\n",
       "  <th>C(company_name)[T.Gai pâturage]</th>                           <td>-3860.3472</td> <td>  639.672</td> <td>   -6.035</td> <td> 0.000</td> <td>-5115.978</td> <td>-2604.716</td>\n",
       "</tr>\n",
       "<tr>\n",
       "  <th>C(company_name)[T.Grandma Kelly's Homestead]</th>              <td>-3022.3909</td> <td>  534.788</td> <td>   -5.652</td> <td> 0.000</td> <td>-4072.143</td> <td>-1972.639</td>\n",
       "</tr>\n",
       "<tr>\n",
       "  <th>C(company_name)[T.Heli Süßwaren GmbH & Co. KG]</th>            <td>-3597.8127</td> <td>  560.486</td> <td>   -6.419</td> <td> 0.000</td> <td>-4698.008</td> <td>-2497.618</td>\n",
       "</tr>\n",
       "<tr>\n",
       "  <th>C(company_name)[T.Karkki Oy]</th>                              <td>-4145.9750</td> <td>  772.162</td> <td>   -5.369</td> <td> 0.000</td> <td>-5661.675</td> <td>-2630.275</td>\n",
       "</tr>\n",
       "<tr>\n",
       "  <th>C(company_name)[T.Leka Trading]</th>                           <td>-4332.7687</td> <td>  673.998</td> <td>   -6.428</td> <td> 0.000</td> <td>-5655.780</td> <td>-3009.758</td>\n",
       "</tr>\n",
       "<tr>\n",
       "  <th>C(company_name)[T.Lyngbysild]</th>                             <td>-4211.9931</td> <td>  704.884</td> <td>   -5.975</td> <td> 0.000</td> <td>-5595.631</td> <td>-2828.355</td>\n",
       "</tr>\n",
       "<tr>\n",
       "  <th>C(company_name)[T.Ma Maison]</th>                              <td>-4193.9816</td> <td>  649.871</td> <td>   -6.454</td> <td> 0.000</td> <td>-5469.633</td> <td>-2918.330</td>\n",
       "</tr>\n",
       "<tr>\n",
       "  <th>C(company_name)[T.Mayumi's]</th>                               <td>-4092.6212</td> <td>  519.897</td> <td>   -7.872</td> <td> 0.000</td> <td>-5113.142</td> <td>-3072.100</td>\n",
       "</tr>\n",
       "<tr>\n",
       "  <th>C(company_name)[T.New England Seafood Cannery]</th>            <td>-4196.2248</td> <td>  567.541</td> <td>   -7.394</td> <td> 0.000</td> <td>-5310.269</td> <td>-3082.181</td>\n",
       "</tr>\n",
       "<tr>\n",
       "  <th>C(company_name)[T.New Orleans Cajun Delights]</th>             <td>-3914.5272</td> <td>  563.907</td> <td>   -6.942</td> <td> 0.000</td> <td>-5021.438</td> <td>-2807.617</td>\n",
       "</tr>\n",
       "<tr>\n",
       "  <th>C(company_name)[T.Nord-Ost-Fisch Handelsgesellschaft mbH]</th> <td>-4020.9543</td> <td>  639.672</td> <td>   -6.286</td> <td> 0.000</td> <td>-5276.585</td> <td>-2765.323</td>\n",
       "</tr>\n",
       "<tr>\n",
       "  <th>C(company_name)[T.Norske Meierier]</th>                        <td>-4577.4429</td> <td>  595.217</td> <td>   -7.690</td> <td> 0.000</td> <td>-5745.813</td> <td>-3409.073</td>\n",
       "</tr>\n",
       "<tr>\n",
       "  <th>C(company_name)[T.PB Knäckebröd AB]</th>                       <td>-3467.2191</td> <td>  649.871</td> <td>   -5.335</td> <td> 0.000</td> <td>-4742.870</td> <td>-2191.568</td>\n",
       "</tr>\n",
       "<tr>\n",
       "  <th>C(company_name)[T.Pasta Buttini s.r.l.]</th>                   <td>-4213.2626</td> <td>  688.425</td> <td>   -6.120</td> <td> 0.000</td> <td>-5564.593</td> <td>-2861.932</td>\n",
       "</tr>\n",
       "<tr>\n",
       "  <th>C(company_name)[T.Pavlova, Ltd.]</th>                          <td>-3428.2235</td> <td>  492.859</td> <td>   -6.956</td> <td> 0.000</td> <td>-4395.671</td> <td>-2460.776</td>\n",
       "</tr>\n",
       "<tr>\n",
       "  <th>C(company_name)[T.Plutzer Lebensmittelgroßmärkte AG]</th>      <td>-3037.2159</td> <td>  538.955</td> <td>   -5.635</td> <td> 0.000</td> <td>-4095.148</td> <td>-1979.284</td>\n",
       "</tr>\n",
       "<tr>\n",
       "  <th>C(company_name)[T.Refrescos Americanas LTDA]</th>              <td>-4140.1151</td> <td>  571.410</td> <td>   -7.245</td> <td> 0.000</td> <td>-5261.752</td> <td>-3018.478</td>\n",
       "</tr>\n",
       "<tr>\n",
       "  <th>C(company_name)[T.Specialty Biscuits, Ltd.]</th>               <td>-3569.0405</td> <td>  502.134</td> <td>   -7.108</td> <td> 0.000</td> <td>-4554.695</td> <td>-2583.386</td>\n",
       "</tr>\n",
       "<tr>\n",
       "  <th>C(company_name)[T.Svensk Sjöföda AB]</th>                      <td>-3905.2072</td> <td>  661.240</td> <td>   -5.906</td> <td> 0.000</td> <td>-5203.175</td> <td>-2607.240</td>\n",
       "</tr>\n",
       "<tr>\n",
       "  <th>C(company_name)[T.Tokyo Traders]</th>                          <td>-3068.2958</td> <td>  551.328</td> <td>   -5.565</td> <td> 0.000</td> <td>-4150.514</td> <td>-1986.078</td>\n",
       "</tr>\n",
       "<tr>\n",
       "  <th>C(company_name)[T.Zaanse Snoepfabriek]</th>                    <td>-4372.0972</td> <td>  803.691</td> <td>   -5.440</td> <td> 0.000</td> <td>-5949.687</td> <td>-2794.507</td>\n",
       "</tr>\n",
       "</table>\n",
       "<table class=\"simpletable\">\n",
       "<tr>\n",
       "  <th>Omnibus:</th>       <td>551.773</td> <th>  Durbin-Watson:     </th> <td>   2.000</td>\n",
       "</tr>\n",
       "<tr>\n",
       "  <th>Prob(Omnibus):</th> <td> 0.000</td>  <th>  Jarque-Bera (JB):  </th> <td>7342.104</td>\n",
       "</tr>\n",
       "<tr>\n",
       "  <th>Skew:</th>          <td> 2.866</td>  <th>  Prob(JB):          </th> <td>    0.00</td>\n",
       "</tr>\n",
       "<tr>\n",
       "  <th>Kurtosis:</th>      <td>16.396</td>  <th>  Cond. No.          </th> <td>    38.2</td>\n",
       "</tr>\n",
       "</table><br/><br/>Warnings:<br/>[1] Standard Errors assume that the covariance matrix of the errors is correctly specified."
      ],
      "text/plain": [
       "<class 'statsmodels.iolib.summary.Summary'>\n",
       "\"\"\"\n",
       "                            OLS Regression Results                            \n",
       "==============================================================================\n",
       "Dep. Variable:         total_bookings   R-squared:                       0.128\n",
       "Model:                            OLS   Adj. R-squared:                  0.097\n",
       "Method:                 Least Squares   F-statistic:                     4.187\n",
       "Date:                Fri, 19 Jul 2019   Prob (F-statistic):           7.28e-12\n",
       "Time:                        15:04:49   Log-Likelihood:                -7425.4\n",
       "No. Observations:                 830   AIC:                         1.491e+04\n",
       "Df Residuals:                     801   BIC:                         1.505e+04\n",
       "Df Model:                          28                                         \n",
       "Covariance Type:            nonrobust                                         \n",
       "=============================================================================================================================\n",
       "                                                                coef    std err          t      P>|t|      [0.025      0.975]\n",
       "-----------------------------------------------------------------------------------------------------------------------------\n",
       "Intercept                                                  5197.1472    445.808     11.658      0.000    4322.058    6072.237\n",
       "C(company_name)[T.Bigfoot Breweries]                      -3312.0322    614.504     -5.390      0.000   -4518.260   -2105.805\n",
       "C(company_name)[T.Cooperativa de Quesos 'Las Cabras']     -3128.5818    529.197     -5.912      0.000   -4167.358   -2089.806\n",
       "C(company_name)[T.Escargots Nouveaux]                     -3819.2097   1045.512     -3.653      0.000   -5871.477   -1766.943\n",
       "C(company_name)[T.Exotic Liquids]                         -3153.5999    488.358     -6.458      0.000   -4112.212   -2194.987\n",
       "C(company_name)[T.Formaggi Fortini s.r.l.]                -3695.1109    554.212     -6.667      0.000   -4782.990   -2607.232\n",
       "C(company_name)[T.Forêts d'érables]                       -4682.8139    772.162     -6.065      0.000   -6198.513   -3167.114\n",
       "C(company_name)[T.G'day, Mate]                            -4485.8245    601.127     -7.462      0.000   -5665.795   -3305.854\n",
       "C(company_name)[T.Gai pâturage]                           -3860.3472    639.672     -6.035      0.000   -5115.978   -2604.716\n",
       "C(company_name)[T.Grandma Kelly's Homestead]              -3022.3909    534.788     -5.652      0.000   -4072.143   -1972.639\n",
       "C(company_name)[T.Heli Süßwaren GmbH & Co. KG]            -3597.8127    560.486     -6.419      0.000   -4698.008   -2497.618\n",
       "C(company_name)[T.Karkki Oy]                              -4145.9750    772.162     -5.369      0.000   -5661.675   -2630.275\n",
       "C(company_name)[T.Leka Trading]                           -4332.7687    673.998     -6.428      0.000   -5655.780   -3009.758\n",
       "C(company_name)[T.Lyngbysild]                             -4211.9931    704.884     -5.975      0.000   -5595.631   -2828.355\n",
       "C(company_name)[T.Ma Maison]                              -4193.9816    649.871     -6.454      0.000   -5469.633   -2918.330\n",
       "C(company_name)[T.Mayumi's]                               -4092.6212    519.897     -7.872      0.000   -5113.142   -3072.100\n",
       "C(company_name)[T.New England Seafood Cannery]            -4196.2248    567.541     -7.394      0.000   -5310.269   -3082.181\n",
       "C(company_name)[T.New Orleans Cajun Delights]             -3914.5272    563.907     -6.942      0.000   -5021.438   -2807.617\n",
       "C(company_name)[T.Nord-Ost-Fisch Handelsgesellschaft mbH] -4020.9543    639.672     -6.286      0.000   -5276.585   -2765.323\n",
       "C(company_name)[T.Norske Meierier]                        -4577.4429    595.217     -7.690      0.000   -5745.813   -3409.073\n",
       "C(company_name)[T.PB Knäckebröd AB]                       -3467.2191    649.871     -5.335      0.000   -4742.870   -2191.568\n",
       "C(company_name)[T.Pasta Buttini s.r.l.]                   -4213.2626    688.425     -6.120      0.000   -5564.593   -2861.932\n",
       "C(company_name)[T.Pavlova, Ltd.]                          -3428.2235    492.859     -6.956      0.000   -4395.671   -2460.776\n",
       "C(company_name)[T.Plutzer Lebensmittelgroßmärkte AG]      -3037.2159    538.955     -5.635      0.000   -4095.148   -1979.284\n",
       "C(company_name)[T.Refrescos Americanas LTDA]              -4140.1151    571.410     -7.245      0.000   -5261.752   -3018.478\n",
       "C(company_name)[T.Specialty Biscuits, Ltd.]               -3569.0405    502.134     -7.108      0.000   -4554.695   -2583.386\n",
       "C(company_name)[T.Svensk Sjöföda AB]                      -3905.2072    661.240     -5.906      0.000   -5203.175   -2607.240\n",
       "C(company_name)[T.Tokyo Traders]                          -3068.2958    551.328     -5.565      0.000   -4150.514   -1986.078\n",
       "C(company_name)[T.Zaanse Snoepfabriek]                    -4372.0972    803.691     -5.440      0.000   -5949.687   -2794.507\n",
       "==============================================================================\n",
       "Omnibus:                      551.773   Durbin-Watson:                   2.000\n",
       "Prob(Omnibus):                  0.000   Jarque-Bera (JB):             7342.104\n",
       "Skew:                           2.866   Prob(JB):                         0.00\n",
       "Kurtosis:                      16.396   Cond. No.                         38.2\n",
       "==============================================================================\n",
       "\n",
       "Warnings:\n",
       "[1] Standard Errors assume that the covariance matrix of the errors is correctly specified.\n",
       "\"\"\""
      ]
     },
     "execution_count": 64,
     "metadata": {},
     "output_type": "execute_result"
    }
   ],
   "source": [
    "results = ols('total_bookings ~ C(company_name)', data=df_s).fit()\n",
    "results.summary()"
   ]
  },
  {
   "cell_type": "code",
   "execution_count": 74,
   "metadata": {
    "scrolled": false
   },
   "outputs": [
    {
     "data": {
      "image/png": "[encoded data removed]",
      "text/plain": [
       "<Figure size 864x864 with 1 Axes>"
      ]
     },
     "metadata": {
      "needs_background": "light"
     },
     "output_type": "display_data"
    }
   ],
   "source": [
    "plt.figure(figsize=(12,12))\n",
    "sns.barplot(y='total_bookings',x='country', data=df_s)\n",
    "plt.title('Distribution of Supplier Countries total Bookings')\n",
    "plt.xlabel('Country')\n",
    "plt.ylabel('Average Order Sale');"
   ]
  },
  {
   "cell_type": "code",
   "execution_count": 75,
   "metadata": {},
   "outputs": [
    {
     "data": {
      "text/html": [
       "<table class=\"simpletable\">\n",
       "<caption>OLS Regression Results</caption>\n",
       "<tr>\n",
       "  <th>Dep. Variable:</th>     <td>total_bookings</td>  <th>  R-squared:         </th> <td>   0.055</td> \n",
       "</tr>\n",
       "<tr>\n",
       "  <th>Model:</th>                   <td>OLS</td>       <th>  Adj. R-squared:    </th> <td>   0.038</td> \n",
       "</tr>\n",
       "<tr>\n",
       "  <th>Method:</th>             <td>Least Squares</td>  <th>  F-statistic:       </th> <td>   3.176</td> \n",
       "</tr>\n",
       "<tr>\n",
       "  <th>Date:</th>             <td>Fri, 19 Jul 2019</td> <th>  Prob (F-statistic):</th> <td>4.16e-05</td> \n",
       "</tr>\n",
       "<tr>\n",
       "  <th>Time:</th>                 <td>15:08:14</td>     <th>  Log-Likelihood:    </th> <td> -7458.5</td> \n",
       "</tr>\n",
       "<tr>\n",
       "  <th>No. Observations:</th>      <td>   830</td>      <th>  AIC:               </th> <td>1.495e+04</td>\n",
       "</tr>\n",
       "<tr>\n",
       "  <th>Df Residuals:</th>          <td>   814</td>      <th>  BIC:               </th> <td>1.502e+04</td>\n",
       "</tr>\n",
       "<tr>\n",
       "  <th>Df Model:</th>              <td>    15</td>      <th>                     </th>     <td> </td>    \n",
       "</tr>\n",
       "<tr>\n",
       "  <th>Covariance Type:</th>      <td>nonrobust</td>    <th>                     </th>     <td> </td>    \n",
       "</tr>\n",
       "</table>\n",
       "<table class=\"simpletable\">\n",
       "<tr>\n",
       "              <td></td>                 <th>coef</th>     <th>std err</th>      <th>t</th>      <th>P>|t|</th>  <th>[0.025</th>    <th>0.975]</th>  \n",
       "</tr>\n",
       "<tr>\n",
       "  <th>Intercept</th>                 <td> 1543.0283</td> <td>  192.390</td> <td>    8.020</td> <td> 0.000</td> <td> 1165.390</td> <td> 1920.667</td>\n",
       "</tr>\n",
       "<tr>\n",
       "  <th>C(country)[T.Brazil]</th>      <td> -485.9962</td> <td>  416.139</td> <td>   -1.168</td> <td> 0.243</td> <td>-1302.829</td> <td>  330.837</td>\n",
       "</tr>\n",
       "<tr>\n",
       "  <th>C(country)[T.Canada]</th>      <td> -715.8423</td> <td>  435.329</td> <td>   -1.644</td> <td> 0.100</td> <td>-1570.341</td> <td>  138.657</td>\n",
       "</tr>\n",
       "<tr>\n",
       "  <th>C(country)[T.Denmark]</th>     <td> -557.8742</td> <td>  595.581</td> <td>   -0.937</td> <td> 0.349</td> <td>-1726.929</td> <td>  611.181</td>\n",
       "</tr>\n",
       "<tr>\n",
       "  <th>C(country)[T.Finland]</th>     <td> -491.8561</td> <td>  678.688</td> <td>   -0.725</td> <td> 0.469</td> <td>-1824.040</td> <td>  840.328</td>\n",
       "</tr>\n",
       "<tr>\n",
       "  <th>C(country)[T.France]</th>      <td> 1579.6896</td> <td>  367.108</td> <td>    4.303</td> <td> 0.000</td> <td>  859.099</td> <td> 2300.280</td>\n",
       "</tr>\n",
       "<tr>\n",
       "  <th>C(country)[T.Germany]</th>     <td>  224.9253</td> <td>  284.315</td> <td>    0.791</td> <td> 0.429</td> <td> -333.151</td> <td>  783.002</td>\n",
       "</tr>\n",
       "<tr>\n",
       "  <th>C(country)[T.Italy]</th>       <td> -187.4262</td> <td>  346.255</td> <td>   -0.541</td> <td> 0.588</td> <td> -867.085</td> <td>  492.232</td>\n",
       "</tr>\n",
       "<tr>\n",
       "  <th>C(country)[T.Japan]</th>       <td>  -23.8944</td> <td>  287.054</td> <td>   -0.083</td> <td> 0.934</td> <td> -587.347</td> <td>  539.559</td>\n",
       "</tr>\n",
       "<tr>\n",
       "  <th>C(country)[T.Netherlands]</th> <td> -717.9783</td> <td>  716.636</td> <td>   -1.002</td> <td> 0.317</td> <td>-2124.651</td> <td>  688.694</td>\n",
       "</tr>\n",
       "<tr>\n",
       "  <th>C(country)[T.Norway]</th>      <td> -923.3240</td> <td>  450.302</td> <td>   -2.050</td> <td> 0.041</td> <td>-1807.213</td> <td>  -39.435</td>\n",
       "</tr>\n",
       "<tr>\n",
       "  <th>C(country)[T.Singapore]</th>   <td> -678.6498</td> <td>  556.175</td> <td>   -1.220</td> <td> 0.223</td> <td>-1770.355</td> <td>  413.056</td>\n",
       "</tr>\n",
       "<tr>\n",
       "  <th>C(country)[T.Spain]</th>       <td>  525.5371</td> <td>  351.653</td> <td>    1.494</td> <td> 0.135</td> <td> -164.717</td> <td> 1215.791</td>\n",
       "</tr>\n",
       "<tr>\n",
       "  <th>C(country)[T.Sweden]</th>      <td>  -25.0300</td> <td>  399.994</td> <td>   -0.063</td> <td> 0.950</td> <td> -810.172</td> <td>  760.112</td>\n",
       "</tr>\n",
       "<tr>\n",
       "  <th>C(country)[T.UK]</th>          <td>  323.2290</td> <td>  247.582</td> <td>    1.306</td> <td> 0.192</td> <td> -162.745</td> <td>  809.203</td>\n",
       "</tr>\n",
       "<tr>\n",
       "  <th>C(country)[T.USA]</th>         <td>   76.7438</td> <td>  262.267</td> <td>    0.293</td> <td> 0.770</td> <td> -438.056</td> <td>  591.544</td>\n",
       "</tr>\n",
       "</table>\n",
       "<table class=\"simpletable\">\n",
       "<tr>\n",
       "  <th>Omnibus:</th>       <td>596.624</td> <th>  Durbin-Watson:     </th> <td>   2.025</td>\n",
       "</tr>\n",
       "<tr>\n",
       "  <th>Prob(Omnibus):</th> <td> 0.000</td>  <th>  Jarque-Bera (JB):  </th> <td>8752.167</td>\n",
       "</tr>\n",
       "<tr>\n",
       "  <th>Skew:</th>          <td> 3.165</td>  <th>  Prob(JB):          </th> <td>    0.00</td>\n",
       "</tr>\n",
       "<tr>\n",
       "  <th>Kurtosis:</th>      <td>17.594</td>  <th>  Cond. No.          </th> <td>    13.7</td>\n",
       "</tr>\n",
       "</table><br/><br/>Warnings:<br/>[1] Standard Errors assume that the covariance matrix of the errors is correctly specified."
      ],
      "text/plain": [
       "<class 'statsmodels.iolib.summary.Summary'>\n",
       "\"\"\"\n",
       "                            OLS Regression Results                            \n",
       "==============================================================================\n",
       "Dep. Variable:         total_bookings   R-squared:                       0.055\n",
       "Model:                            OLS   Adj. R-squared:                  0.038\n",
       "Method:                 Least Squares   F-statistic:                     3.176\n",
       "Date:                Fri, 19 Jul 2019   Prob (F-statistic):           4.16e-05\n",
       "Time:                        15:08:14   Log-Likelihood:                -7458.5\n",
       "No. Observations:                 830   AIC:                         1.495e+04\n",
       "Df Residuals:                     814   BIC:                         1.502e+04\n",
       "Df Model:                          15                                         \n",
       "Covariance Type:            nonrobust                                         \n",
       "=============================================================================================\n",
       "                                coef    std err          t      P>|t|      [0.025      0.975]\n",
       "---------------------------------------------------------------------------------------------\n",
       "Intercept                  1543.0283    192.390      8.020      0.000    1165.390    1920.667\n",
       "C(country)[T.Brazil]       -485.9962    416.139     -1.168      0.243   -1302.829     330.837\n",
       "C(country)[T.Canada]       -715.8423    435.329     -1.644      0.100   -1570.341     138.657\n",
       "C(country)[T.Denmark]      -557.8742    595.581     -0.937      0.349   -1726.929     611.181\n",
       "C(country)[T.Finland]      -491.8561    678.688     -0.725      0.469   -1824.040     840.328\n",
       "C(country)[T.France]       1579.6896    367.108      4.303      0.000     859.099    2300.280\n",
       "C(country)[T.Germany]       224.9253    284.315      0.791      0.429    -333.151     783.002\n",
       "C(country)[T.Italy]        -187.4262    346.255     -0.541      0.588    -867.085     492.232\n",
       "C(country)[T.Japan]         -23.8944    287.054     -0.083      0.934    -587.347     539.559\n",
       "C(country)[T.Netherlands]  -717.9783    716.636     -1.002      0.317   -2124.651     688.694\n",
       "C(country)[T.Norway]       -923.3240    450.302     -2.050      0.041   -1807.213     -39.435\n",
       "C(country)[T.Singapore]    -678.6498    556.175     -1.220      0.223   -1770.355     413.056\n",
       "C(country)[T.Spain]         525.5371    351.653      1.494      0.135    -164.717    1215.791\n",
       "C(country)[T.Sweden]        -25.0300    399.994     -0.063      0.950    -810.172     760.112\n",
       "C(country)[T.UK]            323.2290    247.582      1.306      0.192    -162.745     809.203\n",
       "C(country)[T.USA]            76.7438    262.267      0.293      0.770    -438.056     591.544\n",
       "==============================================================================\n",
       "Omnibus:                      596.624   Durbin-Watson:                   2.025\n",
       "Prob(Omnibus):                  0.000   Jarque-Bera (JB):             8752.167\n",
       "Skew:                           3.165   Prob(JB):                         0.00\n",
       "Kurtosis:                      17.594   Cond. No.                         13.7\n",
       "==============================================================================\n",
       "\n",
       "Warnings:\n",
       "[1] Standard Errors assume that the covariance matrix of the errors is correctly specified.\n",
       "\"\"\""
      ]
     },
     "execution_count": 75,
     "metadata": {},
     "output_type": "execute_result"
    }
   ],
   "source": [
    "results = ols('total_bookings ~ C(country)', data=df_s).fit()\n",
    "results.summary()"
   ]
  },
  {
   "cell_type": "code",
   "execution_count": 76,
   "metadata": {
    "scrolled": false
   },
   "outputs": [
    {
     "name": "stdout",
     "output_type": "stream",
     "text": [
      "      Multiple Comparison of Means - Tukey HSD,FWER=0.05      \n",
      "==============================================================\n",
      "   group1      group2    meandiff    lower      upper   reject\n",
      "--------------------------------------------------------------\n",
      " Australia     Brazil   -485.9962  -1916.2905  944.2981 False \n",
      " Australia     Canada   -715.8423  -2212.091   780.4063 False \n",
      " Australia    Denmark   -557.8742  -2604.9177 1489.1694 False \n",
      " Australia    Finland   -491.8561  -2824.5435 1840.8313 False \n",
      " Australia     France   1579.6896   317.9183  2841.4609  True \n",
      " Australia    Germany    224.9253  -752.2803   1202.131 False \n",
      " Australia     Italy    -187.4262  -1377.5249 1002.6726 False \n",
      " Australia     Japan     -23.8944  -1010.5145  962.7256 False \n",
      " Australia  Netherlands -717.9783  -3181.0967  1745.14  False \n",
      " Australia     Norway    -923.324  -2471.036   624.388  False \n",
      " Australia   Singapore  -678.6498  -2590.2528 1232.9532 False \n",
      " Australia     Spain     525.5371  -683.1144  1734.1887 False \n",
      " Australia     Sweden     -25.03   -1399.8325 1349.7726 False \n",
      " Australia       UK      323.229   -527.7241  1174.1822 False \n",
      " Australia      USA      76.7438   -824.6832   978.1709 False \n",
      "   Brazil      Canada   -229.8461  -2076.4609 1616.7687 False \n",
      "   Brazil     Denmark    -71.878   -2387.3938 2243.6379 False \n",
      "   Brazil     Finland    -5.8599   -2577.3686 2565.6487 False \n",
      "   Brazil      France   2065.6858   403.3702  3728.0014  True \n",
      "   Brazil     Germany    710.9215  -747.2133  2169.0563 False \n",
      "   Brazil      Italy      298.57   -1310.0198 1907.1599 False \n",
      "   Brazil      Japan     462.1018  -1002.359  1926.5626 False \n",
      "   Brazil   Netherlands -231.9821  -2922.3684 2458.4041 False \n",
      "   Brazil      Norway   -437.3278  -2325.8824 1451.2268 False \n",
      "   Brazil    Singapore  -192.6536  -2389.3448 2004.0376 False \n",
      "   Brazil      Spain    1011.5333  -610.8307  2633.8973 False \n",
      "   Brazil      Sweden    460.9662  -1288.6933 2210.6258 False \n",
      "   Brazil        UK      809.2252  -567.4909  2185.9414 False \n",
      "   Brazil       USA       562.74   -845.7333  1971.2133 False \n",
      "   Canada     Denmark    157.9682  -2198.8584 2514.7948 False \n",
      "   Canada     Finland    223.9862  -2384.7826 2832.7551 False \n",
      "   Canada      France   2295.5319   576.1393  4014.9246  True \n",
      "   Canada     Germany    940.7677  -582.1162  2463.6515 False \n",
      "   Canada      Italy     528.4162  -1139.0908 2195.9231 False \n",
      "   Canada      Japan     691.9479   -836.994  2220.8899 False \n",
      "   Canada   Netherlands   -2.136   -2728.1581 2723.8861 False \n",
      "   Canada      Norway   -207.4817  -2146.4651 1731.5018 False \n",
      "   Canada    Singapore   37.1926   -2203.0017 2277.3868 False \n",
      "   Canada      Spain    1241.3795  -439.4188  2922.1778 False \n",
      "   Canada      Sweden    690.8124  -1113.1628 2494.7876 False \n",
      "   Canada        UK     1039.0714  -406.0464  2484.1892 False \n",
      "   Canada       USA      792.5862  -682.8172  2267.9895 False \n",
      "  Denmark     Finland    66.0181   -2893.2559  3025.292 False \n",
      "  Denmark      France   2137.5638   -77.823   4352.9506 False \n",
      "  Denmark     Germany    782.7995  -1283.7925 2849.3915 False \n",
      "  Denmark      Italy     370.448   -1804.9156 2545.8116 False \n",
      "  Denmark      Japan     533.9798  -1537.0806 2605.0401 False \n",
      "  Denmark   Netherlands -160.1042  -3223.2437 2903.0354 False \n",
      "  Denmark      Norway   -365.4498  -2755.2791 2024.3795 False \n",
      "  Denmark    Singapore  -120.7756  -2760.8698 2519.3187 False \n",
      "  Denmark      Spain    1083.4113  -1102.1573 3268.9799 False \n",
      "  Denmark      Sweden    532.8442  -1748.8117 2814.5002 False \n",
      "  Denmark        UK      881.1032  -1128.8701 2891.0766 False \n",
      "  Denmark       USA      634.618   -1397.2389 2666.4749 False \n",
      "  Finland      France   2071.5457  -410.1839  4553.2753 False \n",
      "  Finland     Germany    716.7815  -1633.0793 3066.6422 False \n",
      "  Finland      Italy      304.43   -2141.6383 2750.4982 False \n",
      "  Finland      Japan     467.9617  -1885.8297 2821.7531 False \n",
      "  Finland   Netherlands -226.1222  -3487.0833 3034.8388 False \n",
      "  Finland      Norway   -431.4679  -3070.0901 2207.1543 False \n",
      "  Finland    Singapore  -186.7937  -3054.0468 2680.4595 False \n",
      "  Finland      Spain    1017.3932  -1437.7551 3472.5416 False \n",
      "  Finland      Sweden    466.8262  -2074.236  3007.8883 False \n",
      "  Finland        UK      815.0852  -1485.1401 3115.3104 False \n",
      "  Finland       USA      568.5999  -1750.7719 2887.9718 False \n",
      "   France     Germany   -1354.7643 -2648.0091  -61.5195  True \n",
      "   France      Italy    -1767.1158 -3227.8986  -306.333  True \n",
      "   France      Japan    -1603.584  -2903.9572 -303.2108  True \n",
      "   France   Netherlands -2297.6679 -4902.3759   307.04  False \n",
      "   France      Norway   -2503.0136 -4267.3729 -738.6543  True \n",
      "   France    Singapore  -2258.3394 -4349.2189 -167.4598  True \n",
      "   France      Spain    -1054.1525 -2530.0894  421.7844 False \n",
      "   France      Sweden   -1604.7196 -3219.5364  10.0973  False \n",
      "   France        UK     -1256.4606 -2457.1572  -55.7639  True \n",
      "   France       USA     -1502.9458 -2739.9268 -265.9648  True \n",
      "  Germany      Italy    -412.3515  -1635.769   811.066  False \n",
      "  Germany      Japan    -248.8197  -1275.3841  777.7446 False \n",
      "  Germany   Netherlands -942.9037  -3422.2922 1536.4848 False \n",
      "  Germany      Norway   -1148.2493 -2721.7256  425.2269 False \n",
      "  Germany    Singapore  -903.5751  -2836.0971 1028.9469 False \n",
      "  Germany      Spain     300.6118  -940.8607  1542.0842 False \n",
      "  Germany      Sweden   -249.9553  -1653.6993 1153.7888 False \n",
      "  Germany        UK      98.3037   -798.6558   995.2633 False \n",
      "  Germany       USA     -148.1815  -1093.1609  796.7978 False \n",
      "   Italy       Japan     163.5318  -1067.4185  1394.482 False \n",
      "   Italy    Netherlands -530.5522  -3101.3053 2040.2009 False \n",
      "   Italy       Norway   -735.8978  -2449.7332  977.9376 False \n",
      "   Italy     Singapore  -491.2236  -2539.6487 1557.2015 False \n",
      "   Italy       Spain     712.9633  -702.1897  2128.1163 False \n",
      "   Italy       Sweden    162.3962  -1397.0593 1721.8518 False \n",
      "   Italy         UK      510.6552  -614.4851  1635.7955 False \n",
      "   Italy        USA       264.17   -899.6127  1427.9527 False \n",
      "   Japan    Netherlands -694.0839  -3177.198  1789.0302 False \n",
      "   Japan       Norway   -899.4296  -2478.7699  679.9107 False \n",
      "   Japan     Singapore  -654.7554  -2592.0549 1282.5442 False \n",
      "   Japan       Spain     549.4315  -699.4648  1798.3279 False \n",
      "   Japan       Sweden    -1.1355   -1411.4496 1409.1785 False \n",
      "   Japan         UK      347.1235  -560.0837  1254.3306 False \n",
      "   Japan        USA      100.6382  -854.0734  1055.3499 False \n",
      "Netherlands    Norway   -205.3457  -2959.9507 2549.2594 False \n",
      "Netherlands  Singapore   39.3286   -2935.0054 3013.6625 False \n",
      "Netherlands    Spain    1243.5155  -1335.8789 3822.9098 False \n",
      "Netherlands    Sweden    692.9484  -1968.3518 3354.2486 False \n",
      "Netherlands      UK     1041.2074  -1391.1901 3473.6049 False \n",
      "Netherlands     USA      794.7222  -1655.7895 3245.2338 False \n",
      "   Norway    Singapore   244.6742  -2030.2154 2519.5638 False \n",
      "   Norway      Spain    1448.8611  -277.9091  3175.6313 False \n",
      "   Norway      Sweden    898.294   -948.5895  2745.1776 False \n",
      "   Norway        UK      1246.553  -251.7853  2744.8914 False \n",
      "   Norway       USA     1000.0678  -527.5013   2527.637 False \n",
      " Singapore     Spain    1204.1869  -855.0724  3263.4462 False \n",
      " Singapore     Sweden    653.6198  -1507.3504 2814.5901 False \n",
      " Singapore       UK     1001.8788  -869.9736  2873.7313 False \n",
      " Singapore      USA      755.3936  -1139.9378  2650.725 False \n",
      "   Spain       Sweden   -550.5671  -2124.2268 1023.0927 False \n",
      "   Spain         UK     -202.3081  -1347.0544  942.4383 False \n",
      "   Spain        USA     -448.7933  -1631.5417  733.9551 False \n",
      "   Sweden        UK      348.259   -970.7132  1667.2312 False \n",
      "   Sweden       USA      101.7738  -1250.3125  1453.86  False \n",
      "     UK         USA     -246.4852  -1060.2274  567.257  False \n",
      "--------------------------------------------------------------\n"
     ]
    }
   ],
   "source": [
    "mc = MultiComparison(df_s.total_bookings, df_s.country)\n",
    "mc_results = mc.tukeyhsd()\n",
    "print(mc_results)"
   ]
  },
  {
   "cell_type": "code",
   "execution_count": null,
   "metadata": {},
   "outputs": [],
   "source": []
  },
  {
   "cell_type": "markdown",
   "metadata": {},
   "source": [
    "# Hypothesis 4: Seasonality  \n",
    "\n",
    "Is there any seasonality in sales? By Month, quarter, or weekend/weekday"
   ]
  },
  {
   "cell_type": "code",
   "execution_count": 67,
   "metadata": {
    "scrolled": false
   },
   "outputs": [
    {
     "name": "stdout",
     "output_type": "stream",
     "text": [
      "2019-07-19 10:44:41,622 INFO sqlalchemy.engine.base.Engine SELECT od.OrderId, SUM(od.UnitPrice*od.Quantity) AS total_bookings, o.OrderDate as date FROM OrderDetail od LEFT JOIN [Order] o ON od.OrderId = o.Id GROUP BY od.OrderId\n",
      "2019-07-19 10:44:41,623 INFO sqlalchemy.engine.base.Engine ()\n"
     ]
    }
   ],
   "source": [
    "# Query for orderid, total bookings, and order date. Connect Order Detail and Order Tables by the OrderId\n",
    "q = '''SELECT od.OrderId, SUM(od.UnitPrice*od.Quantity) AS total_bookings, o.OrderDate as date \\\n",
    "FROM OrderDetail od \\\n",
    "LEFT JOIN [Order] o ON od.OrderId = o.Id \\\n",
    "GROUP BY od.OrderId'''\n",
    "df_seasons = pd.read_sql_query(q, engine)\n"
   ]
  },
  {
   "cell_type": "code",
   "execution_count": 88,
   "metadata": {},
   "outputs": [
    {
     "data": {
      "text/html": [
       "<div>\n",
       "<style scoped>\n",
       "    .dataframe tbody tr th:only-of-type {\n",
       "        vertical-align: middle;\n",
       "    }\n",
       "\n",
       "    .dataframe tbody tr th {\n",
       "        vertical-align: top;\n",
       "    }\n",
       "\n",
       "    .dataframe thead th {\n",
       "        text-align: right;\n",
       "    }\n",
       "</style>\n",
       "<table border=\"1\" class=\"dataframe\">\n",
       "  <thead>\n",
       "    <tr style=\"text-align: right;\">\n",
       "      <th></th>\n",
       "      <th>OrderId</th>\n",
       "      <th>total_bookings</th>\n",
       "      <th>date</th>\n",
       "      <th>datetime</th>\n",
       "      <th>month</th>\n",
       "      <th>day</th>\n",
       "      <th>dow</th>\n",
       "      <th>weekday</th>\n",
       "      <th>quarter</th>\n",
       "    </tr>\n",
       "  </thead>\n",
       "  <tbody>\n",
       "    <tr>\n",
       "      <th>0</th>\n",
       "      <td>10248</td>\n",
       "      <td>440.0</td>\n",
       "      <td>2012-07-04</td>\n",
       "      <td>2012-07-04</td>\n",
       "      <td>7</td>\n",
       "      <td>4</td>\n",
       "      <td>2</td>\n",
       "      <td>1</td>\n",
       "      <td>3</td>\n",
       "    </tr>\n",
       "    <tr>\n",
       "      <th>1</th>\n",
       "      <td>10249</td>\n",
       "      <td>1863.4</td>\n",
       "      <td>2012-07-05</td>\n",
       "      <td>2012-07-05</td>\n",
       "      <td>7</td>\n",
       "      <td>5</td>\n",
       "      <td>3</td>\n",
       "      <td>1</td>\n",
       "      <td>3</td>\n",
       "    </tr>\n",
       "    <tr>\n",
       "      <th>2</th>\n",
       "      <td>10250</td>\n",
       "      <td>1813.0</td>\n",
       "      <td>2012-07-08</td>\n",
       "      <td>2012-07-08</td>\n",
       "      <td>7</td>\n",
       "      <td>8</td>\n",
       "      <td>6</td>\n",
       "      <td>0</td>\n",
       "      <td>3</td>\n",
       "    </tr>\n",
       "    <tr>\n",
       "      <th>3</th>\n",
       "      <td>10251</td>\n",
       "      <td>670.8</td>\n",
       "      <td>2012-07-08</td>\n",
       "      <td>2012-07-08</td>\n",
       "      <td>7</td>\n",
       "      <td>8</td>\n",
       "      <td>6</td>\n",
       "      <td>0</td>\n",
       "      <td>3</td>\n",
       "    </tr>\n",
       "    <tr>\n",
       "      <th>4</th>\n",
       "      <td>10252</td>\n",
       "      <td>3730.0</td>\n",
       "      <td>2012-07-09</td>\n",
       "      <td>2012-07-09</td>\n",
       "      <td>7</td>\n",
       "      <td>9</td>\n",
       "      <td>0</td>\n",
       "      <td>1</td>\n",
       "      <td>3</td>\n",
       "    </tr>\n",
       "  </tbody>\n",
       "</table>\n",
       "</div>"
      ],
      "text/plain": [
       "   OrderId  total_bookings        date   datetime  month  day  dow  weekday  \\\n",
       "0    10248           440.0  2012-07-04 2012-07-04      7    4    2        1   \n",
       "1    10249          1863.4  2012-07-05 2012-07-05      7    5    3        1   \n",
       "2    10250          1813.0  2012-07-08 2012-07-08      7    8    6        0   \n",
       "3    10251           670.8  2012-07-08 2012-07-08      7    8    6        0   \n",
       "4    10252          3730.0  2012-07-09 2012-07-09      7    9    0        1   \n",
       "\n",
       "   quarter  \n",
       "0        3  \n",
       "1        3  \n",
       "2        3  \n",
       "3        3  \n",
       "4        3  "
      ]
     },
     "execution_count": 88,
     "metadata": {},
     "output_type": "execute_result"
    }
   ],
   "source": [
    "df_seasons.head()"
   ]
  },
  {
   "cell_type": "code",
   "execution_count": 69,
   "metadata": {},
   "outputs": [],
   "source": [
    "import datetime"
   ]
  },
  {
   "cell_type": "code",
   "execution_count": 70,
   "metadata": {},
   "outputs": [],
   "source": [
    "#change date into datetime object\n",
    "dates = []\n",
    "for i in df_seasons.date:\n",
    "    ii = datetime.datetime.strptime(i, \"%Y-%m-%d\")\n",
    "    dates.append(ii)\n",
    "df_seasons['datetime'] = dates"
   ]
  },
  {
   "cell_type": "code",
   "execution_count": 80,
   "metadata": {},
   "outputs": [],
   "source": [
    "# Turn order dates into months and days\n",
    "months = []\n",
    "for i in df_seasons.datetime:\n",
    "    months.append(i.month)\n",
    "df_seasons['month'] = months\n",
    "\n",
    "day = []\n",
    "for k in df_seasons.datetime:\n",
    "    day.append(k.day)\n",
    "df_seasons['day'] = day"
   ]
  },
  {
   "cell_type": "code",
   "execution_count": 72,
   "metadata": {
    "scrolled": false
   },
   "outputs": [
    {
     "data": {
      "image/png": "[encoded data removed]",
      "text/plain": [
       "<Figure size 864x864 with 1 Axes>"
      ]
     },
     "metadata": {},
     "output_type": "display_data"
    }
   ],
   "source": [
    "plt.figure(figsize=(12,12))\n",
    "sns.barplot(y='total_bookings',x='month', data=df_seasons)\n",
    "plt.title('Distribution of months total Bookings')\n",
    "plt.xlabel('mnonths')\n",
    "plt.ylabel('Average Order Sale');"
   ]
  },
  {
   "cell_type": "code",
   "execution_count": 73,
   "metadata": {
    "scrolled": false
   },
   "outputs": [
    {
     "name": "stderr",
     "output_type": "stream",
     "text": [
      "/anaconda3/lib/python3.7/site-packages/seaborn/distributions.py:198: RuntimeWarning: Mean of empty slice.\n",
      "  line, = ax.plot(a.mean(), 0)\n",
      "/anaconda3/lib/python3.7/site-packages/numpy/core/_methods.py:85: RuntimeWarning: invalid value encountered in double_scalars\n",
      "  ret = ret.dtype.type(ret / rcount)\n"
     ]
    },
    {
     "data": {
      "text/plain": [
       "Text(0, 0.5, 'Density')"
      ]
     },
     "execution_count": 73,
     "metadata": {},
     "output_type": "execute_result"
    },
    {
     "data": {
      "image/png": "[encoded data removed]",
      "text/plain": [
       "<Figure size 864x864 with 1 Axes>"
      ]
     },
     "metadata": {},
     "output_type": "display_data"
    }
   ],
   "source": [
    "# Do overlapping distribtion Plot on monthly data\n",
    "plt.figure(figsize=(12,12))\n",
    "for i in range(0,12):\n",
    "    # Subset to the airline\n",
    "    subset = df_seasons[df_seasons['month'] == i]\n",
    "    \n",
    "    # Draw the density plot\n",
    "    sns.distplot(subset['total_bookings'], hist = False, kde = True,\n",
    "                 kde_kws = {'linewidth': 3},\n",
    "                 label = i)\n",
    "    \n",
    "# Plot formatting\n",
    "plt.legend(prop={'size': 16}, title = 'Month')\n",
    "plt.title('Density Plot with Multiple Months')\n",
    "plt.xlabel('Total Bookings')\n",
    "plt.ylabel('Density')"
   ]
  },
  {
   "cell_type": "code",
   "execution_count": 100,
   "metadata": {},
   "outputs": [
    {
     "data": {
      "text/html": [
       "<table class=\"simpletable\">\n",
       "<caption>OLS Regression Results</caption>\n",
       "<tr>\n",
       "  <th>Dep. Variable:</th>     <td>total_bookings</td>  <th>  R-squared:         </th> <td>   0.008</td> \n",
       "</tr>\n",
       "<tr>\n",
       "  <th>Model:</th>                   <td>OLS</td>       <th>  Adj. R-squared:    </th> <td>  -0.005</td> \n",
       "</tr>\n",
       "<tr>\n",
       "  <th>Method:</th>             <td>Least Squares</td>  <th>  F-statistic:       </th> <td>  0.6015</td> \n",
       "</tr>\n",
       "<tr>\n",
       "  <th>Date:</th>             <td>Fri, 19 Jul 2019</td> <th>  Prob (F-statistic):</th>  <td> 0.829</td>  \n",
       "</tr>\n",
       "<tr>\n",
       "  <th>Time:</th>                 <td>12:00:57</td>     <th>  Log-Likelihood:    </th> <td> -7478.7</td> \n",
       "</tr>\n",
       "<tr>\n",
       "  <th>No. Observations:</th>      <td>   830</td>      <th>  AIC:               </th> <td>1.498e+04</td>\n",
       "</tr>\n",
       "<tr>\n",
       "  <th>Df Residuals:</th>          <td>   818</td>      <th>  BIC:               </th> <td>1.504e+04</td>\n",
       "</tr>\n",
       "<tr>\n",
       "  <th>Df Model:</th>              <td>    11</td>      <th>                     </th>     <td> </td>    \n",
       "</tr>\n",
       "<tr>\n",
       "  <th>Covariance Type:</th>      <td>nonrobust</td>    <th>                     </th>     <td> </td>    \n",
       "</tr>\n",
       "</table>\n",
       "<table class=\"simpletable\">\n",
       "<tr>\n",
       "         <td></td>           <th>coef</th>     <th>std err</th>      <th>t</th>      <th>P>|t|</th>  <th>[0.025</th>    <th>0.975]</th>  \n",
       "</tr>\n",
       "<tr>\n",
       "  <th>Intercept</th>      <td> 1903.9491</td> <td>  212.763</td> <td>    8.949</td> <td> 0.000</td> <td> 1486.322</td> <td> 2321.576</td>\n",
       "</tr>\n",
       "<tr>\n",
       "  <th>C(month)[T.2]</th>  <td> -147.6943</td> <td>  305.391</td> <td>   -0.484</td> <td> 0.629</td> <td> -747.136</td> <td>  451.748</td>\n",
       "</tr>\n",
       "<tr>\n",
       "  <th>C(month)[T.3]</th>  <td> -449.5282</td> <td>  289.731</td> <td>   -1.552</td> <td> 0.121</td> <td>-1018.232</td> <td>  119.176</td>\n",
       "</tr>\n",
       "<tr>\n",
       "  <th>C(month)[T.4]</th>  <td>  -91.2829</td> <td>  288.457</td> <td>   -0.316</td> <td> 0.752</td> <td> -657.486</td> <td>  474.920</td>\n",
       "</tr>\n",
       "<tr>\n",
       "  <th>C(month)[T.5]</th>  <td> -236.0717</td> <td>  363.137</td> <td>   -0.650</td> <td> 0.516</td> <td> -948.862</td> <td>  476.719</td>\n",
       "</tr>\n",
       "<tr>\n",
       "  <th>C(month)[T.6]</th>  <td> -601.0158</td> <td>  421.966</td> <td>   -1.424</td> <td> 0.155</td> <td>-1429.279</td> <td>  227.248</td>\n",
       "</tr>\n",
       "<tr>\n",
       "  <th>C(month)[T.7]</th>  <td> -346.5485</td> <td>  343.071</td> <td>   -1.010</td> <td> 0.313</td> <td>-1019.951</td> <td>  326.854</td>\n",
       "</tr>\n",
       "<tr>\n",
       "  <th>C(month)[T.8]</th>  <td> -583.4131</td> <td>  337.567</td> <td>   -1.728</td> <td> 0.084</td> <td>-1246.012</td> <td>   79.186</td>\n",
       "</tr>\n",
       "<tr>\n",
       "  <th>C(month)[T.9]</th>  <td> -447.7988</td> <td>  334.158</td> <td>   -1.340</td> <td> 0.181</td> <td>-1103.708</td> <td>  208.110</td>\n",
       "</tr>\n",
       "<tr>\n",
       "  <th>C(month)[T.10]</th> <td> -161.2600</td> <td>  327.891</td> <td>   -0.492</td> <td> 0.623</td> <td> -804.866</td> <td>  482.346</td>\n",
       "</tr>\n",
       "<tr>\n",
       "  <th>C(month)[T.11]</th> <td> -283.3159</td> <td>  335.838</td> <td>   -0.844</td> <td> 0.399</td> <td> -942.522</td> <td>  375.890</td>\n",
       "</tr>\n",
       "<tr>\n",
       "  <th>C(month)[T.12]</th> <td> -278.2572</td> <td>  309.344</td> <td>   -0.900</td> <td> 0.369</td> <td> -885.459</td> <td>  328.944</td>\n",
       "</tr>\n",
       "</table>\n",
       "<table class=\"simpletable\">\n",
       "<tr>\n",
       "  <th>Omnibus:</th>       <td>636.870</td> <th>  Durbin-Watson:     </th> <td>   2.040</td> \n",
       "</tr>\n",
       "<tr>\n",
       "  <th>Prob(Omnibus):</th> <td> 0.000</td>  <th>  Jarque-Bera (JB):  </th> <td>10981.068</td>\n",
       "</tr>\n",
       "<tr>\n",
       "  <th>Skew:</th>          <td> 3.412</td>  <th>  Prob(JB):          </th> <td>    0.00</td> \n",
       "</tr>\n",
       "<tr>\n",
       "  <th>Kurtosis:</th>      <td>19.461</td>  <th>  Cond. No.          </th> <td>    11.7</td> \n",
       "</tr>\n",
       "</table><br/><br/>Warnings:<br/>[1] Standard Errors assume that the covariance matrix of the errors is correctly specified."
      ],
      "text/plain": [
       "<class 'statsmodels.iolib.summary.Summary'>\n",
       "\"\"\"\n",
       "                            OLS Regression Results                            \n",
       "==============================================================================\n",
       "Dep. Variable:         total_bookings   R-squared:                       0.008\n",
       "Model:                            OLS   Adj. R-squared:                 -0.005\n",
       "Method:                 Least Squares   F-statistic:                    0.6015\n",
       "Date:                Fri, 19 Jul 2019   Prob (F-statistic):              0.829\n",
       "Time:                        12:00:57   Log-Likelihood:                -7478.7\n",
       "No. Observations:                 830   AIC:                         1.498e+04\n",
       "Df Residuals:                     818   BIC:                         1.504e+04\n",
       "Df Model:                          11                                         \n",
       "Covariance Type:            nonrobust                                         \n",
       "==================================================================================\n",
       "                     coef    std err          t      P>|t|      [0.025      0.975]\n",
       "----------------------------------------------------------------------------------\n",
       "Intercept       1903.9491    212.763      8.949      0.000    1486.322    2321.576\n",
       "C(month)[T.2]   -147.6943    305.391     -0.484      0.629    -747.136     451.748\n",
       "C(month)[T.3]   -449.5282    289.731     -1.552      0.121   -1018.232     119.176\n",
       "C(month)[T.4]    -91.2829    288.457     -0.316      0.752    -657.486     474.920\n",
       "C(month)[T.5]   -236.0717    363.137     -0.650      0.516    -948.862     476.719\n",
       "C(month)[T.6]   -601.0158    421.966     -1.424      0.155   -1429.279     227.248\n",
       "C(month)[T.7]   -346.5485    343.071     -1.010      0.313   -1019.951     326.854\n",
       "C(month)[T.8]   -583.4131    337.567     -1.728      0.084   -1246.012      79.186\n",
       "C(month)[T.9]   -447.7988    334.158     -1.340      0.181   -1103.708     208.110\n",
       "C(month)[T.10]  -161.2600    327.891     -0.492      0.623    -804.866     482.346\n",
       "C(month)[T.11]  -283.3159    335.838     -0.844      0.399    -942.522     375.890\n",
       "C(month)[T.12]  -278.2572    309.344     -0.900      0.369    -885.459     328.944\n",
       "==============================================================================\n",
       "Omnibus:                      636.870   Durbin-Watson:                   2.040\n",
       "Prob(Omnibus):                  0.000   Jarque-Bera (JB):            10981.068\n",
       "Skew:                           3.412   Prob(JB):                         0.00\n",
       "Kurtosis:                      19.461   Cond. No.                         11.7\n",
       "==============================================================================\n",
       "\n",
       "Warnings:\n",
       "[1] Standard Errors assume that the covariance matrix of the errors is correctly specified.\n",
       "\"\"\""
      ]
     },
     "execution_count": 100,
     "metadata": {},
     "output_type": "execute_result"
    }
   ],
   "source": [
    "results = ols('total_bookings ~ C(month)', data=df_seasons).fit()\n",
    "results.summary()"
   ]
  },
  {
   "cell_type": "code",
   "execution_count": 85,
   "metadata": {},
   "outputs": [],
   "source": [
    "# Add Quarters to see if average order size changes over quarters\n",
    "quarters = []\n",
    "for i in df_seasons.month:\n",
    "    if i in (1,2,3):\n",
    "        q =1\n",
    "    if i in (4, 5, 6):\n",
    "        q = 2\n",
    "    if i in (7,8,9):\n",
    "        q = 3\n",
    "    if i in (10, 11, 12):\n",
    "        q = 4\n",
    "    quarters.append(q)\n",
    "df_seasons['quarter'] = quarters"
   ]
  },
  {
   "cell_type": "code",
   "execution_count": 86,
   "metadata": {
    "scrolled": false
   },
   "outputs": [
    {
     "data": {
      "image/png": "[encoded data removed]",
      "text/plain": [
       "<Figure size 864x864 with 1 Axes>"
      ]
     },
     "metadata": {},
     "output_type": "display_data"
    }
   ],
   "source": [
    "plt.figure(figsize=(12,12))\n",
    "sns.barplot(y='total_bookings',x='quarter', data=df_seasons)\n",
    "plt.title('Distribution of Quarters total Bookings')\n",
    "plt.xlabel('Quarter')\n",
    "plt.ylabel('Average Order Sale');"
   ]
  },
  {
   "cell_type": "markdown",
   "metadata": {},
   "source": [
    "It looks like Q3 had a lower than average sales price. Let's see if changes in quarter has a significant effect on the average order price. \n",
    "\n",
    "**Null Hypothesis**: Changes in quarter has no significant effect on the average order price\n",
    "\n",
    "**Alternate Hypothesis**: Changes in quarter has a significant effect on the average order price"
   ]
  },
  {
   "cell_type": "code",
   "execution_count": 87,
   "metadata": {
    "scrolled": true
   },
   "outputs": [
    {
     "data": {
      "text/html": [
       "<table class=\"simpletable\">\n",
       "<caption>OLS Regression Results</caption>\n",
       "<tr>\n",
       "  <th>Dep. Variable:</th>     <td>total_bookings</td>  <th>  R-squared:         </th> <td>   0.002</td> \n",
       "</tr>\n",
       "<tr>\n",
       "  <th>Model:</th>                   <td>OLS</td>       <th>  Adj. R-squared:    </th> <td>  -0.001</td> \n",
       "</tr>\n",
       "<tr>\n",
       "  <th>Method:</th>             <td>Least Squares</td>  <th>  F-statistic:       </th> <td>  0.6661</td> \n",
       "</tr>\n",
       "<tr>\n",
       "  <th>Date:</th>             <td>Fri, 19 Jul 2019</td> <th>  Prob (F-statistic):</th>  <td> 0.573</td>  \n",
       "</tr>\n",
       "<tr>\n",
       "  <th>Time:</th>                 <td>11:07:38</td>     <th>  Log-Likelihood:    </th> <td> -7481.1</td> \n",
       "</tr>\n",
       "<tr>\n",
       "  <th>No. Observations:</th>      <td>   830</td>      <th>  AIC:               </th> <td>1.497e+04</td>\n",
       "</tr>\n",
       "<tr>\n",
       "  <th>Df Residuals:</th>          <td>   826</td>      <th>  BIC:               </th> <td>1.499e+04</td>\n",
       "</tr>\n",
       "<tr>\n",
       "  <th>Df Model:</th>              <td>     3</td>      <th>                     </th>     <td> </td>    \n",
       "</tr>\n",
       "<tr>\n",
       "  <th>Covariance Type:</th>      <td>nonrobust</td>    <th>                     </th>     <td> </td>    \n",
       "</tr>\n",
       "</table>\n",
       "<table class=\"simpletable\">\n",
       "<tr>\n",
       "         <td></td>            <th>coef</th>     <th>std err</th>      <th>t</th>      <th>P>|t|</th>  <th>[0.025</th>    <th>0.975]</th>  \n",
       "</tr>\n",
       "<tr>\n",
       "  <th>Intercept</th>       <td> 1690.2264</td> <td>  120.330</td> <td>   14.047</td> <td> 0.000</td> <td> 1454.038</td> <td> 1926.415</td>\n",
       "</tr>\n",
       "<tr>\n",
       "  <th>C(quarter)[T.2]</th> <td>    1.1566</td> <td>  190.783</td> <td>    0.006</td> <td> 0.995</td> <td> -373.321</td> <td>  375.634</td>\n",
       "</tr>\n",
       "<tr>\n",
       "  <th>C(quarter)[T.3]</th> <td> -247.3527</td> <td>  193.422</td> <td>   -1.279</td> <td> 0.201</td> <td> -627.008</td> <td>  132.303</td>\n",
       "</tr>\n",
       "<tr>\n",
       "  <th>C(quarter)[T.4]</th> <td>  -28.9436</td> <td>  184.715</td> <td>   -0.157</td> <td> 0.876</td> <td> -391.510</td> <td>  333.622</td>\n",
       "</tr>\n",
       "</table>\n",
       "<table class=\"simpletable\">\n",
       "<tr>\n",
       "  <th>Omnibus:</th>       <td>639.712</td> <th>  Durbin-Watson:     </th> <td>   2.028</td> \n",
       "</tr>\n",
       "<tr>\n",
       "  <th>Prob(Omnibus):</th> <td> 0.000</td>  <th>  Jarque-Bera (JB):  </th> <td>11026.036</td>\n",
       "</tr>\n",
       "<tr>\n",
       "  <th>Skew:</th>          <td> 3.435</td>  <th>  Prob(JB):          </th> <td>    0.00</td> \n",
       "</tr>\n",
       "<tr>\n",
       "  <th>Kurtosis:</th>      <td>19.481</td>  <th>  Cond. No.          </th> <td>    4.28</td> \n",
       "</tr>\n",
       "</table><br/><br/>Warnings:<br/>[1] Standard Errors assume that the covariance matrix of the errors is correctly specified."
      ],
      "text/plain": [
       "<class 'statsmodels.iolib.summary.Summary'>\n",
       "\"\"\"\n",
       "                            OLS Regression Results                            \n",
       "==============================================================================\n",
       "Dep. Variable:         total_bookings   R-squared:                       0.002\n",
       "Model:                            OLS   Adj. R-squared:                 -0.001\n",
       "Method:                 Least Squares   F-statistic:                    0.6661\n",
       "Date:                Fri, 19 Jul 2019   Prob (F-statistic):              0.573\n",
       "Time:                        11:07:38   Log-Likelihood:                -7481.1\n",
       "No. Observations:                 830   AIC:                         1.497e+04\n",
       "Df Residuals:                     826   BIC:                         1.499e+04\n",
       "Df Model:                           3                                         \n",
       "Covariance Type:            nonrobust                                         \n",
       "===================================================================================\n",
       "                      coef    std err          t      P>|t|      [0.025      0.975]\n",
       "-----------------------------------------------------------------------------------\n",
       "Intercept        1690.2264    120.330     14.047      0.000    1454.038    1926.415\n",
       "C(quarter)[T.2]     1.1566    190.783      0.006      0.995    -373.321     375.634\n",
       "C(quarter)[T.3]  -247.3527    193.422     -1.279      0.201    -627.008     132.303\n",
       "C(quarter)[T.4]   -28.9436    184.715     -0.157      0.876    -391.510     333.622\n",
       "==============================================================================\n",
       "Omnibus:                      639.712   Durbin-Watson:                   2.028\n",
       "Prob(Omnibus):                  0.000   Jarque-Bera (JB):            11026.036\n",
       "Skew:                           3.435   Prob(JB):                         0.00\n",
       "Kurtosis:                      19.481   Cond. No.                         4.28\n",
       "==============================================================================\n",
       "\n",
       "Warnings:\n",
       "[1] Standard Errors assume that the covariance matrix of the errors is correctly specified.\n",
       "\"\"\""
      ]
     },
     "execution_count": 87,
     "metadata": {},
     "output_type": "execute_result"
    }
   ],
   "source": [
    "results = ols('total_bookings ~ C(quarter)', data=df_seasons).fit()\n",
    "results.summary()"
   ]
  },
  {
   "cell_type": "markdown",
   "metadata": {},
   "source": [
    "With a p value at .5, we do not reject the null hypothesis. Although there is an obervational difference between the means, there is no significant effect of quarter on average sales order"
   ]
  },
  {
   "cell_type": "code",
   "execution_count": 74,
   "metadata": {
    "scrolled": true
   },
   "outputs": [
    {
     "data": {
      "image/png": "[encoded data removed]",
      "text/plain": [
       "<Figure size 864x864 with 1 Axes>"
      ]
     },
     "metadata": {},
     "output_type": "display_data"
    }
   ],
   "source": [
    "plt.figure(figsize=(12,12))\n",
    "sns.barplot(y='total_bookings',x='day', data=df_seasons)\n",
    "plt.title('Distribution of days total Bookings')\n",
    "plt.xlabel('day of month')\n",
    "plt.ylabel('Average Order Sale');"
   ]
  },
  {
   "cell_type": "markdown",
   "metadata": {},
   "source": [
    "It seems like there is a weekly pattern - let's look into days of the week to see if there is a significant effect"
   ]
  },
  {
   "cell_type": "code",
   "execution_count": 81,
   "metadata": {},
   "outputs": [],
   "source": [
    "# Do certain days of the week affect sales?\n",
    "dow = []\n",
    "for i in df_seasons.datetime:\n",
    "    w = i.weekday()\n",
    "    dow.append(w)\n",
    "df_seasons['dow'] = dow\n"
   ]
  },
  {
   "cell_type": "code",
   "execution_count": 82,
   "metadata": {},
   "outputs": [
    {
     "data": {
      "text/plain": [
       "2    168\n",
       "0    168\n",
       "6    165\n",
       "1    165\n",
       "3    164\n",
       "Name: dow, dtype: int64"
      ]
     },
     "execution_count": 82,
     "metadata": {},
     "output_type": "execute_result"
    }
   ],
   "source": [
    "df_seasons.dow.value_counts()"
   ]
  },
  {
   "cell_type": "markdown",
   "metadata": {},
   "source": [
    "Since this is a sample database, i'm assuming that the missing values (4,5) refer to Saturday and Sunday (even though saturday and sunday correspond to 5 &6), and that sales are only placed during the week"
   ]
  },
  {
   "cell_type": "markdown",
   "metadata": {},
   "source": [
    "Let's visualize the data "
   ]
  },
  {
   "cell_type": "code",
   "execution_count": 83,
   "metadata": {
    "scrolled": true
   },
   "outputs": [
    {
     "data": {
      "image/png": "[encoded data removed]",
      "text/plain": [
       "<Figure size 864x864 with 1 Axes>"
      ]
     },
     "metadata": {},
     "output_type": "display_data"
    }
   ],
   "source": [
    "plt.figure(figsize=(12,12))\n",
    "sns.barplot(y='total_bookings',x='dow', data=df_seasons)\n",
    "plt.title('Distribution of days of week on total Bookings')\n",
    "plt.xlabel('day of week')\n",
    "plt.ylabel('Average Order Sale');"
   ]
  },
  {
   "cell_type": "markdown",
   "metadata": {},
   "source": [
    "**Null Hypothesis**: There is no significant difference between the days of the week and the average order size\n",
    "\n",
    "**Alternative Hypothesis**: the day of the week has a significant effect on the average order size"
   ]
  },
  {
   "cell_type": "code",
   "execution_count": 84,
   "metadata": {},
   "outputs": [
    {
     "data": {
      "text/html": [
       "<table class=\"simpletable\">\n",
       "<caption>OLS Regression Results</caption>\n",
       "<tr>\n",
       "  <th>Dep. Variable:</th>     <td>total_bookings</td>  <th>  R-squared:         </th> <td>   0.001</td> \n",
       "</tr>\n",
       "<tr>\n",
       "  <th>Model:</th>                   <td>OLS</td>       <th>  Adj. R-squared:    </th> <td>  -0.004</td> \n",
       "</tr>\n",
       "<tr>\n",
       "  <th>Method:</th>             <td>Least Squares</td>  <th>  F-statistic:       </th> <td>  0.2472</td> \n",
       "</tr>\n",
       "<tr>\n",
       "  <th>Date:</th>             <td>Fri, 19 Jul 2019</td> <th>  Prob (F-statistic):</th>  <td> 0.911</td>  \n",
       "</tr>\n",
       "<tr>\n",
       "  <th>Time:</th>                 <td>10:57:11</td>     <th>  Log-Likelihood:    </th> <td> -7481.6</td> \n",
       "</tr>\n",
       "<tr>\n",
       "  <th>No. Observations:</th>      <td>   830</td>      <th>  AIC:               </th> <td>1.497e+04</td>\n",
       "</tr>\n",
       "<tr>\n",
       "  <th>Df Residuals:</th>          <td>   825</td>      <th>  BIC:               </th> <td>1.500e+04</td>\n",
       "</tr>\n",
       "<tr>\n",
       "  <th>Df Model:</th>              <td>     4</td>      <th>                     </th>     <td> </td>    \n",
       "</tr>\n",
       "<tr>\n",
       "  <th>Covariance Type:</th>      <td>nonrobust</td>    <th>                     </th>     <td> </td>    \n",
       "</tr>\n",
       "</table>\n",
       "<table class=\"simpletable\">\n",
       "<tr>\n",
       "       <td></td>          <th>coef</th>     <th>std err</th>      <th>t</th>      <th>P>|t|</th>  <th>[0.025</th>    <th>0.975]</th>  \n",
       "</tr>\n",
       "<tr>\n",
       "  <th>Intercept</th>   <td> 1619.7218</td> <td>  153.859</td> <td>   10.527</td> <td> 0.000</td> <td> 1317.721</td> <td> 1921.723</td>\n",
       "</tr>\n",
       "<tr>\n",
       "  <th>C(dow)[T.1]</th> <td>   -4.2581</td> <td>  218.576</td> <td>   -0.019</td> <td> 0.984</td> <td> -433.289</td> <td>  424.773</td>\n",
       "</tr>\n",
       "<tr>\n",
       "  <th>C(dow)[T.2]</th> <td>  -95.0596</td> <td>  217.589</td> <td>   -0.437</td> <td> 0.662</td> <td> -522.153</td> <td>  332.034</td>\n",
       "</tr>\n",
       "<tr>\n",
       "  <th>C(dow)[T.3]</th> <td>  114.3857</td> <td>  218.912</td> <td>    0.523</td> <td> 0.601</td> <td> -315.304</td> <td>  544.076</td>\n",
       "</tr>\n",
       "<tr>\n",
       "  <th>C(dow)[T.6]</th> <td>   48.5018</td> <td>  218.576</td> <td>    0.222</td> <td> 0.824</td> <td> -380.529</td> <td>  477.533</td>\n",
       "</tr>\n",
       "</table>\n",
       "<table class=\"simpletable\">\n",
       "<tr>\n",
       "  <th>Omnibus:</th>       <td>642.575</td> <th>  Durbin-Watson:     </th> <td>   2.023</td> \n",
       "</tr>\n",
       "<tr>\n",
       "  <th>Prob(Omnibus):</th> <td> 0.000</td>  <th>  Jarque-Bera (JB):  </th> <td>11171.031</td>\n",
       "</tr>\n",
       "<tr>\n",
       "  <th>Skew:</th>          <td> 3.455</td>  <th>  Prob(JB):          </th> <td>    0.00</td> \n",
       "</tr>\n",
       "<tr>\n",
       "  <th>Kurtosis:</th>      <td>19.592</td>  <th>  Cond. No.          </th> <td>    5.80</td> \n",
       "</tr>\n",
       "</table><br/><br/>Warnings:<br/>[1] Standard Errors assume that the covariance matrix of the errors is correctly specified."
      ],
      "text/plain": [
       "<class 'statsmodels.iolib.summary.Summary'>\n",
       "\"\"\"\n",
       "                            OLS Regression Results                            \n",
       "==============================================================================\n",
       "Dep. Variable:         total_bookings   R-squared:                       0.001\n",
       "Model:                            OLS   Adj. R-squared:                 -0.004\n",
       "Method:                 Least Squares   F-statistic:                    0.2472\n",
       "Date:                Fri, 19 Jul 2019   Prob (F-statistic):              0.911\n",
       "Time:                        10:57:11   Log-Likelihood:                -7481.6\n",
       "No. Observations:                 830   AIC:                         1.497e+04\n",
       "Df Residuals:                     825   BIC:                         1.500e+04\n",
       "Df Model:                           4                                         \n",
       "Covariance Type:            nonrobust                                         \n",
       "===============================================================================\n",
       "                  coef    std err          t      P>|t|      [0.025      0.975]\n",
       "-------------------------------------------------------------------------------\n",
       "Intercept    1619.7218    153.859     10.527      0.000    1317.721    1921.723\n",
       "C(dow)[T.1]    -4.2581    218.576     -0.019      0.984    -433.289     424.773\n",
       "C(dow)[T.2]   -95.0596    217.589     -0.437      0.662    -522.153     332.034\n",
       "C(dow)[T.3]   114.3857    218.912      0.523      0.601    -315.304     544.076\n",
       "C(dow)[T.6]    48.5018    218.576      0.222      0.824    -380.529     477.533\n",
       "==============================================================================\n",
       "Omnibus:                      642.575   Durbin-Watson:                   2.023\n",
       "Prob(Omnibus):                  0.000   Jarque-Bera (JB):            11171.031\n",
       "Skew:                           3.455   Prob(JB):                         0.00\n",
       "Kurtosis:                      19.592   Cond. No.                         5.80\n",
       "==============================================================================\n",
       "\n",
       "Warnings:\n",
       "[1] Standard Errors assume that the covariance matrix of the errors is correctly specified.\n",
       "\"\"\""
      ]
     },
     "execution_count": 84,
     "metadata": {},
     "output_type": "execute_result"
    }
   ],
   "source": [
    "results = ols('total_bookings ~ C(dow)', data=df_seasons).fit()\n",
    "results.summary()"
   ]
  },
  {
   "cell_type": "markdown",
   "metadata": {},
   "source": [
    "Since the p value of the F statistic is so high, we do not reject the null and conclude that day of the week has no significant effect on the average order size"
   ]
  }
 ],
 "metadata": {
  "kernelspec": {
   "display_name": "Python 3",
   "language": "python",
   "name": "python3"
  },
  "language_info": {
   "codemirror_mode": {
    "name": "ipython",
    "version": 3
   },
   "file_extension": ".py",
   "mimetype": "text/x-python",
   "name": "python",
   "nbconvert_exporter": "python",
   "pygments_lexer": "ipython3",
   "version": "3.7.1"
  }
 },
 "nbformat": 4,
 "nbformat_minor": 2
}
