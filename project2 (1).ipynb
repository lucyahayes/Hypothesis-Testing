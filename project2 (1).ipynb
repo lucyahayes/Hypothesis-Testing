{
 "cells": [
  {
   "cell_type": "markdown",
   "metadata": {},
   "source": [
    "# Mod 2 Project - Hypothesis Testing\n",
    "\n",
    "First we start by loading the libraries we'll need for this project"
   ]
  },
  {
   "cell_type": "code",
   "execution_count": 79,
   "metadata": {},
   "outputs": [],
   "source": [
    "import numpy as np\n",
    "import pandas as pd\n",
    "import datetime\n",
    "\n",
    "import matplotlib.pyplot as plt\n",
    "import seaborn as sns\n",
    "plt.style.use('ggplot')\n",
    "\n",
    "import sqlalchemy\n",
    "from sqlalchemy import create_engine, inspect\n",
    "from sqlalchemy.orm import Session, sessionmaker\n",
    "\n",
    "import statsmodels.api as sm\n",
    "from statsmodels.formula.api import ols\n",
    "from statsmodels.stats.multicomp import pairwise_tukeyhsd\n",
    "from statsmodels.stats.multicomp import MultiComparison\n",
    "\n",
    "from scipy.stats import ttest_1samp, ttest_ind\n",
    "from scipy.stats import levene, shapiro, mannwhitneyu, kruskal\n",
    "\n"
   ]
  },
  {
   "cell_type": "markdown",
   "metadata": {},
   "source": [
    "# Connect to Database"
   ]
  },
  {
   "cell_type": "markdown",
   "metadata": {},
   "source": [
    "Create a session to the Northwind sqlite database"
   ]
  },
  {
   "cell_type": "code",
   "execution_count": 3,
   "metadata": {},
   "outputs": [],
   "source": [
    "engine = create_engine(\"sqlite:///Northwind_small.sqlite\", echo=True)\n",
    "Session = sessionmaker(bind=engine)\n",
    "session = Session()"
   ]
  },
  {
   "cell_type": "markdown",
   "metadata": {},
   "source": [
    "Obtaining table names of database and table information"
   ]
  },
  {
   "cell_type": "code",
   "execution_count": 4,
   "metadata": {
    "scrolled": false
   },
   "outputs": [
    {
     "name": "stdout",
     "output_type": "stream",
     "text": [
      "2019-07-22 12:44:54,010 INFO sqlalchemy.engine.base.Engine SELECT CAST('test plain returns' AS VARCHAR(60)) AS anon_1\n",
      "2019-07-22 12:44:54,011 INFO sqlalchemy.engine.base.Engine ()\n",
      "2019-07-22 12:44:54,012 INFO sqlalchemy.engine.base.Engine SELECT CAST('test unicode returns' AS VARCHAR(60)) AS anon_1\n",
      "2019-07-22 12:44:54,013 INFO sqlalchemy.engine.base.Engine ()\n",
      "2019-07-22 12:44:54,015 INFO sqlalchemy.engine.base.Engine SELECT name FROM sqlite_master WHERE type='table' ORDER BY name\n",
      "2019-07-22 12:44:54,015 INFO sqlalchemy.engine.base.Engine ()\n",
      "['Category', 'Customer', 'CustomerCustomerDemo', 'CustomerDemographic', 'Employee', 'EmployeeTerritory', 'Order', 'OrderDetail', 'Product', 'Region', 'Shipper', 'Supplier', 'Territory']\n"
     ]
    }
   ],
   "source": [
    "inspector = inspect(engine)\n",
    "print(inspector.get_table_names())"
   ]
  },
  {
   "cell_type": "markdown",
   "metadata": {},
   "source": [
    "In order to understand the Column Names better, we can use a function that will print the column name and the type of information stored in each column. This helps us to see what is listed in each table of our data. The next few lines are exploratory into the database to see how everything compares to the EDA, what information to use, and what information won't be useful. "
   ]
  },
  {
   "cell_type": "code",
   "execution_count": 5,
   "metadata": {},
   "outputs": [],
   "source": [
    "# Function to print out the names of the columns\n",
    "def get_columns_info(col_name):\n",
    "    cols_list = inspector.get_columns(col_name)\n",
    "    \n",
    "    print(\"Table Name: {}\".format(col_name))\n",
    "    print(\"\")\n",
    "    \n",
    "    for column in cols_list:\n",
    "        print(\"Name: {} \\t Type: {}\".format(column['name'], column['type']))\n"
   ]
  },
  {
   "cell_type": "code",
   "execution_count": 6,
   "metadata": {
    "scrolled": true
   },
   "outputs": [
    {
     "name": "stdout",
     "output_type": "stream",
     "text": [
      "2019-07-22 12:44:56,091 INFO sqlalchemy.engine.base.Engine PRAGMA table_info(\"Order\")\n",
      "2019-07-22 12:44:56,092 INFO sqlalchemy.engine.base.Engine ()\n",
      "Table Name: Order\n",
      "\n",
      "Name: Id \t Type: INTEGER\n",
      "Name: CustomerId \t Type: VARCHAR(8000)\n",
      "Name: EmployeeId \t Type: INTEGER\n",
      "Name: OrderDate \t Type: VARCHAR(8000)\n",
      "Name: RequiredDate \t Type: VARCHAR(8000)\n",
      "Name: ShippedDate \t Type: VARCHAR(8000)\n",
      "Name: ShipVia \t Type: INTEGER\n",
      "Name: Freight \t Type: DECIMAL\n",
      "Name: ShipName \t Type: VARCHAR(8000)\n",
      "Name: ShipAddress \t Type: VARCHAR(8000)\n",
      "Name: ShipCity \t Type: VARCHAR(8000)\n",
      "Name: ShipRegion \t Type: VARCHAR(8000)\n",
      "Name: ShipPostalCode \t Type: VARCHAR(8000)\n",
      "Name: ShipCountry \t Type: VARCHAR(8000)\n"
     ]
    }
   ],
   "source": [
    "#Try Function on Order\n",
    "get_columns_info('Order')"
   ]
  },
  {
   "cell_type": "markdown",
   "metadata": {},
   "source": [
    "Cool, looks like the function is working. We can use this to explore some of the data to see how well it matches to what we expect. Let's look at these a little further to get an idea of our data"
   ]
  },
  {
   "cell_type": "code",
   "execution_count": 7,
   "metadata": {
    "scrolled": false
   },
   "outputs": [
    {
     "name": "stdout",
     "output_type": "stream",
     "text": [
      "2019-07-22 12:44:57,192 INFO sqlalchemy.engine.base.Engine PRAGMA table_info(\"Product\")\n",
      "2019-07-22 12:44:57,193 INFO sqlalchemy.engine.base.Engine ()\n",
      "Table Name: Product\n",
      "\n",
      "Name: Id \t Type: INTEGER\n",
      "Name: ProductName \t Type: VARCHAR(8000)\n",
      "Name: SupplierId \t Type: INTEGER\n",
      "Name: CategoryId \t Type: INTEGER\n",
      "Name: QuantityPerUnit \t Type: VARCHAR(8000)\n",
      "Name: UnitPrice \t Type: DECIMAL\n",
      "Name: UnitsInStock \t Type: INTEGER\n",
      "Name: UnitsOnOrder \t Type: INTEGER\n",
      "Name: ReorderLevel \t Type: INTEGER\n",
      "Name: Discontinued \t Type: INTEGER\n",
      "None\n",
      "2019-07-22 12:44:57,196 INFO sqlalchemy.engine.base.Engine PRAGMA table_info(\"OrderDetail\")\n",
      "2019-07-22 12:44:57,197 INFO sqlalchemy.engine.base.Engine ()\n",
      "Table Name: OrderDetail\n",
      "\n",
      "Name: Id \t Type: VARCHAR(8000)\n",
      "Name: OrderId \t Type: INTEGER\n",
      "Name: ProductId \t Type: INTEGER\n",
      "Name: UnitPrice \t Type: DECIMAL\n",
      "Name: Quantity \t Type: INTEGER\n",
      "Name: Discount \t Type: FLOAT\n",
      "None\n",
      "Table Name: Order\n",
      "\n",
      "Name: Id \t Type: INTEGER\n",
      "Name: CustomerId \t Type: VARCHAR(8000)\n",
      "Name: EmployeeId \t Type: INTEGER\n",
      "Name: OrderDate \t Type: VARCHAR(8000)\n",
      "Name: RequiredDate \t Type: VARCHAR(8000)\n",
      "Name: ShippedDate \t Type: VARCHAR(8000)\n",
      "Name: ShipVia \t Type: INTEGER\n",
      "Name: Freight \t Type: DECIMAL\n",
      "Name: ShipName \t Type: VARCHAR(8000)\n",
      "Name: ShipAddress \t Type: VARCHAR(8000)\n",
      "Name: ShipCity \t Type: VARCHAR(8000)\n",
      "Name: ShipRegion \t Type: VARCHAR(8000)\n",
      "Name: ShipPostalCode \t Type: VARCHAR(8000)\n",
      "Name: ShipCountry \t Type: VARCHAR(8000)\n",
      "None\n"
     ]
    }
   ],
   "source": [
    "# Checking the Other Tables\n",
    "print(get_columns_info('Product'))\n",
    "print(get_columns_info('OrderDetail'))\n",
    "print(get_columns_info('Order'))"
   ]
  },
  {
   "cell_type": "code",
   "execution_count": 8,
   "metadata": {
    "scrolled": false
   },
   "outputs": [],
   "source": [
    "#Create a connection to engine\n",
    "con = engine.connect()"
   ]
  },
  {
   "cell_type": "code",
   "execution_count": 9,
   "metadata": {
    "scrolled": true
   },
   "outputs": [
    {
     "name": "stdout",
     "output_type": "stream",
     "text": [
      "2019-07-22 12:44:58,110 INFO sqlalchemy.engine.base.Engine SELECT * FROM [Order]\n",
      "2019-07-22 12:44:58,111 INFO sqlalchemy.engine.base.Engine ()\n"
     ]
    },
    {
     "data": {
      "text/html": [
       "<div>\n",
       "<style scoped>\n",
       "    .dataframe tbody tr th:only-of-type {\n",
       "        vertical-align: middle;\n",
       "    }\n",
       "\n",
       "    .dataframe tbody tr th {\n",
       "        vertical-align: top;\n",
       "    }\n",
       "\n",
       "    .dataframe thead th {\n",
       "        text-align: right;\n",
       "    }\n",
       "</style>\n",
       "<table border=\"1\" class=\"dataframe\">\n",
       "  <thead>\n",
       "    <tr style=\"text-align: right;\">\n",
       "      <th></th>\n",
       "      <th>Id</th>\n",
       "      <th>CustomerId</th>\n",
       "      <th>EmployeeId</th>\n",
       "      <th>OrderDate</th>\n",
       "      <th>RequiredDate</th>\n",
       "      <th>ShippedDate</th>\n",
       "      <th>ShipVia</th>\n",
       "      <th>Freight</th>\n",
       "      <th>ShipName</th>\n",
       "      <th>ShipAddress</th>\n",
       "      <th>ShipCity</th>\n",
       "      <th>ShipRegion</th>\n",
       "      <th>ShipPostalCode</th>\n",
       "      <th>ShipCountry</th>\n",
       "    </tr>\n",
       "  </thead>\n",
       "  <tbody>\n",
       "    <tr>\n",
       "      <th>0</th>\n",
       "      <td>10248</td>\n",
       "      <td>VINET</td>\n",
       "      <td>5</td>\n",
       "      <td>2012-07-04</td>\n",
       "      <td>2012-08-01</td>\n",
       "      <td>2012-07-16</td>\n",
       "      <td>3</td>\n",
       "      <td>32.38</td>\n",
       "      <td>Vins et alcools Chevalier</td>\n",
       "      <td>59 rue de l'Abbaye</td>\n",
       "      <td>Reims</td>\n",
       "      <td>Western Europe</td>\n",
       "      <td>51100</td>\n",
       "      <td>France</td>\n",
       "    </tr>\n",
       "    <tr>\n",
       "      <th>1</th>\n",
       "      <td>10249</td>\n",
       "      <td>TOMSP</td>\n",
       "      <td>6</td>\n",
       "      <td>2012-07-05</td>\n",
       "      <td>2012-08-16</td>\n",
       "      <td>2012-07-10</td>\n",
       "      <td>1</td>\n",
       "      <td>11.61</td>\n",
       "      <td>Toms Spezialitäten</td>\n",
       "      <td>Luisenstr. 48</td>\n",
       "      <td>Münster</td>\n",
       "      <td>Western Europe</td>\n",
       "      <td>44087</td>\n",
       "      <td>Germany</td>\n",
       "    </tr>\n",
       "    <tr>\n",
       "      <th>2</th>\n",
       "      <td>10250</td>\n",
       "      <td>HANAR</td>\n",
       "      <td>4</td>\n",
       "      <td>2012-07-08</td>\n",
       "      <td>2012-08-05</td>\n",
       "      <td>2012-07-12</td>\n",
       "      <td>2</td>\n",
       "      <td>65.83</td>\n",
       "      <td>Hanari Carnes</td>\n",
       "      <td>Rua do Paço, 67</td>\n",
       "      <td>Rio de Janeiro</td>\n",
       "      <td>South America</td>\n",
       "      <td>05454-876</td>\n",
       "      <td>Brazil</td>\n",
       "    </tr>\n",
       "    <tr>\n",
       "      <th>3</th>\n",
       "      <td>10251</td>\n",
       "      <td>VICTE</td>\n",
       "      <td>3</td>\n",
       "      <td>2012-07-08</td>\n",
       "      <td>2012-08-05</td>\n",
       "      <td>2012-07-15</td>\n",
       "      <td>1</td>\n",
       "      <td>41.34</td>\n",
       "      <td>Victuailles en stock</td>\n",
       "      <td>2, rue du Commerce</td>\n",
       "      <td>Lyon</td>\n",
       "      <td>Western Europe</td>\n",
       "      <td>69004</td>\n",
       "      <td>France</td>\n",
       "    </tr>\n",
       "    <tr>\n",
       "      <th>4</th>\n",
       "      <td>10252</td>\n",
       "      <td>SUPRD</td>\n",
       "      <td>4</td>\n",
       "      <td>2012-07-09</td>\n",
       "      <td>2012-08-06</td>\n",
       "      <td>2012-07-11</td>\n",
       "      <td>2</td>\n",
       "      <td>51.30</td>\n",
       "      <td>Suprêmes délices</td>\n",
       "      <td>Boulevard Tirou, 255</td>\n",
       "      <td>Charleroi</td>\n",
       "      <td>Western Europe</td>\n",
       "      <td>B-6000</td>\n",
       "      <td>Belgium</td>\n",
       "    </tr>\n",
       "  </tbody>\n",
       "</table>\n",
       "</div>"
      ],
      "text/plain": [
       "      Id CustomerId  EmployeeId   OrderDate RequiredDate ShippedDate  ShipVia  \\\n",
       "0  10248      VINET           5  2012-07-04   2012-08-01  2012-07-16        3   \n",
       "1  10249      TOMSP           6  2012-07-05   2012-08-16  2012-07-10        1   \n",
       "2  10250      HANAR           4  2012-07-08   2012-08-05  2012-07-12        2   \n",
       "3  10251      VICTE           3  2012-07-08   2012-08-05  2012-07-15        1   \n",
       "4  10252      SUPRD           4  2012-07-09   2012-08-06  2012-07-11        2   \n",
       "\n",
       "   Freight                   ShipName           ShipAddress        ShipCity  \\\n",
       "0    32.38  Vins et alcools Chevalier    59 rue de l'Abbaye           Reims   \n",
       "1    11.61         Toms Spezialitäten         Luisenstr. 48         Münster   \n",
       "2    65.83              Hanari Carnes       Rua do Paço, 67  Rio de Janeiro   \n",
       "3    41.34       Victuailles en stock    2, rue du Commerce            Lyon   \n",
       "4    51.30           Suprêmes délices  Boulevard Tirou, 255       Charleroi   \n",
       "\n",
       "       ShipRegion ShipPostalCode ShipCountry  \n",
       "0  Western Europe          51100      France  \n",
       "1  Western Europe          44087     Germany  \n",
       "2   South America      05454-876      Brazil  \n",
       "3  Western Europe          69004      France  \n",
       "4  Western Europe         B-6000     Belgium  "
      ]
     },
     "execution_count": 9,
     "metadata": {},
     "output_type": "execute_result"
    }
   ],
   "source": [
    "# Practice Query and store into dataframe\n",
    "q = '''SELECT * FROM [Order]''' #simple query\n",
    "df_order = pd.read_sql_query(q, engine)\n",
    "df_order.head()"
   ]
  },
  {
   "cell_type": "markdown",
   "metadata": {},
   "source": [
    "# Hypothesis 1: Discounts\n",
    "\n",
    "The first hypothesis we tested was to see if discounts had an effect on the quantity of items in an order, i.e. do discounts cause customers to have larger than normal orders? \n",
    "\n",
    "In order to test this, we pulled all information from the OrderDetail Table, which contains the order ID, the product ID, and the discount. "
   ]
  },
  {
   "cell_type": "code",
   "execution_count": 10,
   "metadata": {},
   "outputs": [
    {
     "name": "stdout",
     "output_type": "stream",
     "text": [
      "2019-07-22 12:44:58,960 INFO sqlalchemy.engine.base.Engine SELECT OrderID, ProductID, Discount FROM OrderDetail\n",
      "2019-07-22 12:44:58,961 INFO sqlalchemy.engine.base.Engine ()\n"
     ]
    },
    {
     "data": {
      "text/html": [
       "<div>\n",
       "<style scoped>\n",
       "    .dataframe tbody tr th:only-of-type {\n",
       "        vertical-align: middle;\n",
       "    }\n",
       "\n",
       "    .dataframe tbody tr th {\n",
       "        vertical-align: top;\n",
       "    }\n",
       "\n",
       "    .dataframe thead th {\n",
       "        text-align: right;\n",
       "    }\n",
       "</style>\n",
       "<table border=\"1\" class=\"dataframe\">\n",
       "  <thead>\n",
       "    <tr style=\"text-align: right;\">\n",
       "      <th></th>\n",
       "      <th>OrderId</th>\n",
       "      <th>ProductId</th>\n",
       "      <th>Discount</th>\n",
       "    </tr>\n",
       "  </thead>\n",
       "  <tbody>\n",
       "    <tr>\n",
       "      <th>0</th>\n",
       "      <td>10248</td>\n",
       "      <td>11</td>\n",
       "      <td>0.00</td>\n",
       "    </tr>\n",
       "    <tr>\n",
       "      <th>1</th>\n",
       "      <td>10248</td>\n",
       "      <td>42</td>\n",
       "      <td>0.00</td>\n",
       "    </tr>\n",
       "    <tr>\n",
       "      <th>2</th>\n",
       "      <td>10248</td>\n",
       "      <td>72</td>\n",
       "      <td>0.00</td>\n",
       "    </tr>\n",
       "    <tr>\n",
       "      <th>3</th>\n",
       "      <td>10249</td>\n",
       "      <td>14</td>\n",
       "      <td>0.00</td>\n",
       "    </tr>\n",
       "    <tr>\n",
       "      <th>4</th>\n",
       "      <td>10249</td>\n",
       "      <td>51</td>\n",
       "      <td>0.00</td>\n",
       "    </tr>\n",
       "    <tr>\n",
       "      <th>5</th>\n",
       "      <td>10250</td>\n",
       "      <td>41</td>\n",
       "      <td>0.00</td>\n",
       "    </tr>\n",
       "    <tr>\n",
       "      <th>6</th>\n",
       "      <td>10250</td>\n",
       "      <td>51</td>\n",
       "      <td>0.15</td>\n",
       "    </tr>\n",
       "    <tr>\n",
       "      <th>7</th>\n",
       "      <td>10250</td>\n",
       "      <td>65</td>\n",
       "      <td>0.15</td>\n",
       "    </tr>\n",
       "    <tr>\n",
       "      <th>8</th>\n",
       "      <td>10251</td>\n",
       "      <td>22</td>\n",
       "      <td>0.05</td>\n",
       "    </tr>\n",
       "    <tr>\n",
       "      <th>9</th>\n",
       "      <td>10251</td>\n",
       "      <td>57</td>\n",
       "      <td>0.05</td>\n",
       "    </tr>\n",
       "    <tr>\n",
       "      <th>10</th>\n",
       "      <td>10251</td>\n",
       "      <td>65</td>\n",
       "      <td>0.00</td>\n",
       "    </tr>\n",
       "    <tr>\n",
       "      <th>11</th>\n",
       "      <td>10252</td>\n",
       "      <td>20</td>\n",
       "      <td>0.05</td>\n",
       "    </tr>\n",
       "    <tr>\n",
       "      <th>12</th>\n",
       "      <td>10252</td>\n",
       "      <td>33</td>\n",
       "      <td>0.05</td>\n",
       "    </tr>\n",
       "    <tr>\n",
       "      <th>13</th>\n",
       "      <td>10252</td>\n",
       "      <td>60</td>\n",
       "      <td>0.00</td>\n",
       "    </tr>\n",
       "    <tr>\n",
       "      <th>14</th>\n",
       "      <td>10253</td>\n",
       "      <td>31</td>\n",
       "      <td>0.00</td>\n",
       "    </tr>\n",
       "  </tbody>\n",
       "</table>\n",
       "</div>"
      ],
      "text/plain": [
       "    OrderId  ProductId  Discount\n",
       "0     10248         11      0.00\n",
       "1     10248         42      0.00\n",
       "2     10248         72      0.00\n",
       "3     10249         14      0.00\n",
       "4     10249         51      0.00\n",
       "5     10250         41      0.00\n",
       "6     10250         51      0.15\n",
       "7     10250         65      0.15\n",
       "8     10251         22      0.05\n",
       "9     10251         57      0.05\n",
       "10    10251         65      0.00\n",
       "11    10252         20      0.05\n",
       "12    10252         33      0.05\n",
       "13    10252         60      0.00\n",
       "14    10253         31      0.00"
      ]
     },
     "execution_count": 10,
     "metadata": {},
     "output_type": "execute_result"
    }
   ],
   "source": [
    "# Query the OrderDetail table for the orderID, product ID, and discount. \n",
    "q = '''SELECT OrderID, ProductID, Discount FROM OrderDetail'''\n",
    "\n",
    "#Load the query into a database, and display the first 15 lines of the dataframe\n",
    "df_h1 = pd.read_sql_query(q, engine)\n",
    "df_h1.head(15)"
   ]
  },
  {
   "cell_type": "markdown",
   "metadata": {},
   "source": [
    "Since there are multiple discounts across orders, it would be best to see the types of discounts we have, and determine if we should group them by order level or not"
   ]
  },
  {
   "cell_type": "code",
   "execution_count": 11,
   "metadata": {
    "scrolled": true
   },
   "outputs": [
    {
     "data": {
      "text/plain": [
       "array([0.  , 0.15, 0.05, 0.2 , 0.25, 0.1 , 0.02, 0.03, 0.04, 0.06, 0.01])"
      ]
     },
     "execution_count": 11,
     "metadata": {},
     "output_type": "execute_result"
    }
   ],
   "source": [
    "df_h1.Discount.unique()"
   ]
  },
  {
   "cell_type": "markdown",
   "metadata": {},
   "source": [
    "It seems like we have multiple discounts, some of which seem oddly small (.01, .02, .03, etc.) so it would make more sense to have one discount level per order, grouped by the order ID, and using the maximum discount given on that order"
   ]
  },
  {
   "cell_type": "code",
   "execution_count": 12,
   "metadata": {
    "scrolled": true
   },
   "outputs": [
    {
     "data": {
      "text/plain": [
       "830"
      ]
     },
     "execution_count": 12,
     "metadata": {},
     "output_type": "execute_result"
    }
   ],
   "source": [
    "# Create a list of the unique order IDs and check the length\n",
    "order_nums = df_h1.OrderId.unique()\n",
    "len(order_nums)"
   ]
  },
  {
   "cell_type": "markdown",
   "metadata": {},
   "source": [
    "I will use a dictionary to resolve this. The key value pair will be the unique order id, with values being how many repeats of that orderID exist (in order to get the quantity of items in the order), and the maximum discount given at that orderID. "
   ]
  },
  {
   "cell_type": "code",
   "execution_count": 13,
   "metadata": {},
   "outputs": [],
   "source": [
    "# Create an empty dictionary and use a for loop to fill in key value pairs\n",
    "dc = {}\n",
    "for num in order_nums:\n",
    "    k = num\n",
    "    val = [len(df_h1[df_h1.OrderId == num]), df_h1.Discount[df_h1.OrderId == num].max()]\n",
    "    dc[k] = val"
   ]
  },
  {
   "cell_type": "code",
   "execution_count": 14,
   "metadata": {
    "scrolled": false
   },
   "outputs": [
    {
     "data": {
      "text/html": [
       "<div>\n",
       "<style scoped>\n",
       "    .dataframe tbody tr th:only-of-type {\n",
       "        vertical-align: middle;\n",
       "    }\n",
       "\n",
       "    .dataframe tbody tr th {\n",
       "        vertical-align: top;\n",
       "    }\n",
       "\n",
       "    .dataframe thead th {\n",
       "        text-align: right;\n",
       "    }\n",
       "</style>\n",
       "<table border=\"1\" class=\"dataframe\">\n",
       "  <thead>\n",
       "    <tr style=\"text-align: right;\">\n",
       "      <th></th>\n",
       "      <th>0</th>\n",
       "      <th>1</th>\n",
       "    </tr>\n",
       "  </thead>\n",
       "  <tbody>\n",
       "    <tr>\n",
       "      <th>10248</th>\n",
       "      <td>3</td>\n",
       "      <td>0.00</td>\n",
       "    </tr>\n",
       "    <tr>\n",
       "      <th>10249</th>\n",
       "      <td>2</td>\n",
       "      <td>0.00</td>\n",
       "    </tr>\n",
       "    <tr>\n",
       "      <th>10250</th>\n",
       "      <td>3</td>\n",
       "      <td>0.15</td>\n",
       "    </tr>\n",
       "    <tr>\n",
       "      <th>10251</th>\n",
       "      <td>3</td>\n",
       "      <td>0.05</td>\n",
       "    </tr>\n",
       "    <tr>\n",
       "      <th>10252</th>\n",
       "      <td>3</td>\n",
       "      <td>0.05</td>\n",
       "    </tr>\n",
       "  </tbody>\n",
       "</table>\n",
       "</div>"
      ],
      "text/plain": [
       "       0     1\n",
       "10248  3  0.00\n",
       "10249  2  0.00\n",
       "10250  3  0.15\n",
       "10251  3  0.05\n",
       "10252  3  0.05"
      ]
     },
     "execution_count": 14,
     "metadata": {},
     "output_type": "execute_result"
    }
   ],
   "source": [
    "# Create dataframe from dictionary and display the first values to get an\n",
    "# idea of the shape\n",
    "df_orders = pd.DataFrame.from_dict(dc, orient = 'index')\n",
    "df_orders.head()"
   ]
  },
  {
   "cell_type": "markdown",
   "metadata": {},
   "source": [
    "Great. Now that we have the new dataframe, we should check the length of it to make sure everything was filled and that it matches the length of the unique order id's list we saw before. If it matches, we can then make it cleaner by renaming the coluns, and adding an index to the dataframe. "
   ]
  },
  {
   "cell_type": "code",
   "execution_count": 15,
   "metadata": {},
   "outputs": [
    {
     "data": {
      "text/plain": [
       "True"
      ]
     },
     "execution_count": 15,
     "metadata": {},
     "output_type": "execute_result"
    }
   ],
   "source": [
    "# Check length\n",
    "len(df_orders) == len(order_nums)"
   ]
  },
  {
   "cell_type": "code",
   "execution_count": 16,
   "metadata": {
    "scrolled": false
   },
   "outputs": [
    {
     "data": {
      "text/html": [
       "<div>\n",
       "<style scoped>\n",
       "    .dataframe tbody tr th:only-of-type {\n",
       "        vertical-align: middle;\n",
       "    }\n",
       "\n",
       "    .dataframe tbody tr th {\n",
       "        vertical-align: top;\n",
       "    }\n",
       "\n",
       "    .dataframe thead th {\n",
       "        text-align: right;\n",
       "    }\n",
       "</style>\n",
       "<table border=\"1\" class=\"dataframe\">\n",
       "  <thead>\n",
       "    <tr style=\"text-align: right;\">\n",
       "      <th></th>\n",
       "      <th>id</th>\n",
       "      <th>quantity</th>\n",
       "      <th>discount</th>\n",
       "    </tr>\n",
       "  </thead>\n",
       "  <tbody>\n",
       "    <tr>\n",
       "      <th>0</th>\n",
       "      <td>10248</td>\n",
       "      <td>3</td>\n",
       "      <td>0.00</td>\n",
       "    </tr>\n",
       "    <tr>\n",
       "      <th>1</th>\n",
       "      <td>10249</td>\n",
       "      <td>2</td>\n",
       "      <td>0.00</td>\n",
       "    </tr>\n",
       "    <tr>\n",
       "      <th>2</th>\n",
       "      <td>10250</td>\n",
       "      <td>3</td>\n",
       "      <td>0.15</td>\n",
       "    </tr>\n",
       "    <tr>\n",
       "      <th>3</th>\n",
       "      <td>10251</td>\n",
       "      <td>3</td>\n",
       "      <td>0.05</td>\n",
       "    </tr>\n",
       "    <tr>\n",
       "      <th>4</th>\n",
       "      <td>10252</td>\n",
       "      <td>3</td>\n",
       "      <td>0.05</td>\n",
       "    </tr>\n",
       "  </tbody>\n",
       "</table>\n",
       "</div>"
      ],
      "text/plain": [
       "      id  quantity  discount\n",
       "0  10248         3      0.00\n",
       "1  10249         2      0.00\n",
       "2  10250         3      0.15\n",
       "3  10251         3      0.05\n",
       "4  10252         3      0.05"
      ]
     },
     "execution_count": 16,
     "metadata": {},
     "output_type": "execute_result"
    }
   ],
   "source": [
    "# Rename Columns and add index. Display the dataframe to check\n",
    "df_orders.reset_index(inplace = True)\n",
    "df_orders.columns = ['id', 'quantity', 'discount']\n",
    "df_orders.head()"
   ]
  },
  {
   "cell_type": "markdown",
   "metadata": {},
   "source": [
    "I want to look more into the value counts of the discounts to see how frequently discounts are applied"
   ]
  },
  {
   "cell_type": "code",
   "execution_count": 17,
   "metadata": {
    "scrolled": true
   },
   "outputs": [
    {
     "data": {
      "text/plain": [
       "0.00    450\n",
       "0.05     86\n",
       "0.15     75\n",
       "0.10     74\n",
       "0.20     73\n",
       "0.25     72\n",
       "Name: discount, dtype: int64"
      ]
     },
     "execution_count": 17,
     "metadata": {},
     "output_type": "execute_result"
    }
   ],
   "source": [
    "# Explore Value counts and shape of data\n",
    "df_orders.discount.value_counts()"
   ]
  },
  {
   "cell_type": "markdown",
   "metadata": {},
   "source": [
    "Since there are so many orders without a discount, there is opportunity here to classify orders on if they have a discount or not, and create a boolean variable based on this information. Let's write a function that would do this for us"
   ]
  },
  {
   "cell_type": "code",
   "execution_count": 18,
   "metadata": {},
   "outputs": [],
   "source": [
    "# Function that returns 1 if an order has a discount, and 0 if it does not\n",
    "def has_discount (row):\n",
    "    if row['discount'] > 0:\n",
    "        return 1\n",
    "    return 0"
   ]
  },
  {
   "cell_type": "code",
   "execution_count": 19,
   "metadata": {
    "scrolled": true
   },
   "outputs": [
    {
     "data": {
      "text/plain": [
       "0      0\n",
       "1      0\n",
       "2      1\n",
       "3      1\n",
       "4      1\n",
       "5      0\n",
       "6      1\n",
       "7      0\n",
       "8      0\n",
       "9      0\n",
       "10     1\n",
       "11     0\n",
       "12     1\n",
       "13     0\n",
       "14     1\n",
       "15     1\n",
       "16     1\n",
       "17     0\n",
       "18     1\n",
       "19     1\n",
       "20     0\n",
       "21     1\n",
       "22     0\n",
       "23     0\n",
       "24     0\n",
       "25     1\n",
       "26     0\n",
       "27     1\n",
       "28     0\n",
       "29     0\n",
       "      ..\n",
       "800    0\n",
       "801    1\n",
       "802    1\n",
       "803    1\n",
       "804    1\n",
       "805    1\n",
       "806    0\n",
       "807    0\n",
       "808    0\n",
       "809    0\n",
       "810    0\n",
       "811    0\n",
       "812    0\n",
       "813    0\n",
       "814    1\n",
       "815    1\n",
       "816    1\n",
       "817    1\n",
       "818    0\n",
       "819    0\n",
       "820    1\n",
       "821    0\n",
       "822    1\n",
       "823    1\n",
       "824    0\n",
       "825    0\n",
       "826    1\n",
       "827    1\n",
       "828    1\n",
       "829    1\n",
       "Length: 830, dtype: int64"
      ]
     },
     "execution_count": 19,
     "metadata": {},
     "output_type": "execute_result"
    }
   ],
   "source": [
    "# Apply this to the dataframe on the row leve (axis = 1)\n",
    "df_orders.apply (lambda row: has_discount(row), axis=1)"
   ]
  },
  {
   "cell_type": "markdown",
   "metadata": {},
   "source": [
    "Since this all looks correct, let's add a new column to the dataframe that contains all the above information"
   ]
  },
  {
   "cell_type": "code",
   "execution_count": 20,
   "metadata": {},
   "outputs": [],
   "source": [
    "df_orders['has_discount'] = df_orders.apply (lambda row: has_discount(row), axis=1)"
   ]
  },
  {
   "cell_type": "code",
   "execution_count": 21,
   "metadata": {
    "scrolled": true
   },
   "outputs": [
    {
     "data": {
      "text/html": [
       "<div>\n",
       "<style scoped>\n",
       "    .dataframe tbody tr th:only-of-type {\n",
       "        vertical-align: middle;\n",
       "    }\n",
       "\n",
       "    .dataframe tbody tr th {\n",
       "        vertical-align: top;\n",
       "    }\n",
       "\n",
       "    .dataframe thead th {\n",
       "        text-align: right;\n",
       "    }\n",
       "</style>\n",
       "<table border=\"1\" class=\"dataframe\">\n",
       "  <thead>\n",
       "    <tr style=\"text-align: right;\">\n",
       "      <th></th>\n",
       "      <th>id</th>\n",
       "      <th>quantity</th>\n",
       "      <th>discount</th>\n",
       "      <th>has_discount</th>\n",
       "    </tr>\n",
       "  </thead>\n",
       "  <tbody>\n",
       "    <tr>\n",
       "      <th>0</th>\n",
       "      <td>10248</td>\n",
       "      <td>3</td>\n",
       "      <td>0.00</td>\n",
       "      <td>0</td>\n",
       "    </tr>\n",
       "    <tr>\n",
       "      <th>1</th>\n",
       "      <td>10249</td>\n",
       "      <td>2</td>\n",
       "      <td>0.00</td>\n",
       "      <td>0</td>\n",
       "    </tr>\n",
       "    <tr>\n",
       "      <th>2</th>\n",
       "      <td>10250</td>\n",
       "      <td>3</td>\n",
       "      <td>0.15</td>\n",
       "      <td>1</td>\n",
       "    </tr>\n",
       "    <tr>\n",
       "      <th>3</th>\n",
       "      <td>10251</td>\n",
       "      <td>3</td>\n",
       "      <td>0.05</td>\n",
       "      <td>1</td>\n",
       "    </tr>\n",
       "    <tr>\n",
       "      <th>4</th>\n",
       "      <td>10252</td>\n",
       "      <td>3</td>\n",
       "      <td>0.05</td>\n",
       "      <td>1</td>\n",
       "    </tr>\n",
       "  </tbody>\n",
       "</table>\n",
       "</div>"
      ],
      "text/plain": [
       "      id  quantity  discount  has_discount\n",
       "0  10248         3      0.00             0\n",
       "1  10249         2      0.00             0\n",
       "2  10250         3      0.15             1\n",
       "3  10251         3      0.05             1\n",
       "4  10252         3      0.05             1"
      ]
     },
     "execution_count": 21,
     "metadata": {},
     "output_type": "execute_result"
    }
   ],
   "source": [
    "df_orders.head()"
   ]
  },
  {
   "cell_type": "markdown",
   "metadata": {},
   "source": [
    "Great! We can now start looking at the discount hypothesis from two levels: if the order contains a discount or not affects the number of items in the order, and if the level of discount affects the number of items in the order. Let's start with the first analysis by visualizing the data, and then running a t-test between the two categories. "
   ]
  },
  {
   "cell_type": "code",
   "execution_count": 22,
   "metadata": {
    "scrolled": true
   },
   "outputs": [
    {
     "data": {
      "image/png": "[encoded data removed]",
      "text/plain": [
       "<Figure size 864x864 with 1 Axes>"
      ]
     },
     "metadata": {
      "needs_background": "light"
     },
     "output_type": "display_data"
    }
   ],
   "source": [
    "# Visualize Boolean Discount Data\n",
    "plt.figure(figsize=(12,12))\n",
    "sns.boxplot(y='quantity',x='has_discount', data=df_orders)\n",
    "plt.title('Number of Items in Order vs. Having a Discount or Not')\n",
    "plt.xlabel('Has Discount?')\n",
    "plt.ylabel('Average number of items in order');\n"
   ]
  },
  {
   "cell_type": "markdown",
   "metadata": {},
   "source": [
    "It looks like we have a large outlier. Let's remove it from the dataset and revisualze the data. "
   ]
  },
  {
   "cell_type": "code",
   "execution_count": 23,
   "metadata": {},
   "outputs": [],
   "source": [
    "# Find outlier in where the order has a discount, and remove it based on \n",
    "# index of that datapoint \n",
    "highest = df_orders.quantity[df_orders.has_discount == 1].max()\n",
    "dex = df_orders[df_orders.quantity == highest].index\n",
    "df_orders.drop(index = dex, inplace = True)"
   ]
  },
  {
   "cell_type": "code",
   "execution_count": 24,
   "metadata": {
    "scrolled": true
   },
   "outputs": [
    {
     "data": {
      "image/png": "[encoded data removed]",
      "text/plain": [
       "<Figure size 864x864 with 1 Axes>"
      ]
     },
     "metadata": {
      "needs_background": "light"
     },
     "output_type": "display_data"
    }
   ],
   "source": [
    "# Visualize Boolean Discount Data\n",
    "plt.figure(figsize=(12,12))\n",
    "sns.boxplot(y='quantity',x='has_discount', data=df_orders)\n",
    "plt.title('Number of Items in Order vs. Having a Discount or Not')\n",
    "plt.xlabel('Has Discount?')\n",
    "plt.ylabel('Average number of items in order');\n",
    "\n"
   ]
  },
  {
   "cell_type": "markdown",
   "metadata": {},
   "source": [
    "Cool, looks much better. Let's run a T-Test on the two discounts to see if there is a significant difference between the two. We define our hypotheses as:\n",
    "\n",
    "**Null Hypothesis**: Having a discount has no significant effect on the number of items in the order\n",
    "\n",
    "**Alternate Hypothesis**: Having a discount significantly changes the number of items in an order "
   ]
  },
  {
   "cell_type": "code",
   "execution_count": 25,
   "metadata": {},
   "outputs": [
    {
     "data": {
      "text/plain": [
       "Ttest_indResult(statistic=3.0046828208473766, pvalue=0.0027388234015249566)"
      ]
     },
     "execution_count": 25,
     "metadata": {},
     "output_type": "execute_result"
    }
   ],
   "source": [
    "# T Test\n",
    "yes = df_orders.quantity[df_orders.has_discount == 1]\n",
    "no = df_orders.quantity[df_orders.has_discount == 0]\n",
    "ttest_ind(yes, no)"
   ]
  },
  {
   "cell_type": "code",
   "execution_count": 26,
   "metadata": {
    "scrolled": false
   },
   "outputs": [
    {
     "data": {
      "text/plain": [
       "MannwhitneyuResult(statistic=74129.0, pvalue=0.00037140794471339207)"
      ]
     },
     "execution_count": 26,
     "metadata": {},
     "output_type": "execute_result"
    }
   ],
   "source": [
    "# Mann Whitney Test to double check because of non-normality of data\n",
    "mannwhitneyu(yes,no)"
   ]
  },
  {
   "cell_type": "markdown",
   "metadata": {},
   "source": [
    "According to both tests, we can reject the null hypothesis at alpha level .05. I want to look a little further into this to see if there was a significant effect of the individual level of discount on the number of items in the order. First I will visualize the data at each discount level, and then I will use an ANOVA test across the different discount levels"
   ]
  },
  {
   "cell_type": "code",
   "execution_count": 27,
   "metadata": {},
   "outputs": [
    {
     "data": {
      "image/png": "[encoded data removed]",
      "text/plain": [
       "<Figure size 864x864 with 1 Axes>"
      ]
     },
     "metadata": {
      "needs_background": "light"
     },
     "output_type": "display_data"
    }
   ],
   "source": [
    "# Visualize again to check\n",
    "plt.figure(figsize=(12,12))\n",
    "sns.boxplot(y='quantity',x='discount', data=df_orders)\n",
    "plt.title('Distribution of data at discount levels')\n",
    "plt.xlabel('Max discount given per order')\n",
    "plt.ylabel('Number of items in order');"
   ]
  },
  {
   "cell_type": "markdown",
   "metadata": {},
   "source": [
    "We can define our hypotheses as follows:\n",
    "\n",
    "**Null Hypothesis:** discounts have no affect on the number of products ordered by customers\n",
    "\n",
    "**Alternate Hypothesis:** discounts have a signficant affect at alpha = .05 on the number of products ordered by customers"
   ]
  },
  {
   "cell_type": "code",
   "execution_count": 28,
   "metadata": {},
   "outputs": [
    {
     "data": {
      "text/html": [
       "<table class=\"simpletable\">\n",
       "<caption>OLS Regression Results</caption>\n",
       "<tr>\n",
       "  <th>Dep. Variable:</th>        <td>quantity</td>     <th>  R-squared:         </th> <td>   0.018</td>\n",
       "</tr>\n",
       "<tr>\n",
       "  <th>Model:</th>                   <td>OLS</td>       <th>  Adj. R-squared:    </th> <td>   0.012</td>\n",
       "</tr>\n",
       "<tr>\n",
       "  <th>Method:</th>             <td>Least Squares</td>  <th>  F-statistic:       </th> <td>   3.012</td>\n",
       "</tr>\n",
       "<tr>\n",
       "  <th>Date:</th>             <td>Mon, 22 Jul 2019</td> <th>  Prob (F-statistic):</th>  <td>0.0106</td> \n",
       "</tr>\n",
       "<tr>\n",
       "  <th>Time:</th>                 <td>12:46:03</td>     <th>  Log-Likelihood:    </th> <td> -1230.1</td>\n",
       "</tr>\n",
       "<tr>\n",
       "  <th>No. Observations:</th>      <td>   829</td>      <th>  AIC:               </th> <td>   2472.</td>\n",
       "</tr>\n",
       "<tr>\n",
       "  <th>Df Residuals:</th>          <td>   823</td>      <th>  BIC:               </th> <td>   2501.</td>\n",
       "</tr>\n",
       "<tr>\n",
       "  <th>Df Model:</th>              <td>     5</td>      <th>                     </th>     <td> </td>   \n",
       "</tr>\n",
       "<tr>\n",
       "  <th>Covariance Type:</th>      <td>nonrobust</td>    <th>                     </th>     <td> </td>   \n",
       "</tr>\n",
       "</table>\n",
       "<table class=\"simpletable\">\n",
       "<tr>\n",
       "           <td></td>              <th>coef</th>     <th>std err</th>      <th>t</th>      <th>P>|t|</th>  <th>[0.025</th>    <th>0.975]</th>  \n",
       "</tr>\n",
       "<tr>\n",
       "  <th>Intercept</th>           <td>    2.4667</td> <td>    0.050</td> <td>   48.858</td> <td> 0.000</td> <td>    2.368</td> <td>    2.566</td>\n",
       "</tr>\n",
       "<tr>\n",
       "  <th>C(discount)[T.0.05]</th> <td>    0.0217</td> <td>    0.126</td> <td>    0.172</td> <td> 0.863</td> <td>   -0.226</td> <td>    0.269</td>\n",
       "</tr>\n",
       "<tr>\n",
       "  <th>C(discount)[T.0.1]</th>  <td>    0.4252</td> <td>    0.134</td> <td>    3.165</td> <td> 0.002</td> <td>    0.162</td> <td>    0.689</td>\n",
       "</tr>\n",
       "<tr>\n",
       "  <th>C(discount)[T.0.15]</th> <td>    0.2400</td> <td>    0.134</td> <td>    1.797</td> <td> 0.073</td> <td>   -0.022</td> <td>    0.502</td>\n",
       "</tr>\n",
       "<tr>\n",
       "  <th>C(discount)[T.0.2]</th>  <td>    0.1861</td> <td>    0.136</td> <td>    1.369</td> <td> 0.171</td> <td>   -0.081</td> <td>    0.453</td>\n",
       "</tr>\n",
       "<tr>\n",
       "  <th>C(discount)[T.0.25]</th> <td>    0.2833</td> <td>    0.136</td> <td>    2.084</td> <td> 0.037</td> <td>    0.017</td> <td>    0.550</td>\n",
       "</tr>\n",
       "</table>\n",
       "<table class=\"simpletable\">\n",
       "<tr>\n",
       "  <th>Omnibus:</th>       <td>25.511</td> <th>  Durbin-Watson:     </th> <td>   2.014</td>\n",
       "</tr>\n",
       "<tr>\n",
       "  <th>Prob(Omnibus):</th> <td> 0.000</td> <th>  Jarque-Bera (JB):  </th> <td>  26.512</td>\n",
       "</tr>\n",
       "<tr>\n",
       "  <th>Skew:</th>          <td> 0.418</td> <th>  Prob(JB):          </th> <td>1.75e-06</td>\n",
       "</tr>\n",
       "<tr>\n",
       "  <th>Kurtosis:</th>      <td> 2.737</td> <th>  Cond. No.          </th> <td>    4.70</td>\n",
       "</tr>\n",
       "</table><br/><br/>Warnings:<br/>[1] Standard Errors assume that the covariance matrix of the errors is correctly specified."
      ],
      "text/plain": [
       "<class 'statsmodels.iolib.summary.Summary'>\n",
       "\"\"\"\n",
       "                            OLS Regression Results                            \n",
       "==============================================================================\n",
       "Dep. Variable:               quantity   R-squared:                       0.018\n",
       "Model:                            OLS   Adj. R-squared:                  0.012\n",
       "Method:                 Least Squares   F-statistic:                     3.012\n",
       "Date:                Mon, 22 Jul 2019   Prob (F-statistic):             0.0106\n",
       "Time:                        12:46:03   Log-Likelihood:                -1230.1\n",
       "No. Observations:                 829   AIC:                             2472.\n",
       "Df Residuals:                     823   BIC:                             2501.\n",
       "Df Model:                           5                                         \n",
       "Covariance Type:            nonrobust                                         \n",
       "=======================================================================================\n",
       "                          coef    std err          t      P>|t|      [0.025      0.975]\n",
       "---------------------------------------------------------------------------------------\n",
       "Intercept               2.4667      0.050     48.858      0.000       2.368       2.566\n",
       "C(discount)[T.0.05]     0.0217      0.126      0.172      0.863      -0.226       0.269\n",
       "C(discount)[T.0.1]      0.4252      0.134      3.165      0.002       0.162       0.689\n",
       "C(discount)[T.0.15]     0.2400      0.134      1.797      0.073      -0.022       0.502\n",
       "C(discount)[T.0.2]      0.1861      0.136      1.369      0.171      -0.081       0.453\n",
       "C(discount)[T.0.25]     0.2833      0.136      2.084      0.037       0.017       0.550\n",
       "==============================================================================\n",
       "Omnibus:                       25.511   Durbin-Watson:                   2.014\n",
       "Prob(Omnibus):                  0.000   Jarque-Bera (JB):               26.512\n",
       "Skew:                           0.418   Prob(JB):                     1.75e-06\n",
       "Kurtosis:                       2.737   Cond. No.                         4.70\n",
       "==============================================================================\n",
       "\n",
       "Warnings:\n",
       "[1] Standard Errors assume that the covariance matrix of the errors is correctly specified.\n",
       "\"\"\""
      ]
     },
     "execution_count": 28,
     "metadata": {},
     "output_type": "execute_result"
    }
   ],
   "source": [
    "# Use ANOVA Test since this is multicomparison\n",
    "results = ols('quantity ~ C(discount)', data=df_orders).fit()\n",
    "results.summary()"
   ]
  },
  {
   "cell_type": "markdown",
   "metadata": {},
   "source": [
    "Since the P Value of the F statistic is less than our alpha level, we can reject the null hypothesis. The largest effect is seen at the highest T levels with smallest p values (those less that .05), so discount levels of .1 and .25 have the largest effect on the number of items in the order"
   ]
  },
  {
   "cell_type": "markdown",
   "metadata": {},
   "source": [
    "# Hypothesis 2: Regionality of Customers\n",
    "\n",
    "Next I want to look into if the of where customers are from have an effect on the average order size in an order, i.e. are certain regions ordering larger orders than others. In order to do this, I will have to connect the OrderId table with the order table with the customer table. "
   ]
  },
  {
   "cell_type": "code",
   "execution_count": 29,
   "metadata": {
    "scrolled": true
   },
   "outputs": [
    {
     "name": "stdout",
     "output_type": "stream",
     "text": [
      "2019-07-22 12:49:36,677 INFO sqlalchemy.engine.base.Engine SELECT od.OrderId, SUM(od.UnitPrice*od.Quantity) AS total_bookings, c.Region as region FROM OrderDetail od LEFT JOIN [Order] o ON od.OrderId = o.Id LEFT JOIN Customer c ON o.CustomerId = c.Id GROUP BY od.OrderId\n",
      "2019-07-22 12:49:36,678 INFO sqlalchemy.engine.base.Engine ()\n"
     ]
    }
   ],
   "source": [
    "# Query to join OrderID, Order, and Customer table\n",
    "q = '''SELECT od.OrderId, SUM(od.UnitPrice*od.Quantity) AS total_bookings, c.Region as region \\\n",
    "FROM OrderDetail od \\\n",
    "LEFT JOIN [Order] o ON od.OrderId = o.Id \\\n",
    "LEFT JOIN Customer c ON o.CustomerId = c.Id \\\n",
    "GROUP BY od.OrderId'''\n",
    "\n",
    "df_ter = pd.read_sql_query(q, engine) #puts the information from the query into a dataframe\n"
   ]
  },
  {
   "cell_type": "code",
   "execution_count": 30,
   "metadata": {
    "scrolled": true
   },
   "outputs": [
    {
     "data": {
      "text/html": [
       "<div>\n",
       "<style scoped>\n",
       "    .dataframe tbody tr th:only-of-type {\n",
       "        vertical-align: middle;\n",
       "    }\n",
       "\n",
       "    .dataframe tbody tr th {\n",
       "        vertical-align: top;\n",
       "    }\n",
       "\n",
       "    .dataframe thead th {\n",
       "        text-align: right;\n",
       "    }\n",
       "</style>\n",
       "<table border=\"1\" class=\"dataframe\">\n",
       "  <thead>\n",
       "    <tr style=\"text-align: right;\">\n",
       "      <th></th>\n",
       "      <th>OrderId</th>\n",
       "      <th>total_bookings</th>\n",
       "      <th>region</th>\n",
       "    </tr>\n",
       "  </thead>\n",
       "  <tbody>\n",
       "    <tr>\n",
       "      <th>0</th>\n",
       "      <td>10248</td>\n",
       "      <td>440.0</td>\n",
       "      <td>Western Europe</td>\n",
       "    </tr>\n",
       "    <tr>\n",
       "      <th>1</th>\n",
       "      <td>10249</td>\n",
       "      <td>1863.4</td>\n",
       "      <td>Western Europe</td>\n",
       "    </tr>\n",
       "    <tr>\n",
       "      <th>2</th>\n",
       "      <td>10250</td>\n",
       "      <td>1813.0</td>\n",
       "      <td>South America</td>\n",
       "    </tr>\n",
       "    <tr>\n",
       "      <th>3</th>\n",
       "      <td>10251</td>\n",
       "      <td>670.8</td>\n",
       "      <td>Western Europe</td>\n",
       "    </tr>\n",
       "    <tr>\n",
       "      <th>4</th>\n",
       "      <td>10252</td>\n",
       "      <td>3730.0</td>\n",
       "      <td>Western Europe</td>\n",
       "    </tr>\n",
       "    <tr>\n",
       "      <th>5</th>\n",
       "      <td>10253</td>\n",
       "      <td>1444.8</td>\n",
       "      <td>South America</td>\n",
       "    </tr>\n",
       "    <tr>\n",
       "      <th>6</th>\n",
       "      <td>10254</td>\n",
       "      <td>625.2</td>\n",
       "      <td>Western Europe</td>\n",
       "    </tr>\n",
       "    <tr>\n",
       "      <th>7</th>\n",
       "      <td>10255</td>\n",
       "      <td>2490.5</td>\n",
       "      <td>Western Europe</td>\n",
       "    </tr>\n",
       "    <tr>\n",
       "      <th>8</th>\n",
       "      <td>10256</td>\n",
       "      <td>517.8</td>\n",
       "      <td>South America</td>\n",
       "    </tr>\n",
       "    <tr>\n",
       "      <th>9</th>\n",
       "      <td>10257</td>\n",
       "      <td>1119.9</td>\n",
       "      <td>South America</td>\n",
       "    </tr>\n",
       "    <tr>\n",
       "      <th>10</th>\n",
       "      <td>10258</td>\n",
       "      <td>2018.6</td>\n",
       "      <td>Western Europe</td>\n",
       "    </tr>\n",
       "    <tr>\n",
       "      <th>11</th>\n",
       "      <td>10259</td>\n",
       "      <td>100.8</td>\n",
       "      <td>Central America</td>\n",
       "    </tr>\n",
       "    <tr>\n",
       "      <th>12</th>\n",
       "      <td>10260</td>\n",
       "      <td>1746.2</td>\n",
       "      <td>Western Europe</td>\n",
       "    </tr>\n",
       "    <tr>\n",
       "      <th>13</th>\n",
       "      <td>10261</td>\n",
       "      <td>448.0</td>\n",
       "      <td>South America</td>\n",
       "    </tr>\n",
       "    <tr>\n",
       "      <th>14</th>\n",
       "      <td>10262</td>\n",
       "      <td>624.8</td>\n",
       "      <td>North America</td>\n",
       "    </tr>\n",
       "  </tbody>\n",
       "</table>\n",
       "</div>"
      ],
      "text/plain": [
       "    OrderId  total_bookings           region\n",
       "0     10248           440.0   Western Europe\n",
       "1     10249          1863.4   Western Europe\n",
       "2     10250          1813.0    South America\n",
       "3     10251           670.8   Western Europe\n",
       "4     10252          3730.0   Western Europe\n",
       "5     10253          1444.8    South America\n",
       "6     10254           625.2   Western Europe\n",
       "7     10255          2490.5   Western Europe\n",
       "8     10256           517.8    South America\n",
       "9     10257          1119.9    South America\n",
       "10    10258          2018.6   Western Europe\n",
       "11    10259           100.8  Central America\n",
       "12    10260          1746.2   Western Europe\n",
       "13    10261           448.0    South America\n",
       "14    10262           624.8    North America"
      ]
     },
     "execution_count": 30,
     "metadata": {},
     "output_type": "execute_result"
    }
   ],
   "source": [
    "df_ter.head(15)"
   ]
  },
  {
   "cell_type": "markdown",
   "metadata": {},
   "source": [
    "Next I want to explore the data a little bit to see how many unique regions there are, if there are any NA's (can we drop them if necessary), and to visualize the data a bit. "
   ]
  },
  {
   "cell_type": "code",
   "execution_count": 31,
   "metadata": {},
   "outputs": [
    {
     "data": {
      "text/plain": [
       "10"
      ]
     },
     "execution_count": 31,
     "metadata": {},
     "output_type": "execute_result"
    }
   ],
   "source": [
    "# How many unique regions\n",
    "len(df_ter.region.unique())"
   ]
  },
  {
   "cell_type": "code",
   "execution_count": 32,
   "metadata": {},
   "outputs": [
    {
     "data": {
      "text/plain": [
       "830"
      ]
     },
     "execution_count": 32,
     "metadata": {},
     "output_type": "execute_result"
    }
   ],
   "source": [
    "# length of the dataframe\n",
    "len(df_ter)"
   ]
  },
  {
   "cell_type": "code",
   "execution_count": 82,
   "metadata": {},
   "outputs": [
    {
     "data": {
      "text/plain": [
       "29"
      ]
     },
     "execution_count": 82,
     "metadata": {},
     "output_type": "execute_result"
    }
   ],
   "source": [
    "# check for any NAs\n",
    "sum(df_ter.region.isna())"
   ]
  },
  {
   "cell_type": "code",
   "execution_count": 33,
   "metadata": {
    "scrolled": true
   },
   "outputs": [],
   "source": [
    "# Since there are only 29/830 NAs, drop NA Region Values\n",
    "df_ter = df_ter.dropna()"
   ]
  },
  {
   "cell_type": "code",
   "execution_count": 37,
   "metadata": {
    "scrolled": true
   },
   "outputs": [
    {
     "data": {
      "text/plain": [
       "Western Europe     272\n",
       "North America      152\n",
       "South America      127\n",
       "British Isles       75\n",
       "Southern Europe     64\n",
       "Northern Europe     55\n",
       "Scandinavia         28\n",
       "Central America     21\n",
       "Eastern Europe       7\n",
       "Name: region, dtype: int64"
      ]
     },
     "execution_count": 37,
     "metadata": {},
     "output_type": "execute_result"
    }
   ],
   "source": [
    "df_ter.region.value_counts()"
   ]
  },
  {
   "cell_type": "markdown",
   "metadata": {},
   "source": [
    "Since there are a few regions (Eastern Europe, Central America, and Scandinavia) where there is not enough data to pull accurate conclusions (n < 30). Let's disclude them from our analysis. "
   ]
  },
  {
   "cell_type": "code",
   "execution_count": 108,
   "metadata": {},
   "outputs": [],
   "source": [
    "regions = ['Western Europe', 'North America', 'South America', 'British Isles', 'Southern Europe', 'Northern Europe']\n",
    "df_ter2 = df_ter[df_ter.region.isin(regions)]"
   ]
  },
  {
   "cell_type": "code",
   "execution_count": 109,
   "metadata": {},
   "outputs": [
    {
     "data": {
      "text/html": [
       "<div>\n",
       "<style scoped>\n",
       "    .dataframe tbody tr th:only-of-type {\n",
       "        vertical-align: middle;\n",
       "    }\n",
       "\n",
       "    .dataframe tbody tr th {\n",
       "        vertical-align: top;\n",
       "    }\n",
       "\n",
       "    .dataframe thead th {\n",
       "        text-align: right;\n",
       "    }\n",
       "</style>\n",
       "<table border=\"1\" class=\"dataframe\">\n",
       "  <thead>\n",
       "    <tr style=\"text-align: right;\">\n",
       "      <th></th>\n",
       "      <th>OrderId</th>\n",
       "      <th>total_bookings</th>\n",
       "      <th>region</th>\n",
       "    </tr>\n",
       "  </thead>\n",
       "  <tbody>\n",
       "    <tr>\n",
       "      <th>0</th>\n",
       "      <td>10248</td>\n",
       "      <td>440.0</td>\n",
       "      <td>Western Europe</td>\n",
       "    </tr>\n",
       "    <tr>\n",
       "      <th>1</th>\n",
       "      <td>10249</td>\n",
       "      <td>1863.4</td>\n",
       "      <td>Western Europe</td>\n",
       "    </tr>\n",
       "    <tr>\n",
       "      <th>2</th>\n",
       "      <td>10250</td>\n",
       "      <td>1813.0</td>\n",
       "      <td>South America</td>\n",
       "    </tr>\n",
       "    <tr>\n",
       "      <th>3</th>\n",
       "      <td>10251</td>\n",
       "      <td>670.8</td>\n",
       "      <td>Western Europe</td>\n",
       "    </tr>\n",
       "    <tr>\n",
       "      <th>4</th>\n",
       "      <td>10252</td>\n",
       "      <td>3730.0</td>\n",
       "      <td>Western Europe</td>\n",
       "    </tr>\n",
       "  </tbody>\n",
       "</table>\n",
       "</div>"
      ],
      "text/plain": [
       "   OrderId  total_bookings          region\n",
       "0    10248           440.0  Western Europe\n",
       "1    10249          1863.4  Western Europe\n",
       "2    10250          1813.0   South America\n",
       "3    10251           670.8  Western Europe\n",
       "4    10252          3730.0  Western Europe"
      ]
     },
     "execution_count": 109,
     "metadata": {},
     "output_type": "execute_result"
    }
   ],
   "source": [
    "df_ter2.head()"
   ]
  },
  {
   "cell_type": "code",
   "execution_count": 111,
   "metadata": {},
   "outputs": [
    {
     "data": {
      "image/png": "[encoded data removed]",
      "text/plain": [
       "<Figure size 864x864 with 1 Axes>"
      ]
     },
     "metadata": {},
     "output_type": "display_data"
    }
   ],
   "source": [
    "# Visialize the data\n",
    "plt.figure(figsize=(12,12))\n",
    "sns.barplot(y='total_bookings',x='region', data=df_ter2)\n",
    "plt.title('Distribution of region and average order size')\n",
    "plt.xlabel('Regions')\n",
    "plt.ylabel('Average Order Sale');"
   ]
  },
  {
   "cell_type": "markdown",
   "metadata": {},
   "source": [
    "Based off the visualization, there are some countries that look to have much higher than average order sales than others. Since we are comparing multiple means, let's use an ANOVA test to test this. We define our hypotheses as follows:\n",
    "\n",
    "**Null Hypothesis**: Customer Region has no effect on the average order size\n",
    "\n",
    "**Alternate Hypothesis**: Customer Region has an effect on the average order size at an alpha level of .05"
   ]
  },
  {
   "cell_type": "code",
   "execution_count": 112,
   "metadata": {
    "scrolled": true
   },
   "outputs": [
    {
     "data": {
      "text/html": [
       "<table class=\"simpletable\">\n",
       "<caption>OLS Regression Results</caption>\n",
       "<tr>\n",
       "  <th>Dep. Variable:</th>     <td>total_bookings</td>  <th>  R-squared:         </th> <td>   0.044</td> \n",
       "</tr>\n",
       "<tr>\n",
       "  <th>Model:</th>                   <td>OLS</td>       <th>  Adj. R-squared:    </th> <td>   0.038</td> \n",
       "</tr>\n",
       "<tr>\n",
       "  <th>Method:</th>             <td>Least Squares</td>  <th>  F-statistic:       </th> <td>   6.832</td> \n",
       "</tr>\n",
       "<tr>\n",
       "  <th>Date:</th>             <td>Mon, 22 Jul 2019</td> <th>  Prob (F-statistic):</th> <td>3.05e-06</td> \n",
       "</tr>\n",
       "<tr>\n",
       "  <th>Time:</th>                 <td>15:07:32</td>     <th>  Log-Likelihood:    </th> <td> -6714.6</td> \n",
       "</tr>\n",
       "<tr>\n",
       "  <th>No. Observations:</th>      <td>   745</td>      <th>  AIC:               </th> <td>1.344e+04</td>\n",
       "</tr>\n",
       "<tr>\n",
       "  <th>Df Residuals:</th>          <td>   739</td>      <th>  BIC:               </th> <td>1.347e+04</td>\n",
       "</tr>\n",
       "<tr>\n",
       "  <th>Df Model:</th>              <td>     5</td>      <th>                     </th>     <td> </td>    \n",
       "</tr>\n",
       "<tr>\n",
       "  <th>Covariance Type:</th>      <td>nonrobust</td>    <th>                     </th>     <td> </td>    \n",
       "</tr>\n",
       "</table>\n",
       "<table class=\"simpletable\">\n",
       "<tr>\n",
       "                <td></td>                  <th>coef</th>     <th>std err</th>      <th>t</th>      <th>P>|t|</th>  <th>[0.025</th>    <th>0.975]</th>  \n",
       "</tr>\n",
       "<tr>\n",
       "  <th>Intercept</th>                    <td> 1572.4520</td> <td>  230.276</td> <td>    6.829</td> <td> 0.000</td> <td> 1120.379</td> <td> 2024.525</td>\n",
       "</tr>\n",
       "<tr>\n",
       "  <th>C(region)[T.North America]</th>   <td>  525.5814</td> <td>  281.410</td> <td>    1.868</td> <td> 0.062</td> <td>  -26.877</td> <td> 1078.040</td>\n",
       "</tr>\n",
       "<tr>\n",
       "  <th>C(region)[T.Northern Europe]</th> <td>  142.2016</td> <td>  354.029</td> <td>    0.402</td> <td> 0.688</td> <td> -552.821</td> <td>  837.224</td>\n",
       "</tr>\n",
       "<tr>\n",
       "  <th>C(region)[T.South America]</th>   <td> -389.6475</td> <td>  290.417</td> <td>   -1.342</td> <td> 0.180</td> <td> -959.788</td> <td>  180.493</td>\n",
       "</tr>\n",
       "<tr>\n",
       "  <th>C(region)[T.Southern Europe]</th> <td> -812.9881</td> <td>  339.364</td> <td>   -2.396</td> <td> 0.017</td> <td>-1479.220</td> <td> -146.756</td>\n",
       "</tr>\n",
       "<tr>\n",
       "  <th>C(region)[T.Western Europe]</th>  <td>  398.4105</td> <td>  260.093</td> <td>    1.532</td> <td> 0.126</td> <td> -112.199</td> <td>  909.020</td>\n",
       "</tr>\n",
       "</table>\n",
       "<table class=\"simpletable\">\n",
       "<tr>\n",
       "  <th>Omnibus:</th>       <td>566.090</td> <th>  Durbin-Watson:     </th> <td>   2.056</td>\n",
       "</tr>\n",
       "<tr>\n",
       "  <th>Prob(Omnibus):</th> <td> 0.000</td>  <th>  Jarque-Bera (JB):  </th> <td>9668.678</td>\n",
       "</tr>\n",
       "<tr>\n",
       "  <th>Skew:</th>          <td> 3.336</td>  <th>  Prob(JB):          </th> <td>    0.00</td>\n",
       "</tr>\n",
       "<tr>\n",
       "  <th>Kurtosis:</th>      <td>19.339</td>  <th>  Cond. No.          </th> <td>    9.05</td>\n",
       "</tr>\n",
       "</table><br/><br/>Warnings:<br/>[1] Standard Errors assume that the covariance matrix of the errors is correctly specified."
      ],
      "text/plain": [
       "<class 'statsmodels.iolib.summary.Summary'>\n",
       "\"\"\"\n",
       "                            OLS Regression Results                            \n",
       "==============================================================================\n",
       "Dep. Variable:         total_bookings   R-squared:                       0.044\n",
       "Model:                            OLS   Adj. R-squared:                  0.038\n",
       "Method:                 Least Squares   F-statistic:                     6.832\n",
       "Date:                Mon, 22 Jul 2019   Prob (F-statistic):           3.05e-06\n",
       "Time:                        15:07:32   Log-Likelihood:                -6714.6\n",
       "No. Observations:                 745   AIC:                         1.344e+04\n",
       "Df Residuals:                     739   BIC:                         1.347e+04\n",
       "Df Model:                           5                                         \n",
       "Covariance Type:            nonrobust                                         \n",
       "================================================================================================\n",
       "                                   coef    std err          t      P>|t|      [0.025      0.975]\n",
       "------------------------------------------------------------------------------------------------\n",
       "Intercept                     1572.4520    230.276      6.829      0.000    1120.379    2024.525\n",
       "C(region)[T.North America]     525.5814    281.410      1.868      0.062     -26.877    1078.040\n",
       "C(region)[T.Northern Europe]   142.2016    354.029      0.402      0.688    -552.821     837.224\n",
       "C(region)[T.South America]    -389.6475    290.417     -1.342      0.180    -959.788     180.493\n",
       "C(region)[T.Southern Europe]  -812.9881    339.364     -2.396      0.017   -1479.220    -146.756\n",
       "C(region)[T.Western Europe]    398.4105    260.093      1.532      0.126    -112.199     909.020\n",
       "==============================================================================\n",
       "Omnibus:                      566.090   Durbin-Watson:                   2.056\n",
       "Prob(Omnibus):                  0.000   Jarque-Bera (JB):             9668.678\n",
       "Skew:                           3.336   Prob(JB):                         0.00\n",
       "Kurtosis:                      19.339   Cond. No.                         9.05\n",
       "==============================================================================\n",
       "\n",
       "Warnings:\n",
       "[1] Standard Errors assume that the covariance matrix of the errors is correctly specified.\n",
       "\"\"\""
      ]
     },
     "execution_count": 112,
     "metadata": {},
     "output_type": "execute_result"
    }
   ],
   "source": [
    "results = ols('total_bookings ~ C(region)', data=df_ter2).fit()\n",
    "results.summary()"
   ]
  },
  {
   "cell_type": "markdown",
   "metadata": {},
   "source": [
    "Regions have a significant effect on the average order size with a p value of .002. Let's look deeper to see which regions have the largest effect by using a tukey HSD test. "
   ]
  },
  {
   "cell_type": "code",
   "execution_count": 113,
   "metadata": {
    "scrolled": false
   },
   "outputs": [
    {
     "name": "stdout",
     "output_type": "stream",
     "text": [
      "          Multiple Comparison of Means - Tukey HSD,FWER=0.05          \n",
      "======================================================================\n",
      "     group1          group2      meandiff    lower      upper   reject\n",
      "----------------------------------------------------------------------\n",
      " British Isles   North America   525.5814  -278.4591   1329.622 False \n",
      " British Isles  Northern Europe  142.2016  -869.3246  1153.7279 False \n",
      " British Isles   South America  -389.6475  -1219.4231  440.128  False \n",
      " British Isles  Southern Europe -812.9881  -1782.614   156.6378 False \n",
      " British Isles   Western Europe  398.4105  -344.7234  1141.5444 False \n",
      " North America  Northern Europe -383.3798  -1279.9813  513.2217 False \n",
      " North America   South America  -915.2289  -1600.2373 -230.2205  True \n",
      " North America  Southern Europe -1338.5695 -2187.6181 -489.5209  True \n",
      " North America   Western Europe -127.1709  -704.1953   449.8534 False \n",
      "Northern Europe  South America  -531.8491  -1451.5994  387.9011 False \n",
      "Northern Europe Southern Europe -955.1897  -2002.8479  92.4684  False \n",
      "Northern Europe  Western Europe  256.2089   -586.205  1098.6228 False \n",
      " South America  Southern Europe -423.3406  -1296.7991  450.1179 False \n",
      " South America   Western Europe  788.058    175.6828  1400.4332  True \n",
      "Southern Europe  Western Europe 1211.3986   419.7861  2003.0111  True \n",
      "----------------------------------------------------------------------\n"
     ]
    }
   ],
   "source": [
    "mc = MultiComparison(df_ter2.total_bookings, df_ter2.region)\n",
    "mc_results = mc.tukeyhsd()\n",
    "print(mc_results)"
   ]
  },
  {
   "cell_type": "markdown",
   "metadata": {},
   "source": [
    "We can reject the null at the pairings of North America and South Amerca, North America and Southern Europe, Southern Europe and Western Europe, and South America and Western Europe. This is showing that there is significance between the lowest on average sales price (Southern Europe and South America), and the two largest (North America and Western Europe). "
   ]
  },
  {
   "cell_type": "markdown",
   "metadata": {},
   "source": [
    "\n",
    "\n",
    "# Hypothesis 3: Regionality of Suppliers \n",
    "\n",
    "Do suppliers have an effect on the number of orders that go out?\n",
    "Are some suppliers generating more revenue than others?"
   ]
  },
  {
   "cell_type": "code",
   "execution_count": 48,
   "metadata": {},
   "outputs": [
    {
     "name": "stdout",
     "output_type": "stream",
     "text": [
      "2019-07-22 13:44:26,609 INFO sqlalchemy.engine.base.Engine SELECT od.OrderId, od.ProductId, SUM(od.UnitPrice*od.Quantity) , s.CompanyName, s.Country FROM OrderDetail od LEFT JOIN [Product] p ON od.ProductId = p.Id LEFT JOIN Supplier s ON p.SupplierId = s.Id GROUP BY od.OrderId\n",
      "2019-07-22 13:44:26,610 INFO sqlalchemy.engine.base.Engine ()\n"
     ]
    }
   ],
   "source": [
    "# Link Supplier Company Name by the supploer id to the product id to the \n",
    "#order details (unit price x quantity)\n",
    "\n",
    "q = '''SELECT od.OrderId, od.ProductId, SUM(od.UnitPrice*od.Quantity) , s.CompanyName, s.Country \\\n",
    "FROM OrderDetail od \\\n",
    "LEFT JOIN [Product] p ON od.ProductId = p.Id \\\n",
    "LEFT JOIN Supplier s ON p.SupplierId = s.Id \\\n",
    "GROUP BY od.OrderId'''\n",
    "\n",
    "df_s = pd.read_sql_query(q, engine)\n"
   ]
  },
  {
   "cell_type": "code",
   "execution_count": 49,
   "metadata": {},
   "outputs": [
    {
     "data": {
      "text/html": [
       "<div>\n",
       "<style scoped>\n",
       "    .dataframe tbody tr th:only-of-type {\n",
       "        vertical-align: middle;\n",
       "    }\n",
       "\n",
       "    .dataframe tbody tr th {\n",
       "        vertical-align: top;\n",
       "    }\n",
       "\n",
       "    .dataframe thead th {\n",
       "        text-align: right;\n",
       "    }\n",
       "</style>\n",
       "<table border=\"1\" class=\"dataframe\">\n",
       "  <thead>\n",
       "    <tr style=\"text-align: right;\">\n",
       "      <th></th>\n",
       "      <th>OrderId</th>\n",
       "      <th>ProductId</th>\n",
       "      <th>SUM(od.UnitPrice*od.Quantity)</th>\n",
       "      <th>CompanyName</th>\n",
       "      <th>Country</th>\n",
       "    </tr>\n",
       "  </thead>\n",
       "  <tbody>\n",
       "    <tr>\n",
       "      <th>0</th>\n",
       "      <td>10248</td>\n",
       "      <td>11</td>\n",
       "      <td>440.0</td>\n",
       "      <td>Cooperativa de Quesos 'Las Cabras'</td>\n",
       "      <td>Spain</td>\n",
       "    </tr>\n",
       "    <tr>\n",
       "      <th>1</th>\n",
       "      <td>10249</td>\n",
       "      <td>14</td>\n",
       "      <td>1863.4</td>\n",
       "      <td>Mayumi's</td>\n",
       "      <td>Japan</td>\n",
       "    </tr>\n",
       "    <tr>\n",
       "      <th>2</th>\n",
       "      <td>10250</td>\n",
       "      <td>41</td>\n",
       "      <td>1813.0</td>\n",
       "      <td>New England Seafood Cannery</td>\n",
       "      <td>USA</td>\n",
       "    </tr>\n",
       "    <tr>\n",
       "      <th>3</th>\n",
       "      <td>10251</td>\n",
       "      <td>22</td>\n",
       "      <td>670.8</td>\n",
       "      <td>PB Knäckebröd AB</td>\n",
       "      <td>Sweden</td>\n",
       "    </tr>\n",
       "    <tr>\n",
       "      <th>4</th>\n",
       "      <td>10252</td>\n",
       "      <td>20</td>\n",
       "      <td>3730.0</td>\n",
       "      <td>Specialty Biscuits, Ltd.</td>\n",
       "      <td>UK</td>\n",
       "    </tr>\n",
       "  </tbody>\n",
       "</table>\n",
       "</div>"
      ],
      "text/plain": [
       "   OrderId  ProductId  SUM(od.UnitPrice*od.Quantity)  \\\n",
       "0    10248         11                          440.0   \n",
       "1    10249         14                         1863.4   \n",
       "2    10250         41                         1813.0   \n",
       "3    10251         22                          670.8   \n",
       "4    10252         20                         3730.0   \n",
       "\n",
       "                          CompanyName Country  \n",
       "0  Cooperativa de Quesos 'Las Cabras'   Spain  \n",
       "1                            Mayumi's   Japan  \n",
       "2         New England Seafood Cannery     USA  \n",
       "3                    PB Knäckebröd AB  Sweden  \n",
       "4            Specialty Biscuits, Ltd.      UK  "
      ]
     },
     "execution_count": 49,
     "metadata": {},
     "output_type": "execute_result"
    }
   ],
   "source": [
    "df_s.head()"
   ]
  },
  {
   "cell_type": "code",
   "execution_count": 50,
   "metadata": {
    "scrolled": true
   },
   "outputs": [
    {
     "data": {
      "text/plain": [
       "830"
      ]
     },
     "execution_count": 50,
     "metadata": {},
     "output_type": "execute_result"
    }
   ],
   "source": [
    "len(df_s)"
   ]
  },
  {
   "cell_type": "code",
   "execution_count": 80,
   "metadata": {},
   "outputs": [],
   "source": [
    "# Rename Column Headers and display the new dataframe\n",
    "df_s.columns = ['OrderId', 'ProductId', 'total_bookings', 'company_name', 'country']"
   ]
  },
  {
   "cell_type": "code",
   "execution_count": 81,
   "metadata": {
    "scrolled": true
   },
   "outputs": [
    {
     "data": {
      "text/html": [
       "<div>\n",
       "<style scoped>\n",
       "    .dataframe tbody tr th:only-of-type {\n",
       "        vertical-align: middle;\n",
       "    }\n",
       "\n",
       "    .dataframe tbody tr th {\n",
       "        vertical-align: top;\n",
       "    }\n",
       "\n",
       "    .dataframe thead th {\n",
       "        text-align: right;\n",
       "    }\n",
       "</style>\n",
       "<table border=\"1\" class=\"dataframe\">\n",
       "  <thead>\n",
       "    <tr style=\"text-align: right;\">\n",
       "      <th></th>\n",
       "      <th>OrderId</th>\n",
       "      <th>ProductId</th>\n",
       "      <th>total_bookings</th>\n",
       "      <th>company_name</th>\n",
       "      <th>country</th>\n",
       "    </tr>\n",
       "  </thead>\n",
       "  <tbody>\n",
       "    <tr>\n",
       "      <th>0</th>\n",
       "      <td>10248</td>\n",
       "      <td>11</td>\n",
       "      <td>440.0</td>\n",
       "      <td>Cooperativa de Quesos 'Las Cabras'</td>\n",
       "      <td>Spain</td>\n",
       "    </tr>\n",
       "    <tr>\n",
       "      <th>1</th>\n",
       "      <td>10249</td>\n",
       "      <td>14</td>\n",
       "      <td>1863.4</td>\n",
       "      <td>Mayumi's</td>\n",
       "      <td>Japan</td>\n",
       "    </tr>\n",
       "    <tr>\n",
       "      <th>2</th>\n",
       "      <td>10250</td>\n",
       "      <td>41</td>\n",
       "      <td>1813.0</td>\n",
       "      <td>New England Seafood Cannery</td>\n",
       "      <td>USA</td>\n",
       "    </tr>\n",
       "    <tr>\n",
       "      <th>3</th>\n",
       "      <td>10251</td>\n",
       "      <td>22</td>\n",
       "      <td>670.8</td>\n",
       "      <td>PB Knäckebröd AB</td>\n",
       "      <td>Sweden</td>\n",
       "    </tr>\n",
       "    <tr>\n",
       "      <th>4</th>\n",
       "      <td>10252</td>\n",
       "      <td>20</td>\n",
       "      <td>3730.0</td>\n",
       "      <td>Specialty Biscuits, Ltd.</td>\n",
       "      <td>UK</td>\n",
       "    </tr>\n",
       "  </tbody>\n",
       "</table>\n",
       "</div>"
      ],
      "text/plain": [
       "   OrderId  ProductId  total_bookings                        company_name  \\\n",
       "0    10248         11           440.0  Cooperativa de Quesos 'Las Cabras'   \n",
       "1    10249         14          1863.4                            Mayumi's   \n",
       "2    10250         41          1813.0         New England Seafood Cannery   \n",
       "3    10251         22           670.8                    PB Knäckebröd AB   \n",
       "4    10252         20          3730.0            Specialty Biscuits, Ltd.   \n",
       "\n",
       "  country  \n",
       "0   Spain  \n",
       "1   Japan  \n",
       "2     USA  \n",
       "3  Sweden  \n",
       "4      UK  "
      ]
     },
     "execution_count": 81,
     "metadata": {},
     "output_type": "execute_result"
    }
   ],
   "source": [
    "df_s.head()"
   ]
  },
  {
   "cell_type": "code",
   "execution_count": 53,
   "metadata": {
    "scrolled": true
   },
   "outputs": [
    {
     "data": {
      "text/plain": [
       "UK             157\n",
       "USA            120\n",
       "Australia      103\n",
       "Germany         87\n",
       "Japan           84\n",
       "Italy           46\n",
       "Spain           44\n",
       "France          39\n",
       "Sweden          31\n",
       "Brazil          28\n",
       "Canada          25\n",
       "Norway          23\n",
       "Singapore       14\n",
       "Denmark         12\n",
       "Finland          9\n",
       "Netherlands      8\n",
       "Name: country, dtype: int64"
      ]
     },
     "execution_count": 53,
     "metadata": {},
     "output_type": "execute_result"
    }
   ],
   "source": [
    "# Check for value counts\n",
    "df_s.country.value_counts()"
   ]
  },
  {
   "cell_type": "markdown",
   "metadata": {},
   "source": [
    "Once again, we are seeing there are a few countries that do not have enough data (n < 30) to be considered in the analysis. Let's create a new dataframe with only countries that have enough data. "
   ]
  },
  {
   "cell_type": "code",
   "execution_count": 82,
   "metadata": {},
   "outputs": [],
   "source": [
    "# Create a list of countries with enough data and use a new dataframe with just that information\n",
    "countries = ['UK', 'USA', 'Australia', 'Germany', 'Japan', 'Italy', 'Spain', 'France', 'Sweden']\n",
    "df_s2 = df_s[df_s.country.isin(countries)]"
   ]
  },
  {
   "cell_type": "code",
   "execution_count": 83,
   "metadata": {
    "scrolled": true
   },
   "outputs": [
    {
     "data": {
      "text/plain": [
       "UK           157\n",
       "USA          120\n",
       "Australia    103\n",
       "Germany       87\n",
       "Japan         84\n",
       "Italy         46\n",
       "Spain         44\n",
       "France        39\n",
       "Sweden        31\n",
       "Name: country, dtype: int64"
      ]
     },
     "execution_count": 83,
     "metadata": {},
     "output_type": "execute_result"
    }
   ],
   "source": [
    "# Check to see if worked\n",
    "df_s2.country.value_counts()"
   ]
  },
  {
   "cell_type": "markdown",
   "metadata": {},
   "source": [
    "Great - Let's Visualize the data, and then run an ANOVA Test to see if there is any significance. \n",
    "\n",
    "**Null Hypothesis**: There is no effect of Supplier Country on the average order size\n",
    "\n",
    "**Alternatite Hypothesis**: There is a signficant effect of supplier country on the average order size at an alpha level of .05"
   ]
  },
  {
   "cell_type": "code",
   "execution_count": 69,
   "metadata": {
    "scrolled": false
   },
   "outputs": [
    {
     "data": {
      "image/png": "[encoded data removed]",
      "text/plain": [
       "<Figure size 864x864 with 1 Axes>"
      ]
     },
     "metadata": {
      "needs_background": "light"
     },
     "output_type": "display_data"
    }
   ],
   "source": [
    "plt.figure(figsize=(12,12))\n",
    "sns.barplot(y='total_bookings',x='country', data=df_s2)\n",
    "plt.title('Distribution of Supplier Countries Average Order Size')\n",
    "plt.xlabel('Country')\n",
    "plt.ylabel('Average Order Sale');"
   ]
  },
  {
   "cell_type": "code",
   "execution_count": 59,
   "metadata": {
    "scrolled": true
   },
   "outputs": [
    {
     "data": {
      "text/html": [
       "<table class=\"simpletable\">\n",
       "<caption>OLS Regression Results</caption>\n",
       "<tr>\n",
       "  <th>Dep. Variable:</th>     <td>total_bookings</td>  <th>  R-squared:         </th> <td>   0.032</td> \n",
       "</tr>\n",
       "<tr>\n",
       "  <th>Model:</th>                   <td>OLS</td>       <th>  Adj. R-squared:    </th> <td>   0.021</td> \n",
       "</tr>\n",
       "<tr>\n",
       "  <th>Method:</th>             <td>Least Squares</td>  <th>  F-statistic:       </th> <td>   2.921</td> \n",
       "</tr>\n",
       "<tr>\n",
       "  <th>Date:</th>             <td>Mon, 22 Jul 2019</td> <th>  Prob (F-statistic):</th>  <td>0.00325</td> \n",
       "</tr>\n",
       "<tr>\n",
       "  <th>Time:</th>                 <td>13:46:11</td>     <th>  Log-Likelihood:    </th> <td> -6431.8</td> \n",
       "</tr>\n",
       "<tr>\n",
       "  <th>No. Observations:</th>      <td>   711</td>      <th>  AIC:               </th> <td>1.288e+04</td>\n",
       "</tr>\n",
       "<tr>\n",
       "  <th>Df Residuals:</th>          <td>   702</td>      <th>  BIC:               </th> <td>1.292e+04</td>\n",
       "</tr>\n",
       "<tr>\n",
       "  <th>Df Model:</th>              <td>     8</td>      <th>                     </th>     <td> </td>    \n",
       "</tr>\n",
       "<tr>\n",
       "  <th>Covariance Type:</th>      <td>nonrobust</td>    <th>                     </th>     <td> </td>    \n",
       "</tr>\n",
       "</table>\n",
       "<table class=\"simpletable\">\n",
       "<tr>\n",
       "            <td></td>               <th>coef</th>     <th>std err</th>      <th>t</th>      <th>P>|t|</th>  <th>[0.025</th>    <th>0.975]</th>  \n",
       "</tr>\n",
       "<tr>\n",
       "  <th>Intercept</th>             <td> 1543.0283</td> <td>  203.621</td> <td>    7.578</td> <td> 0.000</td> <td> 1143.250</td> <td> 1942.807</td>\n",
       "</tr>\n",
       "<tr>\n",
       "  <th>C(country)[T.France]</th>  <td> 1579.6896</td> <td>  388.539</td> <td>    4.066</td> <td> 0.000</td> <td>  816.853</td> <td> 2342.526</td>\n",
       "</tr>\n",
       "<tr>\n",
       "  <th>C(country)[T.Germany]</th> <td>  224.9253</td> <td>  300.912</td> <td>    0.747</td> <td> 0.455</td> <td> -365.870</td> <td>  815.720</td>\n",
       "</tr>\n",
       "<tr>\n",
       "  <th>C(country)[T.Italy]</th>   <td> -187.4262</td> <td>  366.468</td> <td>   -0.511</td> <td> 0.609</td> <td> -906.931</td> <td>  532.079</td>\n",
       "</tr>\n",
       "<tr>\n",
       "  <th>C(country)[T.Japan]</th>   <td>  -23.8944</td> <td>  303.811</td> <td>   -0.079</td> <td> 0.937</td> <td> -620.381</td> <td>  572.592</td>\n",
       "</tr>\n",
       "<tr>\n",
       "  <th>C(country)[T.Spain]</th>   <td>  525.5371</td> <td>  372.181</td> <td>    1.412</td> <td> 0.158</td> <td> -205.185</td> <td> 1256.259</td>\n",
       "</tr>\n",
       "<tr>\n",
       "  <th>C(country)[T.Sweden]</th>  <td>  -25.0300</td> <td>  423.344</td> <td>   -0.059</td> <td> 0.953</td> <td> -856.203</td> <td>  806.143</td>\n",
       "</tr>\n",
       "<tr>\n",
       "  <th>C(country)[T.UK]</th>      <td>  323.2290</td> <td>  262.035</td> <td>    1.234</td> <td> 0.218</td> <td> -191.237</td> <td>  837.695</td>\n",
       "</tr>\n",
       "<tr>\n",
       "  <th>C(country)[T.USA]</th>     <td>   76.7438</td> <td>  277.577</td> <td>    0.276</td> <td> 0.782</td> <td> -468.237</td> <td>  621.725</td>\n",
       "</tr>\n",
       "</table>\n",
       "<table class=\"simpletable\">\n",
       "<tr>\n",
       "  <th>Omnibus:</th>       <td>493.770</td> <th>  Durbin-Watson:     </th> <td>   2.040</td>\n",
       "</tr>\n",
       "<tr>\n",
       "  <th>Prob(Omnibus):</th> <td> 0.000</td>  <th>  Jarque-Bera (JB):  </th> <td>6153.482</td>\n",
       "</tr>\n",
       "<tr>\n",
       "  <th>Skew:</th>          <td> 3.045</td>  <th>  Prob(JB):          </th> <td>    0.00</td>\n",
       "</tr>\n",
       "<tr>\n",
       "  <th>Kurtosis:</th>      <td>16.062</td>  <th>  Cond. No.          </th> <td>    9.12</td>\n",
       "</tr>\n",
       "</table><br/><br/>Warnings:<br/>[1] Standard Errors assume that the covariance matrix of the errors is correctly specified."
      ],
      "text/plain": [
       "<class 'statsmodels.iolib.summary.Summary'>\n",
       "\"\"\"\n",
       "                            OLS Regression Results                            \n",
       "==============================================================================\n",
       "Dep. Variable:         total_bookings   R-squared:                       0.032\n",
       "Model:                            OLS   Adj. R-squared:                  0.021\n",
       "Method:                 Least Squares   F-statistic:                     2.921\n",
       "Date:                Mon, 22 Jul 2019   Prob (F-statistic):            0.00325\n",
       "Time:                        13:46:11   Log-Likelihood:                -6431.8\n",
       "No. Observations:                 711   AIC:                         1.288e+04\n",
       "Df Residuals:                     702   BIC:                         1.292e+04\n",
       "Df Model:                           8                                         \n",
       "Covariance Type:            nonrobust                                         \n",
       "=========================================================================================\n",
       "                            coef    std err          t      P>|t|      [0.025      0.975]\n",
       "-----------------------------------------------------------------------------------------\n",
       "Intercept              1543.0283    203.621      7.578      0.000    1143.250    1942.807\n",
       "C(country)[T.France]   1579.6896    388.539      4.066      0.000     816.853    2342.526\n",
       "C(country)[T.Germany]   224.9253    300.912      0.747      0.455    -365.870     815.720\n",
       "C(country)[T.Italy]    -187.4262    366.468     -0.511      0.609    -906.931     532.079\n",
       "C(country)[T.Japan]     -23.8944    303.811     -0.079      0.937    -620.381     572.592\n",
       "C(country)[T.Spain]     525.5371    372.181      1.412      0.158    -205.185    1256.259\n",
       "C(country)[T.Sweden]    -25.0300    423.344     -0.059      0.953    -856.203     806.143\n",
       "C(country)[T.UK]        323.2290    262.035      1.234      0.218    -191.237     837.695\n",
       "C(country)[T.USA]        76.7438    277.577      0.276      0.782    -468.237     621.725\n",
       "==============================================================================\n",
       "Omnibus:                      493.770   Durbin-Watson:                   2.040\n",
       "Prob(Omnibus):                  0.000   Jarque-Bera (JB):             6153.482\n",
       "Skew:                           3.045   Prob(JB):                         0.00\n",
       "Kurtosis:                      16.062   Cond. No.                         9.12\n",
       "==============================================================================\n",
       "\n",
       "Warnings:\n",
       "[1] Standard Errors assume that the covariance matrix of the errors is correctly specified.\n",
       "\"\"\""
      ]
     },
     "execution_count": 59,
     "metadata": {},
     "output_type": "execute_result"
    }
   ],
   "source": [
    "# Anova Test\n",
    "results = ols('total_bookings ~ C(country)', data=df_s2).fit()\n",
    "results.summary()"
   ]
  },
  {
   "cell_type": "markdown",
   "metadata": {},
   "source": [
    "We're seeing significance with a p value of .003. The largest T value occurs at France with the only significant p value. Let's run a Tukey Test to see which pairings specifically are more significant than others"
   ]
  },
  {
   "cell_type": "code",
   "execution_count": 63,
   "metadata": {
    "scrolled": false
   },
   "outputs": [
    {
     "name": "stdout",
     "output_type": "stream",
     "text": [
      "   Multiple Comparison of Means - Tukey HSD,FWER=0.05   \n",
      "========================================================\n",
      "  group1   group2  meandiff    lower      upper   reject\n",
      "--------------------------------------------------------\n",
      "Australia  France 1579.6896   370.7614  2788.6178  True \n",
      "Australia Germany  224.9253  -711.3548  1161.2055 False \n",
      "Australia  Italy  -187.4262  -1327.6835  952.8311 False \n",
      "Australia  Japan   -23.8944  -969.1947   921.4059 False \n",
      "Australia  Spain   525.5371   -632.496  1683.5702 False \n",
      "Australia  Sweden   -25.03   -1342.2557 1292.1957 False \n",
      "Australia    UK    323.229   -492.0861  1138.5441 False \n",
      "Australia   USA    76.7438   -786.9314   940.419  False \n",
      "  France  Germany -1354.7643 -2593.8478 -115.6807  True \n",
      "  France   Italy  -1767.1158 -3166.7208 -367.5107  True \n",
      "  France   Japan  -1603.584  -2849.4974 -357.6706  True \n",
      "  France   Spain  -1054.1525 -2468.277   359.972  False \n",
      "  France   Sweden -1604.7196 -3151.9077  -57.5314  True \n",
      "  France     UK   -1256.4606 -2406.8719 -106.0492  True \n",
      "  France    USA   -1502.9458 -2688.1219 -317.7697  True \n",
      " Germany   Italy  -412.3515  -1584.5321  759.8291 False \n",
      " Germany   Japan  -248.8197  -1232.3915  734.752  False \n",
      " Germany   Spain   300.6118  -888.8677  1490.0912 False \n",
      " Germany   Sweden -249.9553  -1594.9104 1094.9998 False \n",
      " Germany     UK    98.3037   -761.0911   957.6985 False \n",
      " Germany    USA   -148.1815  -1053.585   757.222  False \n",
      "  Italy    Japan   163.5318  -1015.8662 1342.9297 False \n",
      "  Italy    Spain   712.9633   -642.923  2068.8495 False \n",
      "  Italy    Sweden  162.3962  -1331.7492 1656.5416 False \n",
      "  Italy      UK    510.6552  -567.3641  1588.6745 False \n",
      "  Italy     USA     264.17   -850.8734  1379.2134 False \n",
      "  Japan    Spain   549.4315  -647.1609   1746.024 False \n",
      "  Japan    Sweden  -1.1355   -1352.3855 1350.1144 False \n",
      "  Japan      UK    347.1235  -522.0897  1216.3366 False \n",
      "  Japan     USA    100.6382   -814.09   1015.3664 False \n",
      "  Spain    Sweden -550.5671  -2058.3218  957.1877 False \n",
      "  Spain      UK   -202.3081  -1299.1123  894.4962 False \n",
      "  Spain     USA   -448.7933  -1582.008   684.4215 False \n",
      "  Sweden     UK    348.259   -915.4745  1611.9925 False \n",
      "  Sweden    USA    101.7738  -1193.687  1397.2345 False \n",
      "    UK      USA   -246.4852  -1026.1478  533.1774 False \n",
      "--------------------------------------------------------\n"
     ]
    }
   ],
   "source": [
    "# Tukey HSD Test\n",
    "mc = MultiComparison(df_s2.total_bookings, df_s2.country)\n",
    "mc_results = mc.tukeyhsd()\n",
    "print(mc_results)"
   ]
  },
  {
   "cell_type": "markdown",
   "metadata": {},
   "source": [
    "From here we can infer that France between every country except for Germany, has the largest effect on average order size. There are no other pairings of countries that have an effect, which confirms what we saw in the graph that France has the largest order size of any country on the supplier side.\n",
    "\n",
    "We can explore this a little further by looking at the individual supplier companies to see if there's any effect on the order size there. Let's check to make sure the value counts are usable, and then visualize the data. "
   ]
  },
  {
   "cell_type": "code",
   "execution_count": 64,
   "metadata": {
    "scrolled": true
   },
   "outputs": [
    {
     "data": {
      "text/plain": [
       "Exotic Liquids                            90\n",
       "Pavlova, Ltd.                             81\n",
       "Specialty Biscuits, Ltd.                  67\n",
       "Mayumi's                                  50\n",
       "Cooperativa de Quesos 'Las Cabras'        44\n",
       "Grandma Kelly's Homestead                 41\n",
       "Plutzer Lebensmittelgroßmärkte AG         39\n",
       "Tokyo Traders                             34\n",
       "Formaggi Fortini s.r.l.                   33\n",
       "Heli Süßwaren GmbH & Co. KG               31\n",
       "New Orleans Cajun Delights                30\n",
       "New England Seafood Cannery               29\n",
       "Refrescos Americanas LTDA                 28\n",
       "Norske Meierier                           23\n",
       "G'day, Mate                               22\n",
       "Bigfoot Breweries                         20\n",
       "Aux joyeux ecclésiastiques                18\n",
       "Gai pâturage                              17\n",
       "Nord-Ost-Fisch Handelsgesellschaft mbH    17\n",
       "PB Knäckebröd AB                          16\n",
       "Ma Maison                                 16\n",
       "Svensk Sjöföda AB                         15\n",
       "Leka Trading                              14\n",
       "Pasta Buttini s.r.l.                      13\n",
       "Lyngbysild                                12\n",
       "Forêts d'érables                           9\n",
       "Karkki Oy                                  9\n",
       "Zaanse Snoepfabriek                        8\n",
       "Escargots Nouveaux                         4\n",
       "Name: company_name, dtype: int64"
      ]
     },
     "execution_count": 64,
     "metadata": {},
     "output_type": "execute_result"
    }
   ],
   "source": [
    "df_s.company_name.value_counts()"
   ]
  },
  {
   "cell_type": "markdown",
   "metadata": {},
   "source": [
    "There seem to be quite a few companies that don't have enough data to be considered. Let's only use ones with data above or equal to 30. "
   ]
  },
  {
   "cell_type": "code",
   "execution_count": 84,
   "metadata": {},
   "outputs": [],
   "source": [
    "# Only select data with companies with data larger than 30\n",
    "companies = ['Exotic Liquids', 'Pavlova, Ltd.', 'Specialty Biscuits, Ltd.', \"Mayumi's\", \n",
    "            \"Cooperativa de Quesos 'Las Cabras'\", \"Grandma Kelly's Homestead\", \n",
    "            \"Plutzer Lebensmittelgroßmärkte AG\", \"Tokyo Traders\", \"Formaggi Fortini s.r.l.\",\n",
    "            \"Heli Süßwaren GmbH & Co. KG\", \"New Orleans Cajun Delights\"]\n",
    "df_s3 = df_s[df_s.company_name.isin(companies)]"
   ]
  },
  {
   "cell_type": "code",
   "execution_count": 85,
   "metadata": {},
   "outputs": [
    {
     "data": {
      "text/plain": [
       "Exotic Liquids                        90\n",
       "Pavlova, Ltd.                         81\n",
       "Specialty Biscuits, Ltd.              67\n",
       "Mayumi's                              50\n",
       "Cooperativa de Quesos 'Las Cabras'    44\n",
       "Grandma Kelly's Homestead             41\n",
       "Plutzer Lebensmittelgroßmärkte AG     39\n",
       "Tokyo Traders                         34\n",
       "Formaggi Fortini s.r.l.               33\n",
       "Heli Süßwaren GmbH & Co. KG           31\n",
       "New Orleans Cajun Delights            30\n",
       "Name: company_name, dtype: int64"
      ]
     },
     "execution_count": 85,
     "metadata": {},
     "output_type": "execute_result"
    }
   ],
   "source": [
    "# check to see if worked\n",
    "df_s3.company_name.value_counts()"
   ]
  },
  {
   "cell_type": "code",
   "execution_count": 75,
   "metadata": {
    "scrolled": false
   },
   "outputs": [
    {
     "data": {
      "image/png": "[encoded data removed]",
      "text/plain": [
       "<Figure size 864x864 with 1 Axes>"
      ]
     },
     "metadata": {
      "needs_background": "light"
     },
     "output_type": "display_data"
    }
   ],
   "source": [
    "plt.figure(figsize=(12,12))\n",
    "sns.barplot(y='total_bookings',x='company_name', data=df_s3)\n",
    "plt.title('Distribution of Companies total Bookings')\n",
    "plt.xlabel('Company')\n",
    "plt.ylabel('Average Order Sale');"
   ]
  },
  {
   "cell_type": "markdown",
   "metadata": {},
   "source": [
    "Based off the SE bars, it doesn't look like there will be much significance, but let's run an ANOVA to test anyway:\n",
    "\n",
    "**Null Hypothesis**: Supplier Companies have no effect on the average order sales size\n",
    "\n",
    "**Alternative Hypothesis**: Supplier companies have a significant effect on the average order sales size"
   ]
  },
  {
   "cell_type": "code",
   "execution_count": 86,
   "metadata": {
    "scrolled": true
   },
   "outputs": [
    {
     "data": {
      "text/html": [
       "<table class=\"simpletable\">\n",
       "<caption>OLS Regression Results</caption>\n",
       "<tr>\n",
       "  <th>Dep. Variable:</th>     <td>total_bookings</td>  <th>  R-squared:         </th> <td>   0.030</td>\n",
       "</tr>\n",
       "<tr>\n",
       "  <th>Model:</th>                   <td>OLS</td>       <th>  Adj. R-squared:    </th> <td>   0.012</td>\n",
       "</tr>\n",
       "<tr>\n",
       "  <th>Method:</th>             <td>Least Squares</td>  <th>  F-statistic:       </th> <td>   1.663</td>\n",
       "</tr>\n",
       "<tr>\n",
       "  <th>Date:</th>             <td>Mon, 22 Jul 2019</td> <th>  Prob (F-statistic):</th>  <td>0.0864</td> \n",
       "</tr>\n",
       "<tr>\n",
       "  <th>Time:</th>                 <td>14:14:30</td>     <th>  Log-Likelihood:    </th> <td> -4843.5</td>\n",
       "</tr>\n",
       "<tr>\n",
       "  <th>No. Observations:</th>      <td>   540</td>      <th>  AIC:               </th> <td>   9709.</td>\n",
       "</tr>\n",
       "<tr>\n",
       "  <th>Df Residuals:</th>          <td>   529</td>      <th>  BIC:               </th> <td>   9756.</td>\n",
       "</tr>\n",
       "<tr>\n",
       "  <th>Df Model:</th>              <td>    10</td>      <th>                     </th>     <td> </td>   \n",
       "</tr>\n",
       "<tr>\n",
       "  <th>Covariance Type:</th>      <td>nonrobust</td>    <th>                     </th>     <td> </td>   \n",
       "</tr>\n",
       "</table>\n",
       "<table class=\"simpletable\">\n",
       "<tr>\n",
       "                            <td></td>                              <th>coef</th>     <th>std err</th>      <th>t</th>      <th>P>|t|</th>  <th>[0.025</th>    <th>0.975]</th>  \n",
       "</tr>\n",
       "<tr>\n",
       "  <th>Intercept</th>                                            <td> 2068.5655</td> <td>  289.668</td> <td>    7.141</td> <td> 0.000</td> <td> 1499.524</td> <td> 2637.607</td>\n",
       "</tr>\n",
       "<tr>\n",
       "  <th>C(company_name)[T.Exotic Liquids]</th>                    <td>  -25.0181</td> <td>  353.453</td> <td>   -0.071</td> <td> 0.944</td> <td> -719.363</td> <td>  669.327</td>\n",
       "</tr>\n",
       "<tr>\n",
       "  <th>C(company_name)[T.Formaggi Fortini s.r.l.]</th>           <td> -566.5291</td> <td>  442.476</td> <td>   -1.280</td> <td> 0.201</td> <td>-1435.754</td> <td>  302.696</td>\n",
       "</tr>\n",
       "<tr>\n",
       "  <th>C(company_name)[T.Grandma Kelly's Homestead]</th>         <td>  106.1909</td> <td>  417.079</td> <td>    0.255</td> <td> 0.799</td> <td> -713.144</td> <td>  925.526</td>\n",
       "</tr>\n",
       "<tr>\n",
       "  <th>C(company_name)[T.Heli Süßwaren GmbH & Co. KG]</th>       <td> -469.2309</td> <td>  450.558</td> <td>   -1.041</td> <td> 0.298</td> <td>-1354.334</td> <td>  415.872</td>\n",
       "</tr>\n",
       "<tr>\n",
       "  <th>C(company_name)[T.Mayumi's]</th>                          <td> -964.0395</td> <td>  397.173</td> <td>   -2.427</td> <td> 0.016</td> <td>-1744.270</td> <td> -183.809</td>\n",
       "</tr>\n",
       "<tr>\n",
       "  <th>C(company_name)[T.New Orleans Cajun Delights]</th>        <td> -785.9455</td> <td>  454.942</td> <td>   -1.728</td> <td> 0.085</td> <td>-1679.661</td> <td>  107.770</td>\n",
       "</tr>\n",
       "<tr>\n",
       "  <th>C(company_name)[T.Pavlova, Ltd.]</th>                     <td> -299.6418</td> <td>  359.843</td> <td>   -0.833</td> <td> 0.405</td> <td>-1006.539</td> <td>  407.256</td>\n",
       "</tr>\n",
       "<tr>\n",
       "  <th>C(company_name)[T.Plutzer Lebensmittelgroßmärkte AG]</th> <td>   91.3658</td> <td>  422.579</td> <td>    0.216</td> <td> 0.829</td> <td> -738.773</td> <td>  921.505</td>\n",
       "</tr>\n",
       "<tr>\n",
       "  <th>C(company_name)[T.Specialty Biscuits, Ltd.]</th>          <td> -440.4587</td> <td>  372.842</td> <td>   -1.181</td> <td> 0.238</td> <td>-1172.892</td> <td>  291.974</td>\n",
       "</tr>\n",
       "<tr>\n",
       "  <th>C(company_name)[T.Tokyo Traders]</th>                     <td>   60.2860</td> <td>  438.742</td> <td>    0.137</td> <td> 0.891</td> <td> -801.604</td> <td>  922.176</td>\n",
       "</tr>\n",
       "</table>\n",
       "<table class=\"simpletable\">\n",
       "<tr>\n",
       "  <th>Omnibus:</th>       <td>367.947</td> <th>  Durbin-Watson:     </th> <td>   2.063</td>\n",
       "</tr>\n",
       "<tr>\n",
       "  <th>Prob(Omnibus):</th> <td> 0.000</td>  <th>  Jarque-Bera (JB):  </th> <td>4249.900</td>\n",
       "</tr>\n",
       "<tr>\n",
       "  <th>Skew:</th>          <td> 2.917</td>  <th>  Prob(JB):          </th> <td>    0.00</td>\n",
       "</tr>\n",
       "<tr>\n",
       "  <th>Kurtosis:</th>      <td>15.444</td>  <th>  Cond. No.          </th> <td>    12.7</td>\n",
       "</tr>\n",
       "</table><br/><br/>Warnings:<br/>[1] Standard Errors assume that the covariance matrix of the errors is correctly specified."
      ],
      "text/plain": [
       "<class 'statsmodels.iolib.summary.Summary'>\n",
       "\"\"\"\n",
       "                            OLS Regression Results                            \n",
       "==============================================================================\n",
       "Dep. Variable:         total_bookings   R-squared:                       0.030\n",
       "Model:                            OLS   Adj. R-squared:                  0.012\n",
       "Method:                 Least Squares   F-statistic:                     1.663\n",
       "Date:                Mon, 22 Jul 2019   Prob (F-statistic):             0.0864\n",
       "Time:                        14:14:30   Log-Likelihood:                -4843.5\n",
       "No. Observations:                 540   AIC:                             9709.\n",
       "Df Residuals:                     529   BIC:                             9756.\n",
       "Df Model:                          10                                         \n",
       "Covariance Type:            nonrobust                                         \n",
       "========================================================================================================================\n",
       "                                                           coef    std err          t      P>|t|      [0.025      0.975]\n",
       "------------------------------------------------------------------------------------------------------------------------\n",
       "Intercept                                             2068.5655    289.668      7.141      0.000    1499.524    2637.607\n",
       "C(company_name)[T.Exotic Liquids]                      -25.0181    353.453     -0.071      0.944    -719.363     669.327\n",
       "C(company_name)[T.Formaggi Fortini s.r.l.]            -566.5291    442.476     -1.280      0.201   -1435.754     302.696\n",
       "C(company_name)[T.Grandma Kelly's Homestead]           106.1909    417.079      0.255      0.799    -713.144     925.526\n",
       "C(company_name)[T.Heli Süßwaren GmbH & Co. KG]        -469.2309    450.558     -1.041      0.298   -1354.334     415.872\n",
       "C(company_name)[T.Mayumi's]                           -964.0395    397.173     -2.427      0.016   -1744.270    -183.809\n",
       "C(company_name)[T.New Orleans Cajun Delights]         -785.9455    454.942     -1.728      0.085   -1679.661     107.770\n",
       "C(company_name)[T.Pavlova, Ltd.]                      -299.6418    359.843     -0.833      0.405   -1006.539     407.256\n",
       "C(company_name)[T.Plutzer Lebensmittelgroßmärkte AG]    91.3658    422.579      0.216      0.829    -738.773     921.505\n",
       "C(company_name)[T.Specialty Biscuits, Ltd.]           -440.4587    372.842     -1.181      0.238   -1172.892     291.974\n",
       "C(company_name)[T.Tokyo Traders]                        60.2860    438.742      0.137      0.891    -801.604     922.176\n",
       "==============================================================================\n",
       "Omnibus:                      367.947   Durbin-Watson:                   2.063\n",
       "Prob(Omnibus):                  0.000   Jarque-Bera (JB):             4249.900\n",
       "Skew:                           2.917   Prob(JB):                         0.00\n",
       "Kurtosis:                      15.444   Cond. No.                         12.7\n",
       "==============================================================================\n",
       "\n",
       "Warnings:\n",
       "[1] Standard Errors assume that the covariance matrix of the errors is correctly specified.\n",
       "\"\"\""
      ]
     },
     "execution_count": 86,
     "metadata": {},
     "output_type": "execute_result"
    }
   ],
   "source": [
    "# Anova Test\n",
    "results = ols('total_bookings ~ C(company_name)', data=df_s3).fit()\n",
    "results.summary()"
   ]
  },
  {
   "cell_type": "markdown",
   "metadata": {},
   "source": [
    "As seen from the graph, there is no significant effect of supplier companies on average order size. We do not reject the null"
   ]
  },
  {
   "cell_type": "markdown",
   "metadata": {},
   "source": [
    "# Hypothesis 4: Seasonality  \n",
    "\n",
    "Lastly, I want to explore if there is any effect of the time of sale on the average order size. This requires linking the OrderID table and the Order table in order to get the total bookings for each order and the order date of each order. "
   ]
  },
  {
   "cell_type": "code",
   "execution_count": 89,
   "metadata": {
    "scrolled": false
   },
   "outputs": [
    {
     "name": "stdout",
     "output_type": "stream",
     "text": [
      "2019-07-22 14:21:03,190 INFO sqlalchemy.engine.base.Engine SELECT od.OrderId, SUM(od.UnitPrice*od.Quantity) AS total_bookings, o.OrderDate as date FROM OrderDetail od LEFT JOIN [Order] o ON od.OrderId = o.Id GROUP BY od.OrderId\n",
      "2019-07-22 14:21:03,191 INFO sqlalchemy.engine.base.Engine ()\n"
     ]
    }
   ],
   "source": [
    "# Query for orderid, total bookings, and order date. Connect Order Detail and Order Tables by the OrderId\n",
    "q = '''SELECT od.OrderId, SUM(od.UnitPrice*od.Quantity) AS total_bookings, o.OrderDate as date \\\n",
    "FROM OrderDetail od \\\n",
    "LEFT JOIN [Order] o ON od.OrderId = o.Id \\\n",
    "GROUP BY od.OrderId'''\n",
    "df_seasons = pd.read_sql_query(q, engine)\n"
   ]
  },
  {
   "cell_type": "code",
   "execution_count": 90,
   "metadata": {},
   "outputs": [
    {
     "data": {
      "text/html": [
       "<div>\n",
       "<style scoped>\n",
       "    .dataframe tbody tr th:only-of-type {\n",
       "        vertical-align: middle;\n",
       "    }\n",
       "\n",
       "    .dataframe tbody tr th {\n",
       "        vertical-align: top;\n",
       "    }\n",
       "\n",
       "    .dataframe thead th {\n",
       "        text-align: right;\n",
       "    }\n",
       "</style>\n",
       "<table border=\"1\" class=\"dataframe\">\n",
       "  <thead>\n",
       "    <tr style=\"text-align: right;\">\n",
       "      <th></th>\n",
       "      <th>OrderId</th>\n",
       "      <th>total_bookings</th>\n",
       "      <th>date</th>\n",
       "    </tr>\n",
       "  </thead>\n",
       "  <tbody>\n",
       "    <tr>\n",
       "      <th>0</th>\n",
       "      <td>10248</td>\n",
       "      <td>440.0</td>\n",
       "      <td>2012-07-04</td>\n",
       "    </tr>\n",
       "    <tr>\n",
       "      <th>1</th>\n",
       "      <td>10249</td>\n",
       "      <td>1863.4</td>\n",
       "      <td>2012-07-05</td>\n",
       "    </tr>\n",
       "    <tr>\n",
       "      <th>2</th>\n",
       "      <td>10250</td>\n",
       "      <td>1813.0</td>\n",
       "      <td>2012-07-08</td>\n",
       "    </tr>\n",
       "    <tr>\n",
       "      <th>3</th>\n",
       "      <td>10251</td>\n",
       "      <td>670.8</td>\n",
       "      <td>2012-07-08</td>\n",
       "    </tr>\n",
       "    <tr>\n",
       "      <th>4</th>\n",
       "      <td>10252</td>\n",
       "      <td>3730.0</td>\n",
       "      <td>2012-07-09</td>\n",
       "    </tr>\n",
       "  </tbody>\n",
       "</table>\n",
       "</div>"
      ],
      "text/plain": [
       "   OrderId  total_bookings        date\n",
       "0    10248           440.0  2012-07-04\n",
       "1    10249          1863.4  2012-07-05\n",
       "2    10250          1813.0  2012-07-08\n",
       "3    10251           670.8  2012-07-08\n",
       "4    10252          3730.0  2012-07-09"
      ]
     },
     "execution_count": 90,
     "metadata": {},
     "output_type": "execute_result"
    }
   ],
   "source": [
    "df_seasons.head()"
   ]
  },
  {
   "cell_type": "markdown",
   "metadata": {},
   "source": [
    "Next, to make the date data into something we can work with, let's convert date into a datetime object"
   ]
  },
  {
   "cell_type": "code",
   "execution_count": 91,
   "metadata": {},
   "outputs": [],
   "source": [
    "#change date into datetime object\n",
    "dates = []\n",
    "for i in df_seasons.date:\n",
    "    ii = datetime.datetime.strptime(i, \"%Y-%m-%d\")\n",
    "    dates.append(ii)\n",
    "df_seasons['datetime'] = dates"
   ]
  },
  {
   "cell_type": "markdown",
   "metadata": {},
   "source": [
    "Let's start off by looking onto months to see if there is any monthly seasonality over a year. "
   ]
  },
  {
   "cell_type": "code",
   "execution_count": 94,
   "metadata": {},
   "outputs": [],
   "source": [
    "# Turn order dates into months and days\n",
    "months = []\n",
    "for i in df_seasons.datetime:\n",
    "    months.append(i.month)\n",
    "df_seasons['month'] = months"
   ]
  },
  {
   "cell_type": "code",
   "execution_count": 96,
   "metadata": {
    "scrolled": true
   },
   "outputs": [
    {
     "data": {
      "text/plain": [
       "4     105\n",
       "3     103\n",
       "1      88\n",
       "2      83\n",
       "12     79\n",
       "10     64\n",
       "9      60\n",
       "11     59\n",
       "8      58\n",
       "7      55\n",
       "5      46\n",
       "6      30\n",
       "Name: month, dtype: int64"
      ]
     },
     "execution_count": 96,
     "metadata": {},
     "output_type": "execute_result"
    }
   ],
   "source": [
    "# Check value Counts\n",
    "df_seasons.month.value_counts()"
   ]
  },
  {
   "cell_type": "markdown",
   "metadata": {},
   "source": [
    "They all just make the population cutoff. Let's visualize the data by both the average order size and the density to make sure the distributions look the same"
   ]
  },
  {
   "cell_type": "code",
   "execution_count": 97,
   "metadata": {
    "scrolled": true
   },
   "outputs": [
    {
     "name": "stderr",
     "output_type": "stream",
     "text": [
      "/anaconda3/lib/python3.7/site-packages/scipy/stats/stats.py:1713: FutureWarning: Using a non-tuple sequence for multidimensional indexing is deprecated; use `arr[tuple(seq)]` instead of `arr[seq]`. In the future this will be interpreted as an array index, `arr[np.array(seq)]`, which will result either in an error or a different result.\n",
      "  return np.add.reduce(sorted[indexer] * weights, axis=axis) / sumval\n"
     ]
    },
    {
     "data": {
      "image/png": "[encoded data removed]",
      "text/plain": [
       "<Figure size 864x864 with 1 Axes>"
      ]
     },
     "metadata": {},
     "output_type": "display_data"
    }
   ],
   "source": [
    "plt.figure(figsize=(12,12))\n",
    "sns.barplot(y='total_bookings',x='month', data=df_seasons)\n",
    "plt.title('Distribution of months total Bookings')\n",
    "plt.xlabel('mnonths')\n",
    "plt.ylabel('Average Order Sale');"
   ]
  },
  {
   "cell_type": "code",
   "execution_count": 99,
   "metadata": {
    "scrolled": true
   },
   "outputs": [
    {
     "data": {
      "text/plain": [
       "Text(0, 0.5, 'Density')"
      ]
     },
     "execution_count": 99,
     "metadata": {},
     "output_type": "execute_result"
    },
    {
     "data": {
      "image/png": "[encoded data removed]",
      "text/plain": [
       "<Figure size 864x864 with 1 Axes>"
      ]
     },
     "metadata": {},
     "output_type": "display_data"
    }
   ],
   "source": [
    "# Do overlapping distribtion Plot on monthly data\n",
    "plt.figure(figsize=(12,12))\n",
    "for i in range(0,12):\n",
    "    # Subset to the airline\n",
    "    subset = df_seasons[df_seasons['month'] == i]\n",
    "    \n",
    "    # Draw the density plot\n",
    "    sns.distplot(subset['total_bookings'], hist = False, kde = True,\n",
    "                 kde_kws = {'linewidth': 3},\n",
    "                 label = i)\n",
    "    \n",
    "# Plot formatting\n",
    "plt.legend(prop={'size': 16}, title = 'Month')\n",
    "plt.title('Density Plot with Multiple Months')\n",
    "plt.xlabel('Total Bookings by order')\n",
    "plt.ylabel('Density')"
   ]
  },
  {
   "cell_type": "markdown",
   "metadata": {},
   "source": [
    "Looking at the first visuzliztion, it seems like the summer months have lower on average sales. We can use an ANOVA Test to see if there is any significant effet. We can define our hypothesis as:\n",
    "\n",
    "**Null Hypothesis**: Month of order date has no significant effect on the average order size\n",
    "\n",
    "**Alternate Hypothesis**: Month of order date has a significant effect on the average order size at a p level of .05\n"
   ]
  },
  {
   "cell_type": "code",
   "execution_count": 100,
   "metadata": {
    "scrolled": false
   },
   "outputs": [
    {
     "data": {
      "text/html": [
       "<table class=\"simpletable\">\n",
       "<caption>OLS Regression Results</caption>\n",
       "<tr>\n",
       "  <th>Dep. Variable:</th>     <td>total_bookings</td>  <th>  R-squared:         </th> <td>   0.008</td> \n",
       "</tr>\n",
       "<tr>\n",
       "  <th>Model:</th>                   <td>OLS</td>       <th>  Adj. R-squared:    </th> <td>  -0.005</td> \n",
       "</tr>\n",
       "<tr>\n",
       "  <th>Method:</th>             <td>Least Squares</td>  <th>  F-statistic:       </th> <td>  0.6015</td> \n",
       "</tr>\n",
       "<tr>\n",
       "  <th>Date:</th>             <td>Mon, 22 Jul 2019</td> <th>  Prob (F-statistic):</th>  <td> 0.829</td>  \n",
       "</tr>\n",
       "<tr>\n",
       "  <th>Time:</th>                 <td>14:25:07</td>     <th>  Log-Likelihood:    </th> <td> -7478.7</td> \n",
       "</tr>\n",
       "<tr>\n",
       "  <th>No. Observations:</th>      <td>   830</td>      <th>  AIC:               </th> <td>1.498e+04</td>\n",
       "</tr>\n",
       "<tr>\n",
       "  <th>Df Residuals:</th>          <td>   818</td>      <th>  BIC:               </th> <td>1.504e+04</td>\n",
       "</tr>\n",
       "<tr>\n",
       "  <th>Df Model:</th>              <td>    11</td>      <th>                     </th>     <td> </td>    \n",
       "</tr>\n",
       "<tr>\n",
       "  <th>Covariance Type:</th>      <td>nonrobust</td>    <th>                     </th>     <td> </td>    \n",
       "</tr>\n",
       "</table>\n",
       "<table class=\"simpletable\">\n",
       "<tr>\n",
       "         <td></td>           <th>coef</th>     <th>std err</th>      <th>t</th>      <th>P>|t|</th>  <th>[0.025</th>    <th>0.975]</th>  \n",
       "</tr>\n",
       "<tr>\n",
       "  <th>Intercept</th>      <td> 1903.9491</td> <td>  212.763</td> <td>    8.949</td> <td> 0.000</td> <td> 1486.322</td> <td> 2321.576</td>\n",
       "</tr>\n",
       "<tr>\n",
       "  <th>C(month)[T.2]</th>  <td> -147.6943</td> <td>  305.391</td> <td>   -0.484</td> <td> 0.629</td> <td> -747.136</td> <td>  451.748</td>\n",
       "</tr>\n",
       "<tr>\n",
       "  <th>C(month)[T.3]</th>  <td> -449.5282</td> <td>  289.731</td> <td>   -1.552</td> <td> 0.121</td> <td>-1018.232</td> <td>  119.176</td>\n",
       "</tr>\n",
       "<tr>\n",
       "  <th>C(month)[T.4]</th>  <td>  -91.2829</td> <td>  288.457</td> <td>   -0.316</td> <td> 0.752</td> <td> -657.486</td> <td>  474.920</td>\n",
       "</tr>\n",
       "<tr>\n",
       "  <th>C(month)[T.5]</th>  <td> -236.0717</td> <td>  363.137</td> <td>   -0.650</td> <td> 0.516</td> <td> -948.862</td> <td>  476.719</td>\n",
       "</tr>\n",
       "<tr>\n",
       "  <th>C(month)[T.6]</th>  <td> -601.0158</td> <td>  421.966</td> <td>   -1.424</td> <td> 0.155</td> <td>-1429.279</td> <td>  227.248</td>\n",
       "</tr>\n",
       "<tr>\n",
       "  <th>C(month)[T.7]</th>  <td> -346.5485</td> <td>  343.071</td> <td>   -1.010</td> <td> 0.313</td> <td>-1019.951</td> <td>  326.854</td>\n",
       "</tr>\n",
       "<tr>\n",
       "  <th>C(month)[T.8]</th>  <td> -583.4131</td> <td>  337.567</td> <td>   -1.728</td> <td> 0.084</td> <td>-1246.012</td> <td>   79.186</td>\n",
       "</tr>\n",
       "<tr>\n",
       "  <th>C(month)[T.9]</th>  <td> -447.7988</td> <td>  334.158</td> <td>   -1.340</td> <td> 0.181</td> <td>-1103.708</td> <td>  208.110</td>\n",
       "</tr>\n",
       "<tr>\n",
       "  <th>C(month)[T.10]</th> <td> -161.2600</td> <td>  327.891</td> <td>   -0.492</td> <td> 0.623</td> <td> -804.866</td> <td>  482.346</td>\n",
       "</tr>\n",
       "<tr>\n",
       "  <th>C(month)[T.11]</th> <td> -283.3159</td> <td>  335.838</td> <td>   -0.844</td> <td> 0.399</td> <td> -942.522</td> <td>  375.890</td>\n",
       "</tr>\n",
       "<tr>\n",
       "  <th>C(month)[T.12]</th> <td> -278.2572</td> <td>  309.344</td> <td>   -0.900</td> <td> 0.369</td> <td> -885.459</td> <td>  328.944</td>\n",
       "</tr>\n",
       "</table>\n",
       "<table class=\"simpletable\">\n",
       "<tr>\n",
       "  <th>Omnibus:</th>       <td>636.870</td> <th>  Durbin-Watson:     </th> <td>   2.040</td> \n",
       "</tr>\n",
       "<tr>\n",
       "  <th>Prob(Omnibus):</th> <td> 0.000</td>  <th>  Jarque-Bera (JB):  </th> <td>10981.068</td>\n",
       "</tr>\n",
       "<tr>\n",
       "  <th>Skew:</th>          <td> 3.412</td>  <th>  Prob(JB):          </th> <td>    0.00</td> \n",
       "</tr>\n",
       "<tr>\n",
       "  <th>Kurtosis:</th>      <td>19.461</td>  <th>  Cond. No.          </th> <td>    11.7</td> \n",
       "</tr>\n",
       "</table><br/><br/>Warnings:<br/>[1] Standard Errors assume that the covariance matrix of the errors is correctly specified."
      ],
      "text/plain": [
       "<class 'statsmodels.iolib.summary.Summary'>\n",
       "\"\"\"\n",
       "                            OLS Regression Results                            \n",
       "==============================================================================\n",
       "Dep. Variable:         total_bookings   R-squared:                       0.008\n",
       "Model:                            OLS   Adj. R-squared:                 -0.005\n",
       "Method:                 Least Squares   F-statistic:                    0.6015\n",
       "Date:                Mon, 22 Jul 2019   Prob (F-statistic):              0.829\n",
       "Time:                        14:25:07   Log-Likelihood:                -7478.7\n",
       "No. Observations:                 830   AIC:                         1.498e+04\n",
       "Df Residuals:                     818   BIC:                         1.504e+04\n",
       "Df Model:                          11                                         \n",
       "Covariance Type:            nonrobust                                         \n",
       "==================================================================================\n",
       "                     coef    std err          t      P>|t|      [0.025      0.975]\n",
       "----------------------------------------------------------------------------------\n",
       "Intercept       1903.9491    212.763      8.949      0.000    1486.322    2321.576\n",
       "C(month)[T.2]   -147.6943    305.391     -0.484      0.629    -747.136     451.748\n",
       "C(month)[T.3]   -449.5282    289.731     -1.552      0.121   -1018.232     119.176\n",
       "C(month)[T.4]    -91.2829    288.457     -0.316      0.752    -657.486     474.920\n",
       "C(month)[T.5]   -236.0717    363.137     -0.650      0.516    -948.862     476.719\n",
       "C(month)[T.6]   -601.0158    421.966     -1.424      0.155   -1429.279     227.248\n",
       "C(month)[T.7]   -346.5485    343.071     -1.010      0.313   -1019.951     326.854\n",
       "C(month)[T.8]   -583.4131    337.567     -1.728      0.084   -1246.012      79.186\n",
       "C(month)[T.9]   -447.7988    334.158     -1.340      0.181   -1103.708     208.110\n",
       "C(month)[T.10]  -161.2600    327.891     -0.492      0.623    -804.866     482.346\n",
       "C(month)[T.11]  -283.3159    335.838     -0.844      0.399    -942.522     375.890\n",
       "C(month)[T.12]  -278.2572    309.344     -0.900      0.369    -885.459     328.944\n",
       "==============================================================================\n",
       "Omnibus:                      636.870   Durbin-Watson:                   2.040\n",
       "Prob(Omnibus):                  0.000   Jarque-Bera (JB):            10981.068\n",
       "Skew:                           3.412   Prob(JB):                         0.00\n",
       "Kurtosis:                      19.461   Cond. No.                         11.7\n",
       "==============================================================================\n",
       "\n",
       "Warnings:\n",
       "[1] Standard Errors assume that the covariance matrix of the errors is correctly specified.\n",
       "\"\"\""
      ]
     },
     "execution_count": 100,
     "metadata": {},
     "output_type": "execute_result"
    }
   ],
   "source": [
    "# ANOVA Test\n",
    "results = ols('total_bookings ~ C(month)', data=df_seasons).fit()\n",
    "results.summary()"
   ]
  },
  {
   "cell_type": "markdown",
   "metadata": {},
   "source": [
    "According to the ANOVA, there is no significant effect. Since sales are usually quarterly based, let's add a new column to the dataframe that classifies the order date by the quarter in which it was placed to see if there is any effect of the quarter on Average order size"
   ]
  },
  {
   "cell_type": "code",
   "execution_count": 102,
   "metadata": {},
   "outputs": [],
   "source": [
    "# Add Quarters to see if average order size changes over quarters\n",
    "quarters = []\n",
    "for i in df_seasons.month:\n",
    "    if i in (1,2,3):\n",
    "        q =1\n",
    "    if i in (4, 5, 6):\n",
    "        q = 2\n",
    "    if i in (7,8,9):\n",
    "        q = 3\n",
    "    if i in (10, 11, 12):\n",
    "        q = 4\n",
    "    quarters.append(q)\n",
    "df_seasons['quarter'] = quarters\n",
    "\n",
    "# No need to check value counts since every month was above 30"
   ]
  },
  {
   "cell_type": "code",
   "execution_count": 103,
   "metadata": {
    "scrolled": false
   },
   "outputs": [
    {
     "data": {
      "image/png": "[encoded data removed]",
      "text/plain": [
       "<Figure size 864x864 with 1 Axes>"
      ]
     },
     "metadata": {},
     "output_type": "display_data"
    }
   ],
   "source": [
    "# Visualize the Data\n",
    "plt.figure(figsize=(12,12))\n",
    "sns.barplot(y='total_bookings',x='quarter', data=df_seasons)\n",
    "plt.title('Distribution of Quarters total Bookings')\n",
    "plt.xlabel('Quarter')\n",
    "plt.ylabel('Average Order Sale');"
   ]
  },
  {
   "cell_type": "markdown",
   "metadata": {},
   "source": [
    "It looks like Q3 had a lower than average sales price. Let's see if this is significant by running another ANOVA, since the error bars point to it being within range of insignificance.  \n",
    "\n",
    "**Null Hypothesis**: Changes in quarter has no significant effect on the average order price\n",
    "\n",
    "**Alternate Hypothesis**: Changes in quarter has a significant effect on the average order price"
   ]
  },
  {
   "cell_type": "code",
   "execution_count": 104,
   "metadata": {
    "scrolled": true
   },
   "outputs": [
    {
     "data": {
      "text/html": [
       "<table class=\"simpletable\">\n",
       "<caption>OLS Regression Results</caption>\n",
       "<tr>\n",
       "  <th>Dep. Variable:</th>     <td>total_bookings</td>  <th>  R-squared:         </th> <td>   0.002</td> \n",
       "</tr>\n",
       "<tr>\n",
       "  <th>Model:</th>                   <td>OLS</td>       <th>  Adj. R-squared:    </th> <td>  -0.001</td> \n",
       "</tr>\n",
       "<tr>\n",
       "  <th>Method:</th>             <td>Least Squares</td>  <th>  F-statistic:       </th> <td>  0.6661</td> \n",
       "</tr>\n",
       "<tr>\n",
       "  <th>Date:</th>             <td>Mon, 22 Jul 2019</td> <th>  Prob (F-statistic):</th>  <td> 0.573</td>  \n",
       "</tr>\n",
       "<tr>\n",
       "  <th>Time:</th>                 <td>14:27:36</td>     <th>  Log-Likelihood:    </th> <td> -7481.1</td> \n",
       "</tr>\n",
       "<tr>\n",
       "  <th>No. Observations:</th>      <td>   830</td>      <th>  AIC:               </th> <td>1.497e+04</td>\n",
       "</tr>\n",
       "<tr>\n",
       "  <th>Df Residuals:</th>          <td>   826</td>      <th>  BIC:               </th> <td>1.499e+04</td>\n",
       "</tr>\n",
       "<tr>\n",
       "  <th>Df Model:</th>              <td>     3</td>      <th>                     </th>     <td> </td>    \n",
       "</tr>\n",
       "<tr>\n",
       "  <th>Covariance Type:</th>      <td>nonrobust</td>    <th>                     </th>     <td> </td>    \n",
       "</tr>\n",
       "</table>\n",
       "<table class=\"simpletable\">\n",
       "<tr>\n",
       "         <td></td>            <th>coef</th>     <th>std err</th>      <th>t</th>      <th>P>|t|</th>  <th>[0.025</th>    <th>0.975]</th>  \n",
       "</tr>\n",
       "<tr>\n",
       "  <th>Intercept</th>       <td> 1690.2264</td> <td>  120.330</td> <td>   14.047</td> <td> 0.000</td> <td> 1454.038</td> <td> 1926.415</td>\n",
       "</tr>\n",
       "<tr>\n",
       "  <th>C(quarter)[T.2]</th> <td>    1.1566</td> <td>  190.783</td> <td>    0.006</td> <td> 0.995</td> <td> -373.321</td> <td>  375.634</td>\n",
       "</tr>\n",
       "<tr>\n",
       "  <th>C(quarter)[T.3]</th> <td> -247.3527</td> <td>  193.422</td> <td>   -1.279</td> <td> 0.201</td> <td> -627.008</td> <td>  132.303</td>\n",
       "</tr>\n",
       "<tr>\n",
       "  <th>C(quarter)[T.4]</th> <td>  -28.9436</td> <td>  184.715</td> <td>   -0.157</td> <td> 0.876</td> <td> -391.510</td> <td>  333.622</td>\n",
       "</tr>\n",
       "</table>\n",
       "<table class=\"simpletable\">\n",
       "<tr>\n",
       "  <th>Omnibus:</th>       <td>639.712</td> <th>  Durbin-Watson:     </th> <td>   2.028</td> \n",
       "</tr>\n",
       "<tr>\n",
       "  <th>Prob(Omnibus):</th> <td> 0.000</td>  <th>  Jarque-Bera (JB):  </th> <td>11026.036</td>\n",
       "</tr>\n",
       "<tr>\n",
       "  <th>Skew:</th>          <td> 3.435</td>  <th>  Prob(JB):          </th> <td>    0.00</td> \n",
       "</tr>\n",
       "<tr>\n",
       "  <th>Kurtosis:</th>      <td>19.481</td>  <th>  Cond. No.          </th> <td>    4.28</td> \n",
       "</tr>\n",
       "</table><br/><br/>Warnings:<br/>[1] Standard Errors assume that the covariance matrix of the errors is correctly specified."
      ],
      "text/plain": [
       "<class 'statsmodels.iolib.summary.Summary'>\n",
       "\"\"\"\n",
       "                            OLS Regression Results                            \n",
       "==============================================================================\n",
       "Dep. Variable:         total_bookings   R-squared:                       0.002\n",
       "Model:                            OLS   Adj. R-squared:                 -0.001\n",
       "Method:                 Least Squares   F-statistic:                    0.6661\n",
       "Date:                Mon, 22 Jul 2019   Prob (F-statistic):              0.573\n",
       "Time:                        14:27:36   Log-Likelihood:                -7481.1\n",
       "No. Observations:                 830   AIC:                         1.497e+04\n",
       "Df Residuals:                     826   BIC:                         1.499e+04\n",
       "Df Model:                           3                                         \n",
       "Covariance Type:            nonrobust                                         \n",
       "===================================================================================\n",
       "                      coef    std err          t      P>|t|      [0.025      0.975]\n",
       "-----------------------------------------------------------------------------------\n",
       "Intercept        1690.2264    120.330     14.047      0.000    1454.038    1926.415\n",
       "C(quarter)[T.2]     1.1566    190.783      0.006      0.995    -373.321     375.634\n",
       "C(quarter)[T.3]  -247.3527    193.422     -1.279      0.201    -627.008     132.303\n",
       "C(quarter)[T.4]   -28.9436    184.715     -0.157      0.876    -391.510     333.622\n",
       "==============================================================================\n",
       "Omnibus:                      639.712   Durbin-Watson:                   2.028\n",
       "Prob(Omnibus):                  0.000   Jarque-Bera (JB):            11026.036\n",
       "Skew:                           3.435   Prob(JB):                         0.00\n",
       "Kurtosis:                      19.481   Cond. No.                         4.28\n",
       "==============================================================================\n",
       "\n",
       "Warnings:\n",
       "[1] Standard Errors assume that the covariance matrix of the errors is correctly specified.\n",
       "\"\"\""
      ]
     },
     "execution_count": 104,
     "metadata": {},
     "output_type": "execute_result"
    }
   ],
   "source": [
    "# ANOVA test\n",
    "results = ols('total_bookings ~ C(quarter)', data=df_seasons).fit()\n",
    "results.summary()"
   ]
  },
  {
   "cell_type": "markdown",
   "metadata": {},
   "source": [
    "With a p value at .5, we do not reject the null hypothesis. Although there is an obervational difference between the means, there is no significant effect of quarter on average sales order. Lastly, let's go one more level and see if there is any effect of the day of the week on sales."
   ]
  },
  {
   "cell_type": "code",
   "execution_count": 105,
   "metadata": {},
   "outputs": [],
   "source": [
    "# Do certain days of the week affect sales?\n",
    "dow = []\n",
    "for i in df_seasons.datetime:\n",
    "    w = i.weekday()\n",
    "    dow.append(w)\n",
    "df_seasons['dow'] = dow"
   ]
  },
  {
   "cell_type": "code",
   "execution_count": 106,
   "metadata": {},
   "outputs": [
    {
     "data": {
      "text/plain": [
       "2    168\n",
       "0    168\n",
       "6    165\n",
       "1    165\n",
       "3    164\n",
       "Name: dow, dtype: int64"
      ]
     },
     "execution_count": 106,
     "metadata": {},
     "output_type": "execute_result"
    }
   ],
   "source": [
    "df_seasons.dow.value_counts()"
   ]
  },
  {
   "cell_type": "markdown",
   "metadata": {},
   "source": [
    "Datetime documentation shows that values of 5 & 6 are meant for Saturday and Sunday. Interestingly, we are missing values at 4 & 5 instead. Since this is a sample database, I'm assuming that the missing values (4,5) refer to Saturday and Sunday, and that sales are only placed during the week, making it okay to not have these values. Let's visualize the data to see if we notice any patterns. "
   ]
  },
  {
   "cell_type": "code",
   "execution_count": 83,
   "metadata": {
    "scrolled": true
   },
   "outputs": [
    {
     "data": {
      "image/png": "[encoded data removed]",
      "text/plain": [
       "<Figure size 864x864 with 1 Axes>"
      ]
     },
     "metadata": {},
     "output_type": "display_data"
    }
   ],
   "source": [
    "plt.figure(figsize=(12,12))\n",
    "sns.barplot(y='total_bookings',x='dow', data=df_seasons)\n",
    "plt.title('Distribution of days of week on total Bookings')\n",
    "plt.xlabel('day of week')\n",
    "plt.ylabel('Average Order Sale');"
   ]
  },
  {
   "cell_type": "markdown",
   "metadata": {},
   "source": [
    "Not super confident in there being any real trend here. But let's run an ANOVA to be sure with the following hypotheses:\n",
    "\n",
    "**Null Hypothesis**: There is no significant difference between the days of the week and the average order size\n",
    "\n",
    "**Alternative Hypothesis**: the day of the week has a significant effect on the average order size"
   ]
  },
  {
   "cell_type": "code",
   "execution_count": 107,
   "metadata": {},
   "outputs": [
    {
     "data": {
      "text/html": [
       "<table class=\"simpletable\">\n",
       "<caption>OLS Regression Results</caption>\n",
       "<tr>\n",
       "  <th>Dep. Variable:</th>     <td>total_bookings</td>  <th>  R-squared:         </th> <td>   0.001</td> \n",
       "</tr>\n",
       "<tr>\n",
       "  <th>Model:</th>                   <td>OLS</td>       <th>  Adj. R-squared:    </th> <td>  -0.004</td> \n",
       "</tr>\n",
       "<tr>\n",
       "  <th>Method:</th>             <td>Least Squares</td>  <th>  F-statistic:       </th> <td>  0.2472</td> \n",
       "</tr>\n",
       "<tr>\n",
       "  <th>Date:</th>             <td>Mon, 22 Jul 2019</td> <th>  Prob (F-statistic):</th>  <td> 0.911</td>  \n",
       "</tr>\n",
       "<tr>\n",
       "  <th>Time:</th>                 <td>14:30:17</td>     <th>  Log-Likelihood:    </th> <td> -7481.6</td> \n",
       "</tr>\n",
       "<tr>\n",
       "  <th>No. Observations:</th>      <td>   830</td>      <th>  AIC:               </th> <td>1.497e+04</td>\n",
       "</tr>\n",
       "<tr>\n",
       "  <th>Df Residuals:</th>          <td>   825</td>      <th>  BIC:               </th> <td>1.500e+04</td>\n",
       "</tr>\n",
       "<tr>\n",
       "  <th>Df Model:</th>              <td>     4</td>      <th>                     </th>     <td> </td>    \n",
       "</tr>\n",
       "<tr>\n",
       "  <th>Covariance Type:</th>      <td>nonrobust</td>    <th>                     </th>     <td> </td>    \n",
       "</tr>\n",
       "</table>\n",
       "<table class=\"simpletable\">\n",
       "<tr>\n",
       "       <td></td>          <th>coef</th>     <th>std err</th>      <th>t</th>      <th>P>|t|</th>  <th>[0.025</th>    <th>0.975]</th>  \n",
       "</tr>\n",
       "<tr>\n",
       "  <th>Intercept</th>   <td> 1619.7218</td> <td>  153.859</td> <td>   10.527</td> <td> 0.000</td> <td> 1317.721</td> <td> 1921.723</td>\n",
       "</tr>\n",
       "<tr>\n",
       "  <th>C(dow)[T.1]</th> <td>   -4.2581</td> <td>  218.576</td> <td>   -0.019</td> <td> 0.984</td> <td> -433.289</td> <td>  424.773</td>\n",
       "</tr>\n",
       "<tr>\n",
       "  <th>C(dow)[T.2]</th> <td>  -95.0596</td> <td>  217.589</td> <td>   -0.437</td> <td> 0.662</td> <td> -522.153</td> <td>  332.034</td>\n",
       "</tr>\n",
       "<tr>\n",
       "  <th>C(dow)[T.3]</th> <td>  114.3857</td> <td>  218.912</td> <td>    0.523</td> <td> 0.601</td> <td> -315.304</td> <td>  544.076</td>\n",
       "</tr>\n",
       "<tr>\n",
       "  <th>C(dow)[T.6]</th> <td>   48.5018</td> <td>  218.576</td> <td>    0.222</td> <td> 0.824</td> <td> -380.529</td> <td>  477.533</td>\n",
       "</tr>\n",
       "</table>\n",
       "<table class=\"simpletable\">\n",
       "<tr>\n",
       "  <th>Omnibus:</th>       <td>642.575</td> <th>  Durbin-Watson:     </th> <td>   2.023</td> \n",
       "</tr>\n",
       "<tr>\n",
       "  <th>Prob(Omnibus):</th> <td> 0.000</td>  <th>  Jarque-Bera (JB):  </th> <td>11171.031</td>\n",
       "</tr>\n",
       "<tr>\n",
       "  <th>Skew:</th>          <td> 3.455</td>  <th>  Prob(JB):          </th> <td>    0.00</td> \n",
       "</tr>\n",
       "<tr>\n",
       "  <th>Kurtosis:</th>      <td>19.592</td>  <th>  Cond. No.          </th> <td>    5.80</td> \n",
       "</tr>\n",
       "</table><br/><br/>Warnings:<br/>[1] Standard Errors assume that the covariance matrix of the errors is correctly specified."
      ],
      "text/plain": [
       "<class 'statsmodels.iolib.summary.Summary'>\n",
       "\"\"\"\n",
       "                            OLS Regression Results                            \n",
       "==============================================================================\n",
       "Dep. Variable:         total_bookings   R-squared:                       0.001\n",
       "Model:                            OLS   Adj. R-squared:                 -0.004\n",
       "Method:                 Least Squares   F-statistic:                    0.2472\n",
       "Date:                Mon, 22 Jul 2019   Prob (F-statistic):              0.911\n",
       "Time:                        14:30:17   Log-Likelihood:                -7481.6\n",
       "No. Observations:                 830   AIC:                         1.497e+04\n",
       "Df Residuals:                     825   BIC:                         1.500e+04\n",
       "Df Model:                           4                                         \n",
       "Covariance Type:            nonrobust                                         \n",
       "===============================================================================\n",
       "                  coef    std err          t      P>|t|      [0.025      0.975]\n",
       "-------------------------------------------------------------------------------\n",
       "Intercept    1619.7218    153.859     10.527      0.000    1317.721    1921.723\n",
       "C(dow)[T.1]    -4.2581    218.576     -0.019      0.984    -433.289     424.773\n",
       "C(dow)[T.2]   -95.0596    217.589     -0.437      0.662    -522.153     332.034\n",
       "C(dow)[T.3]   114.3857    218.912      0.523      0.601    -315.304     544.076\n",
       "C(dow)[T.6]    48.5018    218.576      0.222      0.824    -380.529     477.533\n",
       "==============================================================================\n",
       "Omnibus:                      642.575   Durbin-Watson:                   2.023\n",
       "Prob(Omnibus):                  0.000   Jarque-Bera (JB):            11171.031\n",
       "Skew:                           3.455   Prob(JB):                         0.00\n",
       "Kurtosis:                      19.592   Cond. No.                         5.80\n",
       "==============================================================================\n",
       "\n",
       "Warnings:\n",
       "[1] Standard Errors assume that the covariance matrix of the errors is correctly specified.\n",
       "\"\"\""
      ]
     },
     "execution_count": 107,
     "metadata": {},
     "output_type": "execute_result"
    }
   ],
   "source": [
    "#ANOVA Test\n",
    "results = ols('total_bookings ~ C(dow)', data=df_seasons).fit()\n",
    "results.summary()"
   ]
  },
  {
   "cell_type": "markdown",
   "metadata": {},
   "source": [
    "Since the p value of the F statistic is so high, we do not reject the null and conclude that day of the week has no significant effect on the average order size. We have found no significant trends at the montly, quarterly, or weekly level on the average order size"
   ]
  }
 ],
 "metadata": {
  "kernelspec": {
   "display_name": "Python 3",
   "language": "python",
   "name": "python3"
  },
  "language_info": {
   "codemirror_mode": {
    "name": "ipython",
    "version": 3
   },
   "file_extension": ".py",
   "mimetype": "text/x-python",
   "name": "python",
   "nbconvert_exporter": "python",
   "pygments_lexer": "ipython3",
   "version": "3.7.1"
  }
 },
 "nbformat": 4,
 "nbformat_minor": 2
}
